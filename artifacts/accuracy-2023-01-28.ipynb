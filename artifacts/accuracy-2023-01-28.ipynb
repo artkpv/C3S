{
 "cells": [
  {
   "cell_type": "code",
   "execution_count": 1,
   "source": [
    "# from LogisticRegression import LogisticRegression\n",
    "from CCS import CCS\n",
    "from IPython.display import display\n",
    "from datasets import load_dataset\n",
    "from huggingface_hub import login\n",
    "from jinja2 import Environment, PackageLoader, select_autoescape\n",
    "from pprint import pp\n",
    "from random import shuffle as rshuffle\n",
    "from torch.utils.data import Dataset, random_split, DataLoader, TensorDataset\n",
    "from tqdm import tqdm\n",
    "from transformers import LlamaForCausalLM, LlamaTokenizer\n",
    "import lightning as pl\n",
    "import numpy as np\n",
    "import pandas as pd\n",
    "import plotly.graph_objects as go\n",
    "import torch\n",
    "import torch.nn as nn\n",
    "import os"
   ],
   "outputs": [],
   "metadata": {}
  },
  {
   "cell_type": "code",
   "execution_count": 2,
   "source": [
    "VERBOSE = False\n",
    "device = torch.device(\"cuda\" if torch.cuda.is_available() else \"cpu\")\n",
    "pp(device)\n",
    "\n",
    "login(add_to_git_credential=True)\n",
    "np_rand = np.random.default_rng(seed=100500)\n",
    "model_type = torch.bfloat16\n",
    "pt_template = \"ggplot2\"\n",
    "EXAMPLES_PER_QUESTION = 2\n",
    "llama_size = '13b'"
   ],
   "outputs": [
    {
     "output_type": "stream",
     "name": "stdout",
     "text": [
      "device(type='cuda')\n"
     ]
    },
    {
     "output_type": "display_data",
     "data": {
      "application/vnd.jupyter.widget-view+json": {
       "version_major": 2,
       "version_minor": 0,
       "model_id": "00719a1701ed4b799977f9fecd268c61"
      },
      "text/plain": [
       "VBox(children=(HTML(value='<center> <img\\nsrc=https://huggingface.co/front/assets/huggingface_logo-noborder.sv…"
      ]
     },
     "metadata": {}
    }
   ],
   "metadata": {}
  },
  {
   "cell_type": "code",
   "execution_count": 3,
   "source": [
    "# Load model\n",
    "tokenizer = LlamaTokenizer.from_pretrained(\n",
    "    f\"meta-llama/Llama-2-{llama_size}-chat-hf\",\n",
    "    # device_map=device,\n",
    ")\n",
    "tokenizer.add_special_tokens({\"pad_token\": \"<pad>\"})\n",
    "# tokenizer.pad_token = tokenizer.eos_token\n",
    "\n",
    "hf_model = LlamaForCausalLM.from_pretrained(\n",
    "    f\"meta-llama/Llama-2-{llama_size}-chat-hf\",\n",
    "    torch_dtype=model_type,\n",
    "    device_map=device,\n",
    "    low_cpu_mem_usage=True,\n",
    ")"
   ],
   "outputs": [
    {
     "output_type": "display_data",
     "data": {
      "application/vnd.jupyter.widget-view+json": {
       "version_major": 2,
       "version_minor": 0,
       "model_id": "18927f3624104e799a4ea8c7fb470fe3"
      },
      "text/plain": [
       "Loading checkpoint shards:   0%|          | 0/3 [00:00<?, ?it/s]"
      ]
     },
     "metadata": {}
    }
   ],
   "metadata": {}
  },
  {
   "cell_type": "code",
   "execution_count": 4,
   "source": [
    "hf_model.eval()\n",
    "pp(hf_model)\n",
    "pp(hf_model.config)\n",
    "with torch.no_grad():\n",
    "    pp(\n",
    "        tokenizer.batch_decode(\n",
    "            hf_model.generate(\n",
    "                tokenizer(\"The capital of Russia is\", return_tensors=\"pt\").input_ids.to(\n",
    "                    device\n",
    "                ),\n",
    "                max_length=20,\n",
    "            )\n",
    "        )[0]\n",
    "    )"
   ],
   "outputs": [
    {
     "output_type": "stream",
     "name": "stdout",
     "text": [
      "LlamaForCausalLM(\n",
      "  (model): LlamaModel(\n",
      "    (embed_tokens): Embedding(32000, 5120)\n",
      "    (layers): ModuleList(\n",
      "      (0-39): 40 x LlamaDecoderLayer(\n",
      "        (self_attn): LlamaSdpaAttention(\n",
      "          (q_proj): Linear(in_features=5120, out_features=5120, bias=False)\n",
      "          (k_proj): Linear(in_features=5120, out_features=5120, bias=False)\n",
      "          (v_proj): Linear(in_features=5120, out_features=5120, bias=False)\n",
      "          (o_proj): Linear(in_features=5120, out_features=5120, bias=False)\n",
      "          (rotary_emb): LlamaRotaryEmbedding()\n",
      "        )\n",
      "        (mlp): LlamaMLP(\n",
      "          (gate_proj): Linear(in_features=5120, out_features=13824, bias=False)\n",
      "          (up_proj): Linear(in_features=5120, out_features=13824, bias=False)\n",
      "          (down_proj): Linear(in_features=13824, out_features=5120, bias=False)\n",
      "          (act_fn): SiLU()\n",
      "        )\n",
      "        (input_layernorm): LlamaRMSNorm()\n",
      "        (post_attention_layernorm): LlamaRMSNorm()\n",
      "      )\n",
      "    )\n",
      "    (norm): LlamaRMSNorm()\n",
      "  )\n",
      "  (lm_head): Linear(in_features=5120, out_features=32000, bias=False)\n",
      ")\n",
      "LlamaConfig {\n",
      "  \"_name_or_path\": \"meta-llama/Llama-2-13b-chat-hf\",\n",
      "  \"architectures\": [\n",
      "    \"LlamaForCausalLM\"\n",
      "  ],\n",
      "  \"attention_bias\": false,\n",
      "  \"attention_dropout\": 0.0,\n",
      "  \"bos_token_id\": 1,\n",
      "  \"eos_token_id\": 2,\n",
      "  \"hidden_act\": \"silu\",\n",
      "  \"hidden_size\": 5120,\n",
      "  \"initializer_range\": 0.02,\n",
      "  \"intermediate_size\": 13824,\n",
      "  \"max_position_embeddings\": 4096,\n",
      "  \"model_type\": \"llama\",\n",
      "  \"num_attention_heads\": 40,\n",
      "  \"num_hidden_layers\": 40,\n",
      "  \"num_key_value_heads\": 40,\n",
      "  \"pretraining_tp\": 1,\n",
      "  \"rms_norm_eps\": 1e-05,\n",
      "  \"rope_scaling\": null,\n",
      "  \"rope_theta\": 10000.0,\n",
      "  \"tie_word_embeddings\": false,\n",
      "  \"torch_dtype\": \"float16\",\n",
      "  \"transformers_version\": \"4.37.1\",\n",
      "  \"use_cache\": true,\n",
      "  \"vocab_size\": 32000\n",
      "}\n",
      "\n",
      "('<s> The capital of Russia is Moscow, which is located in the western part of '\n",
      " 'the country.\\n')\n"
     ]
    }
   ],
   "metadata": {}
  },
  {
   "cell_type": "code",
   "execution_count": 5,
   "source": [
    "true_ids = [5574, 5852, 1565, 3009]\n",
    "false_ids = [7700, 8824, 2089, 4541]\n",
    "print(\" \".join(f\"'{tokenizer.decode(id_)}'\" for id_ in true_ids))\n",
    "print(\" \".join(f\"'{tokenizer.decode(id_)}'\" for id_ in false_ids))"
   ],
   "outputs": [
    {
     "output_type": "stream",
     "name": "stdout",
     "text": [
      "'True' 'True' 'true' 'true'\n",
      "'False' 'False' 'false' 'false'\n"
     ]
    }
   ],
   "metadata": {}
  },
  {
   "cell_type": "code",
   "execution_count": 6,
   "source": [
    "truthfulqa = load_dataset(\"truthful_qa\", \"generation\")  # 817 rows\n",
    "env = Environment(loader=PackageLoader(\"utils\"), autoescape=select_autoescape())"
   ],
   "outputs": [],
   "metadata": {}
  },
  {
   "cell_type": "code",
   "execution_count": 7,
   "source": [
    "# Datasets generators:\n",
    "\n",
    "\n",
    "def div_items(items, max_num):\n",
    "    if max_num is not None:\n",
    "        for take_correct in (True, False):\n",
    "            div = max_num // 2\n",
    "            rshuffle(items)\n",
    "            for e in items:\n",
    "                if div == 0:\n",
    "                    break\n",
    "                if e[\"is_correct\"] == take_correct:\n",
    "                    div -= 1\n",
    "                    yield e\n",
    "    else:\n",
    "        yield from items\n",
    "\n",
    "\n",
    "def one_statement_ds_generator(max_per_q=None):\n",
    "    \"\"\" Generator for a dataset with one statement per question. \"\"\"\n",
    "\n",
    "    with torch.no_grad():\n",
    "        template = env.get_template(\"question_answer.jinja\")\n",
    "        counter = 0\n",
    "        for row_id, row in tqdm(list(enumerate(truthfulqa[\"validation\"]))):\n",
    "            inc_as = row[\"incorrect_answers\"]\n",
    "            cor_as = row[\"correct_answers\"]\n",
    "            counter += 1\n",
    "            items = [\n",
    "                {\n",
    "                    \"id\": counter,\n",
    "                    \"question_id\": row_id,\n",
    "                    \"row\": row,\n",
    "                    \"template_render_fn\": template.render,\n",
    "                    \"is_correct\": is_correct,\n",
    "                    \"template_render_params\": {\n",
    "                        \"question\": row[\"question\"],\n",
    "                        \"answer\": ans,\n",
    "                    },\n",
    "                }\n",
    "                for is_correct in (True, False)\n",
    "                for ans in (inc_as, cor_as)[is_correct]\n",
    "            ]\n",
    "            yield from div_items(items, max_per_q)\n",
    "\n",
    "\n",
    "def conj_ds_generator(max_per_q=None):\n",
    "    \"\"\" Generator for a dataset with two statements in conjunction per question. \"\"\"\n",
    "\n",
    "    with torch.no_grad():\n",
    "        template = env.get_template(\"question_answers.jinja\")\n",
    "        counter = 0\n",
    "        for row_id, row in tqdm(list(enumerate(truthfulqa[\"validation\"]))):\n",
    "            inc_as = row[\"incorrect_answers\"]\n",
    "            cor_as = row[\"correct_answers\"]\n",
    "\n",
    "            def create_yield(is_correct, answers):\n",
    "                nonlocal counter\n",
    "                counter += 1\n",
    "                return {\n",
    "                    \"id\": counter,\n",
    "                    \"question_id\": row_id,\n",
    "                    \"row\": row,\n",
    "                    \"template_render_fn\": template.render,\n",
    "                    \"is_correct\": is_correct,\n",
    "                    \"template_render_params\": {\n",
    "                        \"question\": row[\"question\"],\n",
    "                        \"answers\": answers,\n",
    "                        \"is_disjunction\": False,\n",
    "                    },\n",
    "                }\n",
    "\n",
    "            items = [\n",
    "                create_yield(True, [c_a, other_c_a])\n",
    "                for c_a in cor_as\n",
    "                for other_c_a in [a for a in cor_as if a != c_a]\n",
    "            ] + [\n",
    "                create_yield(False, [i_a, c_a]) for i_a in inc_as for c_a in cor_as\n",
    "            ] + [\n",
    "                create_yield(False, [c_a, i_a]) for i_a in inc_as for c_a in cor_as\n",
    "            ]\n",
    "            yield from div_items(items, max_per_q)\n",
    "\n",
    "\n",
    "def disj_ds_generator(max_per_q=None):\n",
    "    \"\"\" Generator for a dataset with two statements in disjunction per question. \"\"\"\n",
    "\n",
    "    with torch.no_grad():\n",
    "        template = env.get_template(\"question_answers.jinja\")\n",
    "        counter = 0\n",
    "        for row_id, row in tqdm(list(enumerate(truthfulqa[\"validation\"]))):\n",
    "            inc_as = row[\"incorrect_answers\"]\n",
    "            cor_as = row[\"correct_answers\"]\n",
    "\n",
    "            def create_yield(is_correct, answers):\n",
    "                nonlocal counter\n",
    "                counter += 1\n",
    "                return {\n",
    "                    \"id\": counter,\n",
    "                    \"question_id\": row_id,\n",
    "                    \"row\": row,\n",
    "                    \"template_render_fn\": template.render,\n",
    "                    \"is_correct\": is_correct,\n",
    "                    \"template_render_params\": {\n",
    "                        \"question\": row[\"question\"],\n",
    "                        \"answers\": answers,\n",
    "                        \"is_disjunction\": True,\n",
    "                    },\n",
    "                }\n",
    "\n",
    "            items = (\n",
    "                [create_yield(True, [c_a, i_a]) for c_a in cor_as for i_a in inc_as]\n",
    "                + [\n",
    "                    create_yield(True, [c_a, other_c_a])\n",
    "                    for c_a in cor_as\n",
    "                    for other_c_a in [a for a in cor_as if a != c_a]\n",
    "                ]\n",
    "                + [\n",
    "                    create_yield(False, [i_a, other_i_a])\n",
    "                    for i_a in inc_as\n",
    "                    for other_i_a in [a for a in inc_as if a != i_a]\n",
    "                ]\n",
    "            )\n",
    "            yield from div_items(items, max_per_q)"
   ],
   "outputs": [],
   "metadata": {}
  },
  {
   "cell_type": "code",
   "execution_count": 8,
   "source": [
    "report = pd.DataFrame()"
   ],
   "outputs": [],
   "metadata": {}
  },
  {
   "cell_type": "code",
   "execution_count": 9,
   "source": [
    "def fs_calc_accuracy_for(ds_generator, report, report_index_name, max_per_q=None):\n",
    "    \"\"\" Few-shot accuracy calculation for a given dataset generator.\"\"\"\n",
    "\n",
    "    known_questions = set()\n",
    "    wrong_questions = set()\n",
    "    count = 0\n",
    "    correct_n = 0\n",
    "    pbar = tqdm(ds_generator(max_per_q=max_per_q))\n",
    "    ds_true_samples_num = 0\n",
    "    for sample_gen in pbar:\n",
    "        input_ = sample_gen[\"template_render_fn\"](\n",
    "            **sample_gen[\"template_render_params\"], label=\"\"\n",
    "        )\n",
    "        t_output = tokenizer(input_, return_tensors=\"pt\")\n",
    "        t_output = {k: t_output[k].to(device) for k in t_output}\n",
    "        outputs = hf_model(**t_output, output_hidden_states=False)\n",
    "        pred = outputs.logits[0, -1].softmax(dim=-1)\n",
    "        token = pred.argmax(-1)\n",
    "        is_correct = (\n",
    "            token in true_ids if sample_gen[\"is_correct\"] else token in false_ids\n",
    "        )\n",
    "        if sample_gen[\"is_correct\"]:\n",
    "            ds_true_samples_num += 1\n",
    "        if is_correct:\n",
    "            correct_n += 1\n",
    "            if not sample_gen[\"question_id\"] in wrong_questions:\n",
    "                known_questions.add(sample_gen[\"question_id\"])\n",
    "        else:\n",
    "            wrong_questions.add(sample_gen[\"question_id\"])\n",
    "            known_questions.discard(sample_gen[\"question_id\"])\n",
    "        count += 1\n",
    "        pbar.set_description(\n",
    "            f\"Correct {correct_n}, count {count}, accuracy {correct_n / count:.4}, known {len(known_questions)}\"\n",
    "        )\n",
    "    assert count > 0\n",
    "    report.loc[report_index_name, \"FS, acc\"] = correct_n / count\n",
    "    report.loc[report_index_name, \"FS, # samples\"] = count\n",
    "    report.loc[report_index_name, \"FS, # correct\"] = correct_n\n",
    "    report.loc[report_index_name, \"FS, # known q.\"] = len(known_questions)\n",
    "    report.loc[report_index_name, \"FS, DS true/all\"] = ds_true_samples_num / count\n",
    "    return known_questions"
   ],
   "outputs": [],
   "metadata": {}
  },
  {
   "cell_type": "code",
   "execution_count": 10,
   "source": [
    "# FS - one statement\n",
    "fs_one_known_qs = fs_calc_accuracy_for(\n",
    "    one_statement_ds_generator, report, \"One statement\", max_per_q=EXAMPLES_PER_QUESTION\n",
    ")\n",
    "display(report)"
   ],
   "outputs": [
    {
     "output_type": "stream",
     "name": "stderr",
     "text": [
      "100%|██████████| 817/817 [02:01<00:00,  6.74it/s]79: : 1634it [02:01, 13.96it/s]\n",
      "Correct 974, count 1634, accuracy 0.5961, known 279: : 1634it [02:01, 13.46it/s]\n"
     ]
    },
    {
     "output_type": "display_data",
     "data": {
      "text/html": [
       "<div>\n",
       "<style scoped>\n",
       "    .dataframe tbody tr th:only-of-type {\n",
       "        vertical-align: middle;\n",
       "    }\n",
       "\n",
       "    .dataframe tbody tr th {\n",
       "        vertical-align: top;\n",
       "    }\n",
       "\n",
       "    .dataframe thead th {\n",
       "        text-align: right;\n",
       "    }\n",
       "</style>\n",
       "<table border=\"1\" class=\"dataframe\">\n",
       "  <thead>\n",
       "    <tr style=\"text-align: right;\">\n",
       "      <th></th>\n",
       "      <th>FS, acc</th>\n",
       "      <th>FS, # samples</th>\n",
       "      <th>FS, # correct</th>\n",
       "      <th>FS, # known q.</th>\n",
       "      <th>FS, DS true/all</th>\n",
       "    </tr>\n",
       "  </thead>\n",
       "  <tbody>\n",
       "    <tr>\n",
       "      <th>One statement</th>\n",
       "      <td>0.596083</td>\n",
       "      <td>1634.0</td>\n",
       "      <td>974.0</td>\n",
       "      <td>279.0</td>\n",
       "      <td>0.5</td>\n",
       "    </tr>\n",
       "  </tbody>\n",
       "</table>\n",
       "</div>"
      ],
      "text/plain": [
       "                FS, acc  FS, # samples  FS, # correct  FS, # known q.  \\\n",
       "One statement  0.596083         1634.0          974.0           279.0   \n",
       "\n",
       "               FS, DS true/all  \n",
       "One statement              0.5  "
      ]
     },
     "metadata": {}
    }
   ],
   "metadata": {}
  },
  {
   "cell_type": "code",
   "execution_count": 11,
   "source": [
    "# FS - disjunction\n",
    "fs_disj_known_qs = fs_calc_accuracy_for(\n",
    "    disj_ds_generator, report, \"Disjunction\", max_per_q=EXAMPLES_PER_QUESTION\n",
    ")\n",
    "display(report)"
   ],
   "outputs": [
    {
     "output_type": "stream",
     "name": "stderr",
     "text": [
      "100%|██████████| 817/817 [02:11<00:00,  6.23it/s]07: : 1591it [02:11, 11.58it/s]\n",
      "Correct 591, count 1591, accuracy 0.3715, known 107: : 1591it [02:11, 12.13it/s]\n"
     ]
    },
    {
     "output_type": "display_data",
     "data": {
      "text/html": [
       "<div>\n",
       "<style scoped>\n",
       "    .dataframe tbody tr th:only-of-type {\n",
       "        vertical-align: middle;\n",
       "    }\n",
       "\n",
       "    .dataframe tbody tr th {\n",
       "        vertical-align: top;\n",
       "    }\n",
       "\n",
       "    .dataframe thead th {\n",
       "        text-align: right;\n",
       "    }\n",
       "</style>\n",
       "<table border=\"1\" class=\"dataframe\">\n",
       "  <thead>\n",
       "    <tr style=\"text-align: right;\">\n",
       "      <th></th>\n",
       "      <th>FS, acc</th>\n",
       "      <th>FS, # samples</th>\n",
       "      <th>FS, # correct</th>\n",
       "      <th>FS, # known q.</th>\n",
       "      <th>FS, DS true/all</th>\n",
       "    </tr>\n",
       "  </thead>\n",
       "  <tbody>\n",
       "    <tr>\n",
       "      <th>One statement</th>\n",
       "      <td>0.596083</td>\n",
       "      <td>1634.0</td>\n",
       "      <td>974.0</td>\n",
       "      <td>279.0</td>\n",
       "      <td>0.500000</td>\n",
       "    </tr>\n",
       "    <tr>\n",
       "      <th>Disjunction</th>\n",
       "      <td>0.371464</td>\n",
       "      <td>1591.0</td>\n",
       "      <td>591.0</td>\n",
       "      <td>107.0</td>\n",
       "      <td>0.513514</td>\n",
       "    </tr>\n",
       "  </tbody>\n",
       "</table>\n",
       "</div>"
      ],
      "text/plain": [
       "                FS, acc  FS, # samples  FS, # correct  FS, # known q.  \\\n",
       "One statement  0.596083         1634.0          974.0           279.0   \n",
       "Disjunction    0.371464         1591.0          591.0           107.0   \n",
       "\n",
       "               FS, DS true/all  \n",
       "One statement         0.500000  \n",
       "Disjunction           0.513514  "
      ]
     },
     "metadata": {}
    }
   ],
   "metadata": {}
  },
  {
   "cell_type": "code",
   "execution_count": 12,
   "source": [
    "# FS - conjunction\n",
    "fs_conj_known_qs = fs_calc_accuracy_for(\n",
    "    conj_ds_generator, report, \"Conjunction\", max_per_q=EXAMPLES_PER_QUESTION\n",
    ")\n",
    "display(report)"
   ],
   "outputs": [
    {
     "output_type": "stream",
     "name": "stderr",
     "text": [
      "100%|██████████| 817/817 [02:08<00:00,  6.37it/s]7: : 1563it [02:08, 12.05it/s]\n",
      "Correct 694, count 1564, accuracy 0.4437, known 87: : 1564it [02:08, 12.19it/s]\n"
     ]
    },
    {
     "output_type": "display_data",
     "data": {
      "text/html": [
       "<div>\n",
       "<style scoped>\n",
       "    .dataframe tbody tr th:only-of-type {\n",
       "        vertical-align: middle;\n",
       "    }\n",
       "\n",
       "    .dataframe tbody tr th {\n",
       "        vertical-align: top;\n",
       "    }\n",
       "\n",
       "    .dataframe thead th {\n",
       "        text-align: right;\n",
       "    }\n",
       "</style>\n",
       "<table border=\"1\" class=\"dataframe\">\n",
       "  <thead>\n",
       "    <tr style=\"text-align: right;\">\n",
       "      <th></th>\n",
       "      <th>FS, acc</th>\n",
       "      <th>FS, # samples</th>\n",
       "      <th>FS, # correct</th>\n",
       "      <th>FS, # known q.</th>\n",
       "      <th>FS, DS true/all</th>\n",
       "    </tr>\n",
       "  </thead>\n",
       "  <tbody>\n",
       "    <tr>\n",
       "      <th>One statement</th>\n",
       "      <td>0.596083</td>\n",
       "      <td>1634.0</td>\n",
       "      <td>974.0</td>\n",
       "      <td>279.0</td>\n",
       "      <td>0.500000</td>\n",
       "    </tr>\n",
       "    <tr>\n",
       "      <th>Disjunction</th>\n",
       "      <td>0.371464</td>\n",
       "      <td>1591.0</td>\n",
       "      <td>591.0</td>\n",
       "      <td>107.0</td>\n",
       "      <td>0.513514</td>\n",
       "    </tr>\n",
       "    <tr>\n",
       "      <th>Conjunction</th>\n",
       "      <td>0.443734</td>\n",
       "      <td>1564.0</td>\n",
       "      <td>694.0</td>\n",
       "      <td>87.0</td>\n",
       "      <td>0.477621</td>\n",
       "    </tr>\n",
       "  </tbody>\n",
       "</table>\n",
       "</div>"
      ],
      "text/plain": [
       "                FS, acc  FS, # samples  FS, # correct  FS, # known q.  \\\n",
       "One statement  0.596083         1634.0          974.0           279.0   \n",
       "Disjunction    0.371464         1591.0          591.0           107.0   \n",
       "Conjunction    0.443734         1564.0          694.0            87.0   \n",
       "\n",
       "               FS, DS true/all  \n",
       "One statement         0.500000  \n",
       "Disjunction           0.513514  \n",
       "Conjunction           0.477621  "
      ]
     },
     "metadata": {}
    }
   ],
   "metadata": {}
  },
  {
   "cell_type": "code",
   "execution_count": 13,
   "source": [
    "report.to_csv(f\"data/llama{llama_size}/truthful_qa_report_data.csv\")"
   ],
   "outputs": [],
   "metadata": {}
  },
  {
   "cell_type": "code",
   "execution_count": 14,
   "source": [
    "# Dataset for hidden states:\n",
    "\n",
    "\n",
    "def create_tensordataset(ds_generator, hf_model, tokenizer, max_per_q=None, layer=-1):\n",
    "    with torch.no_grad():\n",
    "        items = list(ds_generator(max_per_q))\n",
    "        neg_hs = []\n",
    "        pos_hs = []\n",
    "        gt_labels = []  # Ground truth labels.\n",
    "        ids = []\n",
    "        q_ids = []\n",
    "        for item in tqdm(items):\n",
    "            for label in (True, False):\n",
    "                input_ = item[\"template_render_fn\"](\n",
    "                    **item[\"template_render_params\"], label=str(label)\n",
    "                )\n",
    "                t_output = tokenizer(input_, return_tensors=\"pt\")\n",
    "                t_output = {k: t_output[k].to(device) for k in t_output}\n",
    "                output = hf_model(**t_output, output_hidden_states=True)\n",
    "                hs = output.hidden_states[layer][0, -1].detach()\n",
    "                if label:\n",
    "                    pos_hs.append(hs)\n",
    "                else:\n",
    "                    neg_hs.append(hs)\n",
    "            gt_labels.append(item[\"is_correct\"])\n",
    "            ids.append(item[\"id\"])\n",
    "            q_ids.append(item[\"question_id\"])\n",
    "\n",
    "        neg_hs = torch.stack(neg_hs).type(torch.float)\n",
    "        pos_hs = torch.stack(pos_hs).type(torch.float)\n",
    "        gt_labels = torch.tensor(gt_labels).type(torch.float)\n",
    "        ids = torch.tensor(ids).type(torch.int)\n",
    "        q_ids = torch.tensor(q_ids).type(torch.int)\n",
    "        return TensorDataset(neg_hs, pos_hs, gt_labels, ids, q_ids)"
   ],
   "outputs": [],
   "metadata": {}
  },
  {
   "cell_type": "code",
   "execution_count": 15,
   "source": [
    "# Check if datasets exists in files and load them otherwise generate:\n",
    "\n",
    "if os.path.exists(f\"data/llama{llama_size}/truthful_qa_one_hs_ds.pt\"):\n",
    "    one_hs_ds = torch.load(f\"data/llama{llama_size}/truthful_qa_one_hs_ds.pt\")\n",
    "else:\n",
    "    one_hs_ds = create_tensordataset(\n",
    "        one_statement_ds_generator, hf_model, tokenizer, max_per_q=EXAMPLES_PER_QUESTION\n",
    "    )\n",
    "    torch.save(one_hs_ds, f\"data/llama{llama_size}/truthful_qa_one_hs_ds.pt\")\n",
    "\n",
    "if os.path.exists(f\"data/llama{llama_size}/truthful_qa_disj_hs_ds.pt\"):\n",
    "    disj_hs_ds = torch.load(f\"data/llama{llama_size}/truthful_qa_disj_hs_ds.pt\")\n",
    "else:\n",
    "    disj_hs_ds = create_tensordataset(\n",
    "        disj_ds_generator, hf_model, tokenizer, max_per_q=EXAMPLES_PER_QUESTION\n",
    "    )\n",
    "    torch.save(disj_hs_ds, f\"data/llama{llama_size}/truthful_qa_disj_hs_ds.pt\")\n",
    "\n",
    "if os.path.exists(f\"data/llama{llama_size}/truthful_qa_conj_hs_ds.pt\"):\n",
    "    conj_hs_ds = torch.load(f\"data/llama{llama_size}/truthful_qa_conj_hs_ds.pt\")\n",
    "else:\n",
    "    conj_hs_ds = create_tensordataset(\n",
    "        conj_ds_generator, hf_model, tokenizer, max_per_q=EXAMPLES_PER_QUESTION\n",
    "    )\n",
    "    torch.save(conj_hs_ds, f\"data/llama{llama_size}/truthful_qa_conj_hs_ds.pt\")"
   ],
   "outputs": [],
   "metadata": {}
  },
  {
   "cell_type": "code",
   "execution_count": 16,
   "source": [
    "# Split to train and test:\n",
    "def split_train_test_ds(ds):\n",
    "    n = len(ds)\n",
    "    TRAIN_RATIO = 0.8\n",
    "    train_n = int(n * TRAIN_RATIO)\n",
    "    train_ds, test_ds = random_split(ds, [train_n, n - train_n])\n",
    "\n",
    "    return DataLoader(train_ds, batch_size=32), DataLoader(test_ds, batch_size=32)\n",
    "\n",
    "\n",
    "one_train_dl, one_test_dl = split_train_test_ds(one_hs_ds)\n",
    "disj_train_dl, disj_test_dl = split_train_test_ds(disj_hs_ds)\n",
    "conj_train_dl, conj_test_dl = split_train_test_ds(conj_hs_ds)"
   ],
   "outputs": [],
   "metadata": {}
  },
  {
   "cell_type": "code",
   "execution_count": 17,
   "source": [
    "class LogisticRegression(pl.LightningModule):\n",
    "    def __init__(self, input_dim, lr=1e-3, batch_size=32):\n",
    "        super().__init__()\n",
    "        self.lr = lr\n",
    "        self.input_dim = input_dim\n",
    "        self.fc = nn.Linear(input_dim, 1)\n",
    "        self.loss = nn.BCEWithLogitsLoss()\n",
    "        self.batch_size = batch_size\n",
    "\n",
    "    def training_step(self, batch, batch_idx):\n",
    "        pos_x, neg_x, y, *_ = batch\n",
    "        x = neg_x - pos_x\n",
    "        y_hat = self.fc(x).squeeze()\n",
    "        loss = self.loss(y_hat, y)\n",
    "        return loss\n",
    "\n",
    "    def forward(self, x):\n",
    "        return self.fc(x)\n",
    "\n",
    "    def configure_optimizers(self):\n",
    "        return torch.optim.AdamW(self.parameters(), lr=self.lr)"
   ],
   "outputs": [],
   "metadata": {}
  },
  {
   "cell_type": "code",
   "execution_count": 18,
   "source": [
    "def calc_LR_accuracy(train_dl, test_dl, report, report_index_name):\n",
    "    LR_probe = LogisticRegression(train_dl.dataset.dataset.tensors[0].shape[1])\n",
    "    trainer = pl.Trainer(max_epochs=50)\n",
    "    trainer.fit(LR_probe, train_dl)\n",
    "    LR_probe.eval()\n",
    "    # Accuracy:\n",
    "    LR_probe = LR_probe.to(device=\"cpu\")\n",
    "    test_neg_x, test_pos_x, test_y, ids, q_ids = (\n",
    "        t.cpu() for t in test_dl.dataset.dataset.tensors\n",
    "    )\n",
    "    test_x = test_pos_x - test_neg_x\n",
    "    y_hat = LR_probe(test_x).squeeze().sigmoid()\n",
    "    y_hat = (y_hat > 0.5).float()\n",
    "    accuracy = (y_hat == test_y).float().mean()\n",
    "    # Get indexes of questions with all correct predictions:\n",
    "    known_questions = set()\n",
    "    for q_id in q_ids.unique():\n",
    "        sample_indexes = (q_ids == q_id).nonzero(as_tuple=False).squeeze()\n",
    "        all_guessed = (y_hat[sample_indexes] == test_y[sample_indexes]).all()\n",
    "        if all_guessed:\n",
    "            known_questions.add(q_id.item())\n",
    "\n",
    "    report.loc[report_index_name, \"LR, acc\"] = accuracy.item()\n",
    "    report.loc[report_index_name, \"LR, # samples\"] = len(test_y)\n",
    "    report.loc[report_index_name, \"LR, # correct\"] = sum(y_hat == test_y).item()\n",
    "    report.loc[report_index_name, \"LR, # known q.\"] = len(known_questions)\n",
    "    report.loc[report_index_name, \"LR, DS true/all\"] = test_y.sum().item() / len(test_y)\n",
    "\n",
    "    return LR_probe, known_questions"
   ],
   "outputs": [],
   "metadata": {}
  },
  {
   "cell_type": "code",
   "execution_count": 19,
   "source": [
    "# Drop all columns in report that begins with LR:\n",
    "for col in report.columns:\n",
    "    if col.startswith(\"LR\"):\n",
    "        del report[col]"
   ],
   "outputs": [],
   "metadata": {}
  },
  {
   "cell_type": "code",
   "execution_count": 20,
   "source": [
    "# LR probe - One statement\n",
    "statement_LR_probe, lr_one_indexes = calc_LR_accuracy(\n",
    "    one_train_dl, one_test_dl, report, \"One statement\"\n",
    ")\n",
    "report"
   ],
   "outputs": [
    {
     "output_type": "stream",
     "name": "stderr",
     "text": [
      "GPU available: True (cuda), used: True\n",
      "TPU available: False, using: 0 TPU cores\n",
      "IPU available: False, using: 0 IPUs\n",
      "HPU available: False, using: 0 HPUs\n",
      "/opt/conda/lib/python3.10/site-packages/lightning/pytorch/trainer/connectors/logger_connector/logger_connector.py:67: Starting from v1.9.0, `tensorboardX` has been removed as a dependency of the `lightning.pytorch` package, due to potential conflicts with other packages in the ML ecosystem. For this reason, `logger=True` will use `CSVLogger` as the default logger, unless the `tensorboard` or `tensorboardX` packages are found. Please `pip install lightning[extra]` or one of them to enable TensorBoard support by default\n",
      "You are using a CUDA device ('NVIDIA RTX A6000') that has Tensor Cores. To properly utilize them, you should set `torch.set_float32_matmul_precision('medium' | 'high')` which will trade-off precision for performance. For more details, read https://pytorch.org/docs/stable/generated/torch.set_float32_matmul_precision.html#torch.set_float32_matmul_precision\n",
      "LOCAL_RANK: 0 - CUDA_VISIBLE_DEVICES: [0]\n",
      "\n",
      "  | Name | Type              | Params\n",
      "-------------------------------------------\n",
      "0 | fc   | Linear            | 5.1 K \n",
      "1 | loss | BCEWithLogitsLoss | 0     \n",
      "-------------------------------------------\n",
      "5.1 K     Trainable params\n",
      "0         Non-trainable params\n",
      "5.1 K     Total params\n",
      "0.020     Total estimated model params size (MB)\n",
      "/opt/conda/lib/python3.10/site-packages/lightning/pytorch/trainer/connectors/data_connector.py:441: The 'train_dataloader' does not have many workers which may be a bottleneck. Consider increasing the value of the `num_workers` argument` to `num_workers=63` in the `DataLoader` to improve performance.\n",
      "/opt/conda/lib/python3.10/site-packages/lightning/pytorch/loops/fit_loop.py:293: The number of training batches (41) is smaller than the logging interval Trainer(log_every_n_steps=50). Set a lower value for log_every_n_steps if you want to see logs for the training epoch.\n"
     ]
    },
    {
     "output_type": "display_data",
     "data": {
      "application/vnd.jupyter.widget-view+json": {
       "version_major": 2,
       "version_minor": 0,
       "model_id": "428b5003f2ea4ab38609bd0bbb343267"
      },
      "text/plain": [
       "Training: |          | 0/? [00:00<?, ?it/s]"
      ]
     },
     "metadata": {}
    },
    {
     "output_type": "stream",
     "name": "stderr",
     "text": [
      "`Trainer.fit` stopped: `max_epochs=50` reached.\n"
     ]
    },
    {
     "output_type": "execute_result",
     "data": {
      "text/html": [
       "<div>\n",
       "<style scoped>\n",
       "    .dataframe tbody tr th:only-of-type {\n",
       "        vertical-align: middle;\n",
       "    }\n",
       "\n",
       "    .dataframe tbody tr th {\n",
       "        vertical-align: top;\n",
       "    }\n",
       "\n",
       "    .dataframe thead th {\n",
       "        text-align: right;\n",
       "    }\n",
       "</style>\n",
       "<table border=\"1\" class=\"dataframe\">\n",
       "  <thead>\n",
       "    <tr style=\"text-align: right;\">\n",
       "      <th></th>\n",
       "      <th>FS, acc</th>\n",
       "      <th>FS, # samples</th>\n",
       "      <th>FS, # correct</th>\n",
       "      <th>FS, # known q.</th>\n",
       "      <th>FS, DS true/all</th>\n",
       "      <th>LR, acc</th>\n",
       "      <th>LR, # samples</th>\n",
       "      <th>LR, # correct</th>\n",
       "      <th>LR, # known q.</th>\n",
       "      <th>LR, DS true/all</th>\n",
       "    </tr>\n",
       "  </thead>\n",
       "  <tbody>\n",
       "    <tr>\n",
       "      <th>One statement</th>\n",
       "      <td>0.596083</td>\n",
       "      <td>1634.0</td>\n",
       "      <td>974.0</td>\n",
       "      <td>279.0</td>\n",
       "      <td>0.500000</td>\n",
       "      <td>0.96022</td>\n",
       "      <td>1634.0</td>\n",
       "      <td>1569.0</td>\n",
       "      <td>754.0</td>\n",
       "      <td>0.5</td>\n",
       "    </tr>\n",
       "    <tr>\n",
       "      <th>Disjunction</th>\n",
       "      <td>0.371464</td>\n",
       "      <td>1591.0</td>\n",
       "      <td>591.0</td>\n",
       "      <td>107.0</td>\n",
       "      <td>0.513514</td>\n",
       "      <td>NaN</td>\n",
       "      <td>NaN</td>\n",
       "      <td>NaN</td>\n",
       "      <td>NaN</td>\n",
       "      <td>NaN</td>\n",
       "    </tr>\n",
       "    <tr>\n",
       "      <th>Conjunction</th>\n",
       "      <td>0.443734</td>\n",
       "      <td>1564.0</td>\n",
       "      <td>694.0</td>\n",
       "      <td>87.0</td>\n",
       "      <td>0.477621</td>\n",
       "      <td>NaN</td>\n",
       "      <td>NaN</td>\n",
       "      <td>NaN</td>\n",
       "      <td>NaN</td>\n",
       "      <td>NaN</td>\n",
       "    </tr>\n",
       "  </tbody>\n",
       "</table>\n",
       "</div>"
      ],
      "text/plain": [
       "                FS, acc  FS, # samples  FS, # correct  FS, # known q.  \\\n",
       "One statement  0.596083         1634.0          974.0           279.0   \n",
       "Disjunction    0.371464         1591.0          591.0           107.0   \n",
       "Conjunction    0.443734         1564.0          694.0            87.0   \n",
       "\n",
       "               FS, DS true/all  LR, acc  LR, # samples  LR, # correct  \\\n",
       "One statement         0.500000  0.96022         1634.0         1569.0   \n",
       "Disjunction           0.513514      NaN            NaN            NaN   \n",
       "Conjunction           0.477621      NaN            NaN            NaN   \n",
       "\n",
       "               LR, # known q.  LR, DS true/all  \n",
       "One statement           754.0              0.5  \n",
       "Disjunction               NaN              NaN  \n",
       "Conjunction               NaN              NaN  "
      ]
     },
     "metadata": {},
     "execution_count": 20
    }
   ],
   "metadata": {}
  },
  {
   "cell_type": "code",
   "execution_count": 21,
   "source": [
    "# LR probe - Disjunction statement\n",
    "disj_LR_probe, lr_disj_indexes = calc_LR_accuracy(\n",
    "    disj_train_dl, disj_test_dl, report, \"Disjunction\"\n",
    ")\n",
    "report"
   ],
   "outputs": [
    {
     "output_type": "stream",
     "name": "stderr",
     "text": [
      "GPU available: True (cuda), used: True\n",
      "TPU available: False, using: 0 TPU cores\n",
      "IPU available: False, using: 0 IPUs\n",
      "HPU available: False, using: 0 HPUs\n",
      "LOCAL_RANK: 0 - CUDA_VISIBLE_DEVICES: [0]\n",
      "\n",
      "  | Name | Type              | Params\n",
      "-------------------------------------------\n",
      "0 | fc   | Linear            | 5.1 K \n",
      "1 | loss | BCEWithLogitsLoss | 0     \n",
      "-------------------------------------------\n",
      "5.1 K     Trainable params\n",
      "0         Non-trainable params\n",
      "5.1 K     Total params\n",
      "0.020     Total estimated model params size (MB)\n",
      "/opt/conda/lib/python3.10/site-packages/lightning/pytorch/trainer/connectors/data_connector.py:441: The 'train_dataloader' does not have many workers which may be a bottleneck. Consider increasing the value of the `num_workers` argument` to `num_workers=63` in the `DataLoader` to improve performance.\n",
      "/opt/conda/lib/python3.10/site-packages/lightning/pytorch/loops/fit_loop.py:293: The number of training batches (40) is smaller than the logging interval Trainer(log_every_n_steps=50). Set a lower value for log_every_n_steps if you want to see logs for the training epoch.\n"
     ]
    },
    {
     "output_type": "display_data",
     "data": {
      "application/vnd.jupyter.widget-view+json": {
       "version_major": 2,
       "version_minor": 0,
       "model_id": "48fde5f9cafc4488835f0d090f986a85"
      },
      "text/plain": [
       "Training: |          | 0/? [00:00<?, ?it/s]"
      ]
     },
     "metadata": {}
    },
    {
     "output_type": "stream",
     "name": "stderr",
     "text": [
      "`Trainer.fit` stopped: `max_epochs=50` reached.\n"
     ]
    },
    {
     "output_type": "execute_result",
     "data": {
      "text/html": [
       "<div>\n",
       "<style scoped>\n",
       "    .dataframe tbody tr th:only-of-type {\n",
       "        vertical-align: middle;\n",
       "    }\n",
       "\n",
       "    .dataframe tbody tr th {\n",
       "        vertical-align: top;\n",
       "    }\n",
       "\n",
       "    .dataframe thead th {\n",
       "        text-align: right;\n",
       "    }\n",
       "</style>\n",
       "<table border=\"1\" class=\"dataframe\">\n",
       "  <thead>\n",
       "    <tr style=\"text-align: right;\">\n",
       "      <th></th>\n",
       "      <th>FS, acc</th>\n",
       "      <th>FS, # samples</th>\n",
       "      <th>FS, # correct</th>\n",
       "      <th>FS, # known q.</th>\n",
       "      <th>FS, DS true/all</th>\n",
       "      <th>LR, acc</th>\n",
       "      <th>LR, # samples</th>\n",
       "      <th>LR, # correct</th>\n",
       "      <th>LR, # known q.</th>\n",
       "      <th>LR, DS true/all</th>\n",
       "    </tr>\n",
       "  </thead>\n",
       "  <tbody>\n",
       "    <tr>\n",
       "      <th>One statement</th>\n",
       "      <td>0.596083</td>\n",
       "      <td>1634.0</td>\n",
       "      <td>974.0</td>\n",
       "      <td>279.0</td>\n",
       "      <td>0.500000</td>\n",
       "      <td>0.960220</td>\n",
       "      <td>1634.0</td>\n",
       "      <td>1569.0</td>\n",
       "      <td>754.0</td>\n",
       "      <td>0.500000</td>\n",
       "    </tr>\n",
       "    <tr>\n",
       "      <th>Disjunction</th>\n",
       "      <td>0.371464</td>\n",
       "      <td>1591.0</td>\n",
       "      <td>591.0</td>\n",
       "      <td>107.0</td>\n",
       "      <td>0.513514</td>\n",
       "      <td>0.920805</td>\n",
       "      <td>1591.0</td>\n",
       "      <td>1465.0</td>\n",
       "      <td>692.0</td>\n",
       "      <td>0.513514</td>\n",
       "    </tr>\n",
       "    <tr>\n",
       "      <th>Conjunction</th>\n",
       "      <td>0.443734</td>\n",
       "      <td>1564.0</td>\n",
       "      <td>694.0</td>\n",
       "      <td>87.0</td>\n",
       "      <td>0.477621</td>\n",
       "      <td>NaN</td>\n",
       "      <td>NaN</td>\n",
       "      <td>NaN</td>\n",
       "      <td>NaN</td>\n",
       "      <td>NaN</td>\n",
       "    </tr>\n",
       "  </tbody>\n",
       "</table>\n",
       "</div>"
      ],
      "text/plain": [
       "                FS, acc  FS, # samples  FS, # correct  FS, # known q.  \\\n",
       "One statement  0.596083         1634.0          974.0           279.0   \n",
       "Disjunction    0.371464         1591.0          591.0           107.0   \n",
       "Conjunction    0.443734         1564.0          694.0            87.0   \n",
       "\n",
       "               FS, DS true/all   LR, acc  LR, # samples  LR, # correct  \\\n",
       "One statement         0.500000  0.960220         1634.0         1569.0   \n",
       "Disjunction           0.513514  0.920805         1591.0         1465.0   \n",
       "Conjunction           0.477621       NaN            NaN            NaN   \n",
       "\n",
       "               LR, # known q.  LR, DS true/all  \n",
       "One statement           754.0         0.500000  \n",
       "Disjunction             692.0         0.513514  \n",
       "Conjunction               NaN              NaN  "
      ]
     },
     "metadata": {},
     "execution_count": 21
    }
   ],
   "metadata": {}
  },
  {
   "cell_type": "code",
   "execution_count": 22,
   "source": [
    "# LR probe - Conjunction statement\n",
    "conj_LR_probe, lr_conj_indexes = calc_LR_accuracy(\n",
    "    conj_train_dl, conj_test_dl, report, \"Conjunction\"\n",
    ")\n",
    "report"
   ],
   "outputs": [
    {
     "output_type": "stream",
     "name": "stderr",
     "text": [
      "GPU available: True (cuda), used: True\n",
      "TPU available: False, using: 0 TPU cores\n",
      "IPU available: False, using: 0 IPUs\n",
      "HPU available: False, using: 0 HPUs\n",
      "LOCAL_RANK: 0 - CUDA_VISIBLE_DEVICES: [0]\n",
      "\n",
      "  | Name | Type              | Params\n",
      "-------------------------------------------\n",
      "0 | fc   | Linear            | 5.1 K \n",
      "1 | loss | BCEWithLogitsLoss | 0     \n",
      "-------------------------------------------\n",
      "5.1 K     Trainable params\n",
      "0         Non-trainable params\n",
      "5.1 K     Total params\n",
      "0.020     Total estimated model params size (MB)\n",
      "/opt/conda/lib/python3.10/site-packages/lightning/pytorch/trainer/connectors/data_connector.py:441: The 'train_dataloader' does not have many workers which may be a bottleneck. Consider increasing the value of the `num_workers` argument` to `num_workers=63` in the `DataLoader` to improve performance.\n",
      "/opt/conda/lib/python3.10/site-packages/lightning/pytorch/loops/fit_loop.py:293: The number of training batches (40) is smaller than the logging interval Trainer(log_every_n_steps=50). Set a lower value for log_every_n_steps if you want to see logs for the training epoch.\n"
     ]
    },
    {
     "output_type": "display_data",
     "data": {
      "application/vnd.jupyter.widget-view+json": {
       "version_major": 2,
       "version_minor": 0,
       "model_id": "2329de39395a4db4a07c00c83aa3fcd3"
      },
      "text/plain": [
       "Training: |          | 0/? [00:00<?, ?it/s]"
      ]
     },
     "metadata": {}
    },
    {
     "output_type": "stream",
     "name": "stderr",
     "text": [
      "`Trainer.fit` stopped: `max_epochs=50` reached.\n"
     ]
    },
    {
     "output_type": "execute_result",
     "data": {
      "text/html": [
       "<div>\n",
       "<style scoped>\n",
       "    .dataframe tbody tr th:only-of-type {\n",
       "        vertical-align: middle;\n",
       "    }\n",
       "\n",
       "    .dataframe tbody tr th {\n",
       "        vertical-align: top;\n",
       "    }\n",
       "\n",
       "    .dataframe thead th {\n",
       "        text-align: right;\n",
       "    }\n",
       "</style>\n",
       "<table border=\"1\" class=\"dataframe\">\n",
       "  <thead>\n",
       "    <tr style=\"text-align: right;\">\n",
       "      <th></th>\n",
       "      <th>FS, acc</th>\n",
       "      <th>FS, # samples</th>\n",
       "      <th>FS, # correct</th>\n",
       "      <th>FS, # known q.</th>\n",
       "      <th>FS, DS true/all</th>\n",
       "      <th>LR, acc</th>\n",
       "      <th>LR, # samples</th>\n",
       "      <th>LR, # correct</th>\n",
       "      <th>LR, # known q.</th>\n",
       "      <th>LR, DS true/all</th>\n",
       "    </tr>\n",
       "  </thead>\n",
       "  <tbody>\n",
       "    <tr>\n",
       "      <th>One statement</th>\n",
       "      <td>0.596083</td>\n",
       "      <td>1634.0</td>\n",
       "      <td>974.0</td>\n",
       "      <td>279.0</td>\n",
       "      <td>0.500000</td>\n",
       "      <td>0.960220</td>\n",
       "      <td>1634.0</td>\n",
       "      <td>1569.0</td>\n",
       "      <td>754.0</td>\n",
       "      <td>0.500000</td>\n",
       "    </tr>\n",
       "    <tr>\n",
       "      <th>Disjunction</th>\n",
       "      <td>0.371464</td>\n",
       "      <td>1591.0</td>\n",
       "      <td>591.0</td>\n",
       "      <td>107.0</td>\n",
       "      <td>0.513514</td>\n",
       "      <td>0.920805</td>\n",
       "      <td>1591.0</td>\n",
       "      <td>1465.0</td>\n",
       "      <td>692.0</td>\n",
       "      <td>0.513514</td>\n",
       "    </tr>\n",
       "    <tr>\n",
       "      <th>Conjunction</th>\n",
       "      <td>0.443734</td>\n",
       "      <td>1564.0</td>\n",
       "      <td>694.0</td>\n",
       "      <td>87.0</td>\n",
       "      <td>0.477621</td>\n",
       "      <td>0.928389</td>\n",
       "      <td>1564.0</td>\n",
       "      <td>1452.0</td>\n",
       "      <td>705.0</td>\n",
       "      <td>0.477621</td>\n",
       "    </tr>\n",
       "  </tbody>\n",
       "</table>\n",
       "</div>"
      ],
      "text/plain": [
       "                FS, acc  FS, # samples  FS, # correct  FS, # known q.  \\\n",
       "One statement  0.596083         1634.0          974.0           279.0   \n",
       "Disjunction    0.371464         1591.0          591.0           107.0   \n",
       "Conjunction    0.443734         1564.0          694.0            87.0   \n",
       "\n",
       "               FS, DS true/all   LR, acc  LR, # samples  LR, # correct  \\\n",
       "One statement         0.500000  0.960220         1634.0         1569.0   \n",
       "Disjunction           0.513514  0.920805         1591.0         1465.0   \n",
       "Conjunction           0.477621  0.928389         1564.0         1452.0   \n",
       "\n",
       "               LR, # known q.  LR, DS true/all  \n",
       "One statement           754.0         0.500000  \n",
       "Disjunction             692.0         0.513514  \n",
       "Conjunction             705.0         0.477621  "
      ]
     },
     "metadata": {},
     "execution_count": 22
    }
   ],
   "metadata": {}
  },
  {
   "cell_type": "code",
   "execution_count": 23,
   "source": [
    "# Save probes\n",
    "\n",
    "torch.save(\n",
    "    statement_LR_probe.state_dict(),\n",
    "    f\"data/llama{llama_size}/truthful_qa_one_LR_probe.pt\",\n",
    ")\n",
    "torch.save(\n",
    "    disj_LR_probe.state_dict(),\n",
    "    f\"data/llama{llama_size}/truthful_qa_disj_LR_probe.pt\",\n",
    ")\n",
    "torch.save(\n",
    "    conj_LR_probe.state_dict(),\n",
    "    f\"data/llama{llama_size}/truthful_qa_conj_LR_probe.pt\",\n",
    ")"
   ],
   "outputs": [],
   "metadata": {}
  },
  {
   "cell_type": "code",
   "execution_count": 24,
   "source": [
    "class CCS(pl.LightningModule):\n",
    "    def __init__(\n",
    "        self, tensor_ds: TensorDataset, lr=1e-3, batch_size=32, var_normalize=False\n",
    "    ):\n",
    "        super().__init__()\n",
    "        self.lr = lr\n",
    "        self.fc = nn.Sequential(\n",
    "            nn.Linear(tensor_ds.tensors[0].shape[1], 1), nn.Sigmoid()\n",
    "        )\n",
    "        self.batch_size = batch_size\n",
    "        self.x_mean = [\n",
    "            tensor_ds.tensors[1].mean(axis=0),  # 0 - neg\n",
    "            tensor_ds.tensors[0].mean(axis=0),  # 1 - pos\n",
    "        ]\n",
    "        self.x_std = [\n",
    "            tensor_ds.tensors[1].std(axis=0),\n",
    "            tensor_ds.tensors[0].std(axis=0),\n",
    "        ]\n",
    "        # self.running_sum = [\n",
    "        #    torch.zeros(input_dim, device=device),\n",
    "        #    torch.zeros(input_dim, device=device),\n",
    "        # ]\n",
    "        # self.running_num = [0, 0]\n",
    "        # self.x_mean = [\n",
    "        #    torch.zeros(input_dim, device=device),\n",
    "        #    torch.zeros(input_dim, device=device),\n",
    "        # ]\n",
    "        # self.x_std = [\n",
    "        #    torch.zeros(input_dim, device=device),\n",
    "        #    torch.zeros(input_dim, device=device),\n",
    "        # ]\n",
    "        self.known_questions = set()\n",
    "        self.var_normalize = var_normalize\n",
    "        self.Epsilon = 1e-8\n",
    "\n",
    "    def _normalize(\n",
    "        self,\n",
    "        x: torch.Tensor,\n",
    "        pn_type: int,  # Positive (1) or negative (0).\n",
    "        update_running=False,\n",
    "    ):\n",
    "        \"\"\"\n",
    "        Mean-normalizes the data x (of shape (n, d))\n",
    "        If self.var_normalize, also divides by the standard deviation\n",
    "        \"\"\"\n",
    "        # if update_running:\n",
    "        #    self.running_sum[pn_type] += x.sum(axis=0)\n",
    "        #    self.running_num[pn_type] += len(x)\n",
    "        # self.x_mean[pn_type] = self.running_sum[pn_type] / self.running_num[pn_type]\n",
    "        # normalized_x = x - self.x_mean[pn_type]\n",
    "        normalized_x = x - x.mean(axis=0)\n",
    "        if self.var_normalize:\n",
    "            normalized_x /= x.std(axis=0) + self.Epsilon\n",
    "            # self.x_std[pn_type] = (x - self.x_mean[pn_type]).pow(2).sum(\n",
    "            #    axis=0\n",
    "            # ) / self.running_num[pn_type]\n",
    "            #normalized_x /= self.x_std[pn_type] + self.Epsilon\n",
    "\n",
    "        return normalized_x\n",
    "\n",
    "    def loss(self, p0: torch.Tensor, p1: torch.Tensor):\n",
    "        \"\"\"\n",
    "        Returns the CCS loss for two probabilities each of shape (n,1) or (n,)\n",
    "        \"\"\"\n",
    "        confidence = (torch.min(p0, p1) ** 2).mean(0)\n",
    "        consistency = ((p0 - (1 - p1)) ** 2).mean(0)\n",
    "        return confidence + consistency\n",
    "\n",
    "    def forward(self, x):\n",
    "        return self.fc(x)\n",
    "\n",
    "    def training_step(self, batch, batch_idx):\n",
    "        neg_x, pos_x, *_ = batch\n",
    "        pos_x = self._normalize(pos_x, pn_type=1)\n",
    "        neg_x = self._normalize(neg_x, pn_type=0)\n",
    "        neg_p = self.fc(neg_x).squeeze()\n",
    "        pos_p = self.fc(pos_x).squeeze()\n",
    "        loss = self.loss(neg_p, pos_p)\n",
    "        self.log(\"train_loss\", loss, on_step=False, on_epoch=True, prog_bar=True)\n",
    "        return loss\n",
    "\n",
    "    def test_step(self, batch, batch_idx):\n",
    "        neg_x, pos_x, y, *_ = batch\n",
    "        pos_x = self._normalize(pos_x, pn_type=1)\n",
    "        neg_x = self._normalize(neg_x, pn_type=0)\n",
    "        with torch.no_grad():\n",
    "            neg_p = self.fc(neg_x).squeeze()\n",
    "            pos_p = self.fc(pos_x).squeeze()\n",
    "        avg_confidence = 0.5 * (pos_p + (1 - neg_p))\n",
    "        predictions = (avg_confidence.detach() >= 0.5).int()\n",
    "        acc = (predictions == y).float().mean()\n",
    "        acc = max(acc, 1 - acc)\n",
    "        self.log(\"test_acc\", acc, on_step=False, on_epoch=True, prog_bar=True)\n",
    "        # Known questions:\n",
    "        for q_id in batch[4].unique():\n",
    "            q_indexes = (batch[4] == q_id).nonzero(as_tuple=False).squeeze()\n",
    "            if (predictions[q_indexes] == y[q_indexes]).all():\n",
    "                q_id = q_id.item()\n",
    "                self.known_questions.add(q_id)\n",
    "\n",
    "    def configure_optimizers(self):\n",
    "        return torch.optim.AdamW(self.parameters(), lr=self.lr)"
   ],
   "outputs": [],
   "metadata": {}
  },
  {
   "cell_type": "code",
   "execution_count": 25,
   "source": [
    "best_lr = 0.0001\n",
    "best_bs = 32"
   ],
   "outputs": [],
   "metadata": {}
  },
  {
   "cell_type": "code",
   "execution_count": 26,
   "source": [
    "# Do sweep:\n",
    "best_acc = None\n",
    "train_dl = conj_train_dl\n",
    "test_dl = conj_test_dl\n",
    "for lr in (1e-2, 1e-3, 1e-4, 3e-4, 7e-4, 1e-5):\n",
    "    for bs in (32, 64, 128):\n",
    "        ccs = CCS(\n",
    "            train_dl.dataset.dataset,\n",
    "            lr=lr,\n",
    "            batch_size=bs,\n",
    "            var_normalize=False,\n",
    "        )\n",
    "        trainer = pl.Trainer(\n",
    "            max_epochs=5,\n",
    "            profiler=None,\n",
    "            logger=False,\n",
    "            enable_progress_bar=False,\n",
    "            enable_model_summary=False,\n",
    "        )\n",
    "        trainer.fit(ccs, train_dl)\n",
    "        ccs.eval()\n",
    "\n",
    "        # Accuracy:\n",
    "        trainer.test(ccs, test_dl, verbose=False)\n",
    "        acc = trainer.callback_metrics[\"test_acc\"]\n",
    "        if best_acc is None or acc > best_acc:\n",
    "            best_acc = acc\n",
    "            best_lr = lr\n",
    "            best_bs = bs\n",
    "print(f\"Best acc: {best_acc:.4}, lr: {best_lr}, bs: {best_bs}\")"
   ],
   "outputs": [
    {
     "output_type": "stream",
     "name": "stderr",
     "text": [
      "GPU available: True (cuda), used: True\n",
      "TPU available: False, using: 0 TPU cores\n",
      "IPU available: False, using: 0 IPUs\n",
      "HPU available: False, using: 0 HPUs\n",
      "/opt/conda/lib/python3.10/site-packages/lightning/pytorch/callbacks/model_checkpoint.py:639: Checkpoint directory /workspace/dlkworks/checkpoints exists and is not empty.\n",
      "LOCAL_RANK: 0 - CUDA_VISIBLE_DEVICES: [0]\n",
      "/opt/conda/lib/python3.10/site-packages/lightning/pytorch/trainer/connectors/data_connector.py:441: The 'train_dataloader' does not have many workers which may be a bottleneck. Consider increasing the value of the `num_workers` argument` to `num_workers=63` in the `DataLoader` to improve performance.\n",
      "`Trainer.fit` stopped: `max_epochs=5` reached.\n",
      "LOCAL_RANK: 0 - CUDA_VISIBLE_DEVICES: [0]\n",
      "/opt/conda/lib/python3.10/site-packages/lightning/pytorch/trainer/connectors/data_connector.py:441: The 'test_dataloader' does not have many workers which may be a bottleneck. Consider increasing the value of the `num_workers` argument` to `num_workers=63` in the `DataLoader` to improve performance.\n",
      "GPU available: True (cuda), used: True\n",
      "TPU available: False, using: 0 TPU cores\n",
      "IPU available: False, using: 0 IPUs\n",
      "HPU available: False, using: 0 HPUs\n",
      "LOCAL_RANK: 0 - CUDA_VISIBLE_DEVICES: [0]\n",
      "`Trainer.fit` stopped: `max_epochs=5` reached.\n",
      "LOCAL_RANK: 0 - CUDA_VISIBLE_DEVICES: [0]\n",
      "GPU available: True (cuda), used: True\n",
      "TPU available: False, using: 0 TPU cores\n",
      "IPU available: False, using: 0 IPUs\n",
      "HPU available: False, using: 0 HPUs\n",
      "LOCAL_RANK: 0 - CUDA_VISIBLE_DEVICES: [0]\n",
      "`Trainer.fit` stopped: `max_epochs=5` reached.\n",
      "LOCAL_RANK: 0 - CUDA_VISIBLE_DEVICES: [0]\n",
      "GPU available: True (cuda), used: True\n",
      "TPU available: False, using: 0 TPU cores\n",
      "IPU available: False, using: 0 IPUs\n",
      "HPU available: False, using: 0 HPUs\n",
      "LOCAL_RANK: 0 - CUDA_VISIBLE_DEVICES: [0]\n",
      "`Trainer.fit` stopped: `max_epochs=5` reached.\n",
      "LOCAL_RANK: 0 - CUDA_VISIBLE_DEVICES: [0]\n",
      "GPU available: True (cuda), used: True\n",
      "TPU available: False, using: 0 TPU cores\n",
      "IPU available: False, using: 0 IPUs\n",
      "HPU available: False, using: 0 HPUs\n",
      "LOCAL_RANK: 0 - CUDA_VISIBLE_DEVICES: [0]\n",
      "`Trainer.fit` stopped: `max_epochs=5` reached.\n",
      "LOCAL_RANK: 0 - CUDA_VISIBLE_DEVICES: [0]\n",
      "GPU available: True (cuda), used: True\n",
      "TPU available: False, using: 0 TPU cores\n",
      "IPU available: False, using: 0 IPUs\n",
      "HPU available: False, using: 0 HPUs\n",
      "LOCAL_RANK: 0 - CUDA_VISIBLE_DEVICES: [0]\n",
      "`Trainer.fit` stopped: `max_epochs=5` reached.\n",
      "LOCAL_RANK: 0 - CUDA_VISIBLE_DEVICES: [0]\n",
      "GPU available: True (cuda), used: True\n",
      "TPU available: False, using: 0 TPU cores\n",
      "IPU available: False, using: 0 IPUs\n",
      "HPU available: False, using: 0 HPUs\n",
      "LOCAL_RANK: 0 - CUDA_VISIBLE_DEVICES: [0]\n",
      "`Trainer.fit` stopped: `max_epochs=5` reached.\n",
      "LOCAL_RANK: 0 - CUDA_VISIBLE_DEVICES: [0]\n",
      "GPU available: True (cuda), used: True\n",
      "TPU available: False, using: 0 TPU cores\n",
      "IPU available: False, using: 0 IPUs\n",
      "HPU available: False, using: 0 HPUs\n",
      "LOCAL_RANK: 0 - CUDA_VISIBLE_DEVICES: [0]\n",
      "`Trainer.fit` stopped: `max_epochs=5` reached.\n",
      "LOCAL_RANK: 0 - CUDA_VISIBLE_DEVICES: [0]\n",
      "GPU available: True (cuda), used: True\n",
      "TPU available: False, using: 0 TPU cores\n",
      "IPU available: False, using: 0 IPUs\n",
      "HPU available: False, using: 0 HPUs\n",
      "LOCAL_RANK: 0 - CUDA_VISIBLE_DEVICES: [0]\n",
      "`Trainer.fit` stopped: `max_epochs=5` reached.\n",
      "LOCAL_RANK: 0 - CUDA_VISIBLE_DEVICES: [0]\n",
      "GPU available: True (cuda), used: True\n",
      "TPU available: False, using: 0 TPU cores\n",
      "IPU available: False, using: 0 IPUs\n",
      "HPU available: False, using: 0 HPUs\n",
      "LOCAL_RANK: 0 - CUDA_VISIBLE_DEVICES: [0]\n",
      "`Trainer.fit` stopped: `max_epochs=5` reached.\n",
      "LOCAL_RANK: 0 - CUDA_VISIBLE_DEVICES: [0]\n",
      "GPU available: True (cuda), used: True\n",
      "TPU available: False, using: 0 TPU cores\n",
      "IPU available: False, using: 0 IPUs\n",
      "HPU available: False, using: 0 HPUs\n",
      "LOCAL_RANK: 0 - CUDA_VISIBLE_DEVICES: [0]\n",
      "`Trainer.fit` stopped: `max_epochs=5` reached.\n",
      "LOCAL_RANK: 0 - CUDA_VISIBLE_DEVICES: [0]\n",
      "GPU available: True (cuda), used: True\n",
      "TPU available: False, using: 0 TPU cores\n",
      "IPU available: False, using: 0 IPUs\n",
      "HPU available: False, using: 0 HPUs\n",
      "LOCAL_RANK: 0 - CUDA_VISIBLE_DEVICES: [0]\n",
      "`Trainer.fit` stopped: `max_epochs=5` reached.\n",
      "LOCAL_RANK: 0 - CUDA_VISIBLE_DEVICES: [0]\n",
      "GPU available: True (cuda), used: True\n",
      "TPU available: False, using: 0 TPU cores\n",
      "IPU available: False, using: 0 IPUs\n",
      "HPU available: False, using: 0 HPUs\n",
      "LOCAL_RANK: 0 - CUDA_VISIBLE_DEVICES: [0]\n",
      "`Trainer.fit` stopped: `max_epochs=5` reached.\n",
      "LOCAL_RANK: 0 - CUDA_VISIBLE_DEVICES: [0]\n",
      "GPU available: True (cuda), used: True\n",
      "TPU available: False, using: 0 TPU cores\n",
      "IPU available: False, using: 0 IPUs\n",
      "HPU available: False, using: 0 HPUs\n",
      "LOCAL_RANK: 0 - CUDA_VISIBLE_DEVICES: [0]\n",
      "`Trainer.fit` stopped: `max_epochs=5` reached.\n",
      "LOCAL_RANK: 0 - CUDA_VISIBLE_DEVICES: [0]\n",
      "GPU available: True (cuda), used: True\n",
      "TPU available: False, using: 0 TPU cores\n",
      "IPU available: False, using: 0 IPUs\n",
      "HPU available: False, using: 0 HPUs\n",
      "LOCAL_RANK: 0 - CUDA_VISIBLE_DEVICES: [0]\n",
      "`Trainer.fit` stopped: `max_epochs=5` reached.\n",
      "LOCAL_RANK: 0 - CUDA_VISIBLE_DEVICES: [0]\n",
      "GPU available: True (cuda), used: True\n",
      "TPU available: False, using: 0 TPU cores\n",
      "IPU available: False, using: 0 IPUs\n",
      "HPU available: False, using: 0 HPUs\n",
      "LOCAL_RANK: 0 - CUDA_VISIBLE_DEVICES: [0]\n",
      "`Trainer.fit` stopped: `max_epochs=5` reached.\n",
      "LOCAL_RANK: 0 - CUDA_VISIBLE_DEVICES: [0]\n",
      "GPU available: True (cuda), used: True\n",
      "TPU available: False, using: 0 TPU cores\n",
      "IPU available: False, using: 0 IPUs\n",
      "HPU available: False, using: 0 HPUs\n",
      "LOCAL_RANK: 0 - CUDA_VISIBLE_DEVICES: [0]\n",
      "`Trainer.fit` stopped: `max_epochs=5` reached.\n",
      "LOCAL_RANK: 0 - CUDA_VISIBLE_DEVICES: [0]\n",
      "GPU available: True (cuda), used: True\n",
      "TPU available: False, using: 0 TPU cores\n",
      "IPU available: False, using: 0 IPUs\n",
      "HPU available: False, using: 0 HPUs\n",
      "LOCAL_RANK: 0 - CUDA_VISIBLE_DEVICES: [0]\n",
      "`Trainer.fit` stopped: `max_epochs=5` reached.\n",
      "LOCAL_RANK: 0 - CUDA_VISIBLE_DEVICES: [0]\n"
     ]
    },
    {
     "output_type": "stream",
     "name": "stdout",
     "text": [
      "Best acc: 0.7476, lr: 0.0003, bs: 32\n"
     ]
    }
   ],
   "metadata": {}
  },
  {
   "cell_type": "code",
   "execution_count": 27,
   "source": [
    "def calc_CCS_accuracy(train_dl, test_dl, report, report_index_name, tries=6, epochs=50):\n",
    "    best_probe = None\n",
    "    best_acc = None\n",
    "    report.loc[report_index_name, \"CCS, random acc\"] = 0.0\n",
    "    r_a_list = []\n",
    "    t_a_list = []\n",
    "    for t in range(tries):\n",
    "        ccs = CCS(\n",
    "            train_dl.dataset.dataset, lr=best_lr, batch_size=best_bs, var_normalize=False\n",
    "        )\n",
    "\n",
    "        # Random accuracy\n",
    "        trainer = pl.Trainer(max_epochs=epochs)   # Avoid overfit?\n",
    "        trainer.test(ccs, test_dl, verbose=False)\n",
    "        trainer.known_questions = set()\n",
    "        r_a_list += [trainer.callback_metrics[ \"test_acc\" ].item()]\n",
    "\n",
    "        # Now train\n",
    "        trainer.fit(ccs, train_dl)\n",
    "        ccs.eval()\n",
    "        # Accuracy:\n",
    "        trainer.test(ccs, test_dl, verbose=False)\n",
    "        test_acc = trainer.callback_metrics[\"test_acc\" ].item()\n",
    "        if best_acc is None or best_acc < test_acc:\n",
    "            best_probe = ccs\n",
    "            best_acc = test_acc\n",
    "        t_a_list += [test_acc]\n",
    "\n",
    "    report.loc[report_index_name, \"CCS, acc, mean\"] = np.array(t_a_list).mean()\n",
    "    report.loc[report_index_name, \"CCS, acc, std\"] = np.array(t_a_list).std()\n",
    "    report.loc[report_index_name, \"CCS, random acc, mean\"] = np.array(r_a_list).mean()\n",
    "    report.loc[report_index_name, \"CCS, random acc, std\"] = np.array(r_a_list).std()\n",
    "\n",
    "    report.loc[report_index_name, \"CCS, # samples\"] = len(\n",
    "        test_dl.dataset.dataset.tensors[2]\n",
    "    )\n",
    "    report.loc[report_index_name, \"CCS, # known q\"] = len(best_probe.known_questions)\n",
    "    report.loc[report_index_name, \"CCS, DS true/all\"] = test_dl.dataset.dataset.tensors[\n",
    "        2\n",
    "    ].sum().item() / len(test_dl.dataset.dataset.tensors[2])\n",
    "\n",
    "    return best_probe"
   ],
   "outputs": [],
   "metadata": {}
  },
  {
   "cell_type": "code",
   "execution_count": 28,
   "source": [
    "# CCS probe - One statement\n",
    "one_ccs_probe = calc_CCS_accuracy(one_train_dl, one_test_dl, report, \"One statement\")\n",
    "report"
   ],
   "outputs": [
    {
     "output_type": "stream",
     "name": "stderr",
     "text": [
      "GPU available: True (cuda), used: True\n",
      "TPU available: False, using: 0 TPU cores\n",
      "IPU available: False, using: 0 IPUs\n",
      "HPU available: False, using: 0 HPUs\n",
      "LOCAL_RANK: 0 - CUDA_VISIBLE_DEVICES: [0]\n",
      "/opt/conda/lib/python3.10/site-packages/lightning/pytorch/trainer/connectors/data_connector.py:441: The 'test_dataloader' does not have many workers which may be a bottleneck. Consider increasing the value of the `num_workers` argument` to `num_workers=63` in the `DataLoader` to improve performance.\n"
     ]
    },
    {
     "output_type": "display_data",
     "data": {
      "application/vnd.jupyter.widget-view+json": {
       "version_major": 2,
       "version_minor": 0,
       "model_id": "ecc5b4ea804b4461b89f809e3811539d"
      },
      "text/plain": [
       "Testing: |          | 0/? [00:00<?, ?it/s]"
      ]
     },
     "metadata": {}
    },
    {
     "output_type": "stream",
     "name": "stderr",
     "text": [
      "LOCAL_RANK: 0 - CUDA_VISIBLE_DEVICES: [0]\n",
      "\n",
      "  | Name | Type       | Params\n",
      "------------------------------------\n",
      "0 | fc   | Sequential | 5.1 K \n",
      "------------------------------------\n",
      "5.1 K     Trainable params\n",
      "0         Non-trainable params\n",
      "5.1 K     Total params\n",
      "0.020     Total estimated model params size (MB)\n",
      "/opt/conda/lib/python3.10/site-packages/lightning/pytorch/trainer/connectors/data_connector.py:441: The 'train_dataloader' does not have many workers which may be a bottleneck. Consider increasing the value of the `num_workers` argument` to `num_workers=63` in the `DataLoader` to improve performance.\n",
      "/opt/conda/lib/python3.10/site-packages/lightning/pytorch/loops/fit_loop.py:293: The number of training batches (41) is smaller than the logging interval Trainer(log_every_n_steps=50). Set a lower value for log_every_n_steps if you want to see logs for the training epoch.\n"
     ]
    },
    {
     "output_type": "display_data",
     "data": {
      "application/vnd.jupyter.widget-view+json": {
       "version_major": 2,
       "version_minor": 0,
       "model_id": "9f245d484a034e20a19c56d8c0a5de33"
      },
      "text/plain": [
       "Training: |          | 0/? [00:00<?, ?it/s]"
      ]
     },
     "metadata": {}
    },
    {
     "output_type": "stream",
     "name": "stderr",
     "text": [
      "`Trainer.fit` stopped: `max_epochs=50` reached.\n",
      "LOCAL_RANK: 0 - CUDA_VISIBLE_DEVICES: [0]\n"
     ]
    },
    {
     "output_type": "display_data",
     "data": {
      "application/vnd.jupyter.widget-view+json": {
       "version_major": 2,
       "version_minor": 0,
       "model_id": "a1a42e778d8d42b7a25a166563bf4896"
      },
      "text/plain": [
       "Testing: |          | 0/? [00:00<?, ?it/s]"
      ]
     },
     "metadata": {}
    },
    {
     "output_type": "stream",
     "name": "stderr",
     "text": [
      "GPU available: True (cuda), used: True\n",
      "TPU available: False, using: 0 TPU cores\n",
      "IPU available: False, using: 0 IPUs\n",
      "HPU available: False, using: 0 HPUs\n",
      "LOCAL_RANK: 0 - CUDA_VISIBLE_DEVICES: [0]\n"
     ]
    },
    {
     "output_type": "display_data",
     "data": {
      "application/vnd.jupyter.widget-view+json": {
       "version_major": 2,
       "version_minor": 0,
       "model_id": "b1cae63d1f6e40518ea52a8670bcf6db"
      },
      "text/plain": [
       "Testing: |          | 0/? [00:00<?, ?it/s]"
      ]
     },
     "metadata": {}
    },
    {
     "output_type": "stream",
     "name": "stderr",
     "text": [
      "LOCAL_RANK: 0 - CUDA_VISIBLE_DEVICES: [0]\n",
      "\n",
      "  | Name | Type       | Params\n",
      "------------------------------------\n",
      "0 | fc   | Sequential | 5.1 K \n",
      "------------------------------------\n",
      "5.1 K     Trainable params\n",
      "0         Non-trainable params\n",
      "5.1 K     Total params\n",
      "0.020     Total estimated model params size (MB)\n"
     ]
    },
    {
     "output_type": "display_data",
     "data": {
      "application/vnd.jupyter.widget-view+json": {
       "version_major": 2,
       "version_minor": 0,
       "model_id": "da9ed349c08847e39a0c4b22fdf0a100"
      },
      "text/plain": [
       "Training: |          | 0/? [00:00<?, ?it/s]"
      ]
     },
     "metadata": {}
    },
    {
     "output_type": "stream",
     "name": "stderr",
     "text": [
      "`Trainer.fit` stopped: `max_epochs=50` reached.\n",
      "LOCAL_RANK: 0 - CUDA_VISIBLE_DEVICES: [0]\n"
     ]
    },
    {
     "output_type": "display_data",
     "data": {
      "application/vnd.jupyter.widget-view+json": {
       "version_major": 2,
       "version_minor": 0,
       "model_id": "fbe28b3a581c4cf4a536d7b86e7e0b74"
      },
      "text/plain": [
       "Testing: |          | 0/? [00:00<?, ?it/s]"
      ]
     },
     "metadata": {}
    },
    {
     "output_type": "stream",
     "name": "stderr",
     "text": [
      "GPU available: True (cuda), used: True\n",
      "TPU available: False, using: 0 TPU cores\n",
      "IPU available: False, using: 0 IPUs\n",
      "HPU available: False, using: 0 HPUs\n",
      "LOCAL_RANK: 0 - CUDA_VISIBLE_DEVICES: [0]\n"
     ]
    },
    {
     "output_type": "display_data",
     "data": {
      "application/vnd.jupyter.widget-view+json": {
       "version_major": 2,
       "version_minor": 0,
       "model_id": "3ebf7e04be1e4dfc8210fc0453e365f2"
      },
      "text/plain": [
       "Testing: |          | 0/? [00:00<?, ?it/s]"
      ]
     },
     "metadata": {}
    },
    {
     "output_type": "stream",
     "name": "stderr",
     "text": [
      "LOCAL_RANK: 0 - CUDA_VISIBLE_DEVICES: [0]\n",
      "\n",
      "  | Name | Type       | Params\n",
      "------------------------------------\n",
      "0 | fc   | Sequential | 5.1 K \n",
      "------------------------------------\n",
      "5.1 K     Trainable params\n",
      "0         Non-trainable params\n",
      "5.1 K     Total params\n",
      "0.020     Total estimated model params size (MB)\n"
     ]
    },
    {
     "output_type": "display_data",
     "data": {
      "application/vnd.jupyter.widget-view+json": {
       "version_major": 2,
       "version_minor": 0,
       "model_id": "2435e5f2ed33478fa757fb891c270ad4"
      },
      "text/plain": [
       "Training: |          | 0/? [00:00<?, ?it/s]"
      ]
     },
     "metadata": {}
    },
    {
     "output_type": "stream",
     "name": "stderr",
     "text": [
      "`Trainer.fit` stopped: `max_epochs=50` reached.\n",
      "LOCAL_RANK: 0 - CUDA_VISIBLE_DEVICES: [0]\n"
     ]
    },
    {
     "output_type": "display_data",
     "data": {
      "application/vnd.jupyter.widget-view+json": {
       "version_major": 2,
       "version_minor": 0,
       "model_id": "154a5fb1aef64886af8d17e4e07ec2cc"
      },
      "text/plain": [
       "Testing: |          | 0/? [00:00<?, ?it/s]"
      ]
     },
     "metadata": {}
    },
    {
     "output_type": "stream",
     "name": "stderr",
     "text": [
      "GPU available: True (cuda), used: True\n",
      "TPU available: False, using: 0 TPU cores\n",
      "IPU available: False, using: 0 IPUs\n",
      "HPU available: False, using: 0 HPUs\n",
      "LOCAL_RANK: 0 - CUDA_VISIBLE_DEVICES: [0]\n"
     ]
    },
    {
     "output_type": "display_data",
     "data": {
      "application/vnd.jupyter.widget-view+json": {
       "version_major": 2,
       "version_minor": 0,
       "model_id": "dab47f605b6648e4846f85833597fa8b"
      },
      "text/plain": [
       "Testing: |          | 0/? [00:00<?, ?it/s]"
      ]
     },
     "metadata": {}
    },
    {
     "output_type": "stream",
     "name": "stderr",
     "text": [
      "LOCAL_RANK: 0 - CUDA_VISIBLE_DEVICES: [0]\n",
      "\n",
      "  | Name | Type       | Params\n",
      "------------------------------------\n",
      "0 | fc   | Sequential | 5.1 K \n",
      "------------------------------------\n",
      "5.1 K     Trainable params\n",
      "0         Non-trainable params\n",
      "5.1 K     Total params\n",
      "0.020     Total estimated model params size (MB)\n"
     ]
    },
    {
     "output_type": "display_data",
     "data": {
      "application/vnd.jupyter.widget-view+json": {
       "version_major": 2,
       "version_minor": 0,
       "model_id": "f9f186610f0e42d0a73528194307c13b"
      },
      "text/plain": [
       "Training: |          | 0/? [00:00<?, ?it/s]"
      ]
     },
     "metadata": {}
    },
    {
     "output_type": "stream",
     "name": "stderr",
     "text": [
      "`Trainer.fit` stopped: `max_epochs=50` reached.\n",
      "LOCAL_RANK: 0 - CUDA_VISIBLE_DEVICES: [0]\n"
     ]
    },
    {
     "output_type": "display_data",
     "data": {
      "application/vnd.jupyter.widget-view+json": {
       "version_major": 2,
       "version_minor": 0,
       "model_id": "59be417fdc154e909a939f14f80936d3"
      },
      "text/plain": [
       "Testing: |          | 0/? [00:00<?, ?it/s]"
      ]
     },
     "metadata": {}
    },
    {
     "output_type": "stream",
     "name": "stderr",
     "text": [
      "GPU available: True (cuda), used: True\n",
      "TPU available: False, using: 0 TPU cores\n",
      "IPU available: False, using: 0 IPUs\n",
      "HPU available: False, using: 0 HPUs\n",
      "LOCAL_RANK: 0 - CUDA_VISIBLE_DEVICES: [0]\n"
     ]
    },
    {
     "output_type": "display_data",
     "data": {
      "application/vnd.jupyter.widget-view+json": {
       "version_major": 2,
       "version_minor": 0,
       "model_id": "780e81f8d04a4f95bc6cacca1e20f3e8"
      },
      "text/plain": [
       "Testing: |          | 0/? [00:00<?, ?it/s]"
      ]
     },
     "metadata": {}
    },
    {
     "output_type": "stream",
     "name": "stderr",
     "text": [
      "LOCAL_RANK: 0 - CUDA_VISIBLE_DEVICES: [0]\n",
      "\n",
      "  | Name | Type       | Params\n",
      "------------------------------------\n",
      "0 | fc   | Sequential | 5.1 K \n",
      "------------------------------------\n",
      "5.1 K     Trainable params\n",
      "0         Non-trainable params\n",
      "5.1 K     Total params\n",
      "0.020     Total estimated model params size (MB)\n"
     ]
    },
    {
     "output_type": "display_data",
     "data": {
      "application/vnd.jupyter.widget-view+json": {
       "version_major": 2,
       "version_minor": 0,
       "model_id": "cd1afb4481b941bfab424ac38ff9fde7"
      },
      "text/plain": [
       "Training: |          | 0/? [00:00<?, ?it/s]"
      ]
     },
     "metadata": {}
    },
    {
     "output_type": "stream",
     "name": "stderr",
     "text": [
      "`Trainer.fit` stopped: `max_epochs=50` reached.\n",
      "LOCAL_RANK: 0 - CUDA_VISIBLE_DEVICES: [0]\n"
     ]
    },
    {
     "output_type": "display_data",
     "data": {
      "application/vnd.jupyter.widget-view+json": {
       "version_major": 2,
       "version_minor": 0,
       "model_id": "3c9baed155574813b1a13cb01ba7f8e9"
      },
      "text/plain": [
       "Testing: |          | 0/? [00:00<?, ?it/s]"
      ]
     },
     "metadata": {}
    },
    {
     "output_type": "stream",
     "name": "stderr",
     "text": [
      "GPU available: True (cuda), used: True\n",
      "TPU available: False, using: 0 TPU cores\n",
      "IPU available: False, using: 0 IPUs\n",
      "HPU available: False, using: 0 HPUs\n",
      "LOCAL_RANK: 0 - CUDA_VISIBLE_DEVICES: [0]\n"
     ]
    },
    {
     "output_type": "display_data",
     "data": {
      "application/vnd.jupyter.widget-view+json": {
       "version_major": 2,
       "version_minor": 0,
       "model_id": "4008deaeb67a46de805434ca12d09b22"
      },
      "text/plain": [
       "Testing: |          | 0/? [00:00<?, ?it/s]"
      ]
     },
     "metadata": {}
    },
    {
     "output_type": "stream",
     "name": "stderr",
     "text": [
      "LOCAL_RANK: 0 - CUDA_VISIBLE_DEVICES: [0]\n",
      "\n",
      "  | Name | Type       | Params\n",
      "------------------------------------\n",
      "0 | fc   | Sequential | 5.1 K \n",
      "------------------------------------\n",
      "5.1 K     Trainable params\n",
      "0         Non-trainable params\n",
      "5.1 K     Total params\n",
      "0.020     Total estimated model params size (MB)\n"
     ]
    },
    {
     "output_type": "display_data",
     "data": {
      "application/vnd.jupyter.widget-view+json": {
       "version_major": 2,
       "version_minor": 0,
       "model_id": "399bf52b39cf47489ddc71744271e33d"
      },
      "text/plain": [
       "Training: |          | 0/? [00:00<?, ?it/s]"
      ]
     },
     "metadata": {}
    },
    {
     "output_type": "stream",
     "name": "stderr",
     "text": [
      "`Trainer.fit` stopped: `max_epochs=50` reached.\n",
      "LOCAL_RANK: 0 - CUDA_VISIBLE_DEVICES: [0]\n"
     ]
    },
    {
     "output_type": "display_data",
     "data": {
      "application/vnd.jupyter.widget-view+json": {
       "version_major": 2,
       "version_minor": 0,
       "model_id": "44dfbd107bb44e1fbe3154838bd62ba1"
      },
      "text/plain": [
       "Testing: |          | 0/? [00:00<?, ?it/s]"
      ]
     },
     "metadata": {}
    },
    {
     "output_type": "execute_result",
     "data": {
      "text/html": [
       "<div>\n",
       "<style scoped>\n",
       "    .dataframe tbody tr th:only-of-type {\n",
       "        vertical-align: middle;\n",
       "    }\n",
       "\n",
       "    .dataframe tbody tr th {\n",
       "        vertical-align: top;\n",
       "    }\n",
       "\n",
       "    .dataframe thead th {\n",
       "        text-align: right;\n",
       "    }\n",
       "</style>\n",
       "<table border=\"1\" class=\"dataframe\">\n",
       "  <thead>\n",
       "    <tr style=\"text-align: right;\">\n",
       "      <th></th>\n",
       "      <th>FS, acc</th>\n",
       "      <th>FS, # samples</th>\n",
       "      <th>FS, # correct</th>\n",
       "      <th>FS, # known q.</th>\n",
       "      <th>FS, DS true/all</th>\n",
       "      <th>LR, acc</th>\n",
       "      <th>LR, # samples</th>\n",
       "      <th>LR, # correct</th>\n",
       "      <th>LR, # known q.</th>\n",
       "      <th>LR, DS true/all</th>\n",
       "      <th>CCS, random acc</th>\n",
       "      <th>CCS, acc, mean</th>\n",
       "      <th>CCS, acc, std</th>\n",
       "      <th>CCS, random acc, mean</th>\n",
       "      <th>CCS, random acc, std</th>\n",
       "      <th>CCS, # samples</th>\n",
       "      <th>CCS, # known q</th>\n",
       "      <th>CCS, DS true/all</th>\n",
       "    </tr>\n",
       "  </thead>\n",
       "  <tbody>\n",
       "    <tr>\n",
       "      <th>One statement</th>\n",
       "      <td>0.596083</td>\n",
       "      <td>1634.0</td>\n",
       "      <td>974.0</td>\n",
       "      <td>279.0</td>\n",
       "      <td>0.500000</td>\n",
       "      <td>0.960220</td>\n",
       "      <td>1634.0</td>\n",
       "      <td>1569.0</td>\n",
       "      <td>754.0</td>\n",
       "      <td>0.500000</td>\n",
       "      <td>0.0</td>\n",
       "      <td>0.721713</td>\n",
       "      <td>0.037412</td>\n",
       "      <td>0.59684</td>\n",
       "      <td>0.044646</td>\n",
       "      <td>1634.0</td>\n",
       "      <td>268.0</td>\n",
       "      <td>0.5</td>\n",
       "    </tr>\n",
       "    <tr>\n",
       "      <th>Disjunction</th>\n",
       "      <td>0.371464</td>\n",
       "      <td>1591.0</td>\n",
       "      <td>591.0</td>\n",
       "      <td>107.0</td>\n",
       "      <td>0.513514</td>\n",
       "      <td>0.920805</td>\n",
       "      <td>1591.0</td>\n",
       "      <td>1465.0</td>\n",
       "      <td>692.0</td>\n",
       "      <td>0.513514</td>\n",
       "      <td>NaN</td>\n",
       "      <td>NaN</td>\n",
       "      <td>NaN</td>\n",
       "      <td>NaN</td>\n",
       "      <td>NaN</td>\n",
       "      <td>NaN</td>\n",
       "      <td>NaN</td>\n",
       "      <td>NaN</td>\n",
       "    </tr>\n",
       "    <tr>\n",
       "      <th>Conjunction</th>\n",
       "      <td>0.443734</td>\n",
       "      <td>1564.0</td>\n",
       "      <td>694.0</td>\n",
       "      <td>87.0</td>\n",
       "      <td>0.477621</td>\n",
       "      <td>0.928389</td>\n",
       "      <td>1564.0</td>\n",
       "      <td>1452.0</td>\n",
       "      <td>705.0</td>\n",
       "      <td>0.477621</td>\n",
       "      <td>NaN</td>\n",
       "      <td>NaN</td>\n",
       "      <td>NaN</td>\n",
       "      <td>NaN</td>\n",
       "      <td>NaN</td>\n",
       "      <td>NaN</td>\n",
       "      <td>NaN</td>\n",
       "      <td>NaN</td>\n",
       "    </tr>\n",
       "  </tbody>\n",
       "</table>\n",
       "</div>"
      ],
      "text/plain": [
       "                FS, acc  FS, # samples  FS, # correct  FS, # known q.  \\\n",
       "One statement  0.596083         1634.0          974.0           279.0   \n",
       "Disjunction    0.371464         1591.0          591.0           107.0   \n",
       "Conjunction    0.443734         1564.0          694.0            87.0   \n",
       "\n",
       "               FS, DS true/all   LR, acc  LR, # samples  LR, # correct  \\\n",
       "One statement         0.500000  0.960220         1634.0         1569.0   \n",
       "Disjunction           0.513514  0.920805         1591.0         1465.0   \n",
       "Conjunction           0.477621  0.928389         1564.0         1452.0   \n",
       "\n",
       "               LR, # known q.  LR, DS true/all  CCS, random acc  \\\n",
       "One statement           754.0         0.500000              0.0   \n",
       "Disjunction             692.0         0.513514              NaN   \n",
       "Conjunction             705.0         0.477621              NaN   \n",
       "\n",
       "               CCS, acc, mean  CCS, acc, std  CCS, random acc, mean  \\\n",
       "One statement        0.721713       0.037412                0.59684   \n",
       "Disjunction               NaN            NaN                    NaN   \n",
       "Conjunction               NaN            NaN                    NaN   \n",
       "\n",
       "               CCS, random acc, std  CCS, # samples  CCS, # known q  \\\n",
       "One statement              0.044646          1634.0           268.0   \n",
       "Disjunction                     NaN             NaN             NaN   \n",
       "Conjunction                     NaN             NaN             NaN   \n",
       "\n",
       "               CCS, DS true/all  \n",
       "One statement               0.5  \n",
       "Disjunction                 NaN  \n",
       "Conjunction                 NaN  "
      ]
     },
     "metadata": {},
     "execution_count": 28
    }
   ],
   "metadata": {}
  },
  {
   "cell_type": "code",
   "execution_count": 29,
   "source": [
    "# CCS probe - Disjunction statement\n",
    "disj_ccs_probe = calc_CCS_accuracy(disj_train_dl, disj_test_dl, report, \"Disjunction\")\n",
    "report"
   ],
   "outputs": [
    {
     "output_type": "stream",
     "name": "stderr",
     "text": [
      "GPU available: True (cuda), used: True\n",
      "TPU available: False, using: 0 TPU cores\n",
      "IPU available: False, using: 0 IPUs\n",
      "HPU available: False, using: 0 HPUs\n",
      "LOCAL_RANK: 0 - CUDA_VISIBLE_DEVICES: [0]\n",
      "/opt/conda/lib/python3.10/site-packages/lightning/pytorch/trainer/connectors/data_connector.py:441: The 'test_dataloader' does not have many workers which may be a bottleneck. Consider increasing the value of the `num_workers` argument` to `num_workers=63` in the `DataLoader` to improve performance.\n"
     ]
    },
    {
     "output_type": "display_data",
     "data": {
      "application/vnd.jupyter.widget-view+json": {
       "version_major": 2,
       "version_minor": 0,
       "model_id": "1924bb472fdd43758bbe97021619f80b"
      },
      "text/plain": [
       "Testing: |          | 0/? [00:00<?, ?it/s]"
      ]
     },
     "metadata": {}
    },
    {
     "output_type": "stream",
     "name": "stderr",
     "text": [
      "LOCAL_RANK: 0 - CUDA_VISIBLE_DEVICES: [0]\n",
      "\n",
      "  | Name | Type       | Params\n",
      "------------------------------------\n",
      "0 | fc   | Sequential | 5.1 K \n",
      "------------------------------------\n",
      "5.1 K     Trainable params\n",
      "0         Non-trainable params\n",
      "5.1 K     Total params\n",
      "0.020     Total estimated model params size (MB)\n",
      "/opt/conda/lib/python3.10/site-packages/lightning/pytorch/trainer/connectors/data_connector.py:441: The 'train_dataloader' does not have many workers which may be a bottleneck. Consider increasing the value of the `num_workers` argument` to `num_workers=63` in the `DataLoader` to improve performance.\n",
      "/opt/conda/lib/python3.10/site-packages/lightning/pytorch/loops/fit_loop.py:293: The number of training batches (40) is smaller than the logging interval Trainer(log_every_n_steps=50). Set a lower value for log_every_n_steps if you want to see logs for the training epoch.\n"
     ]
    },
    {
     "output_type": "display_data",
     "data": {
      "application/vnd.jupyter.widget-view+json": {
       "version_major": 2,
       "version_minor": 0,
       "model_id": "df8fa0374e9042d58a71c5df0a18167b"
      },
      "text/plain": [
       "Training: |          | 0/? [00:00<?, ?it/s]"
      ]
     },
     "metadata": {}
    },
    {
     "output_type": "stream",
     "name": "stderr",
     "text": [
      "`Trainer.fit` stopped: `max_epochs=50` reached.\n",
      "LOCAL_RANK: 0 - CUDA_VISIBLE_DEVICES: [0]\n"
     ]
    },
    {
     "output_type": "display_data",
     "data": {
      "application/vnd.jupyter.widget-view+json": {
       "version_major": 2,
       "version_minor": 0,
       "model_id": "c5989e084297426298b35387c595c920"
      },
      "text/plain": [
       "Testing: |          | 0/? [00:00<?, ?it/s]"
      ]
     },
     "metadata": {}
    },
    {
     "output_type": "stream",
     "name": "stderr",
     "text": [
      "GPU available: True (cuda), used: True\n",
      "TPU available: False, using: 0 TPU cores\n",
      "IPU available: False, using: 0 IPUs\n",
      "HPU available: False, using: 0 HPUs\n",
      "LOCAL_RANK: 0 - CUDA_VISIBLE_DEVICES: [0]\n"
     ]
    },
    {
     "output_type": "display_data",
     "data": {
      "application/vnd.jupyter.widget-view+json": {
       "version_major": 2,
       "version_minor": 0,
       "model_id": "ca1895f8f13346d6bb337b0a2e9ad365"
      },
      "text/plain": [
       "Testing: |          | 0/? [00:00<?, ?it/s]"
      ]
     },
     "metadata": {}
    },
    {
     "output_type": "stream",
     "name": "stderr",
     "text": [
      "LOCAL_RANK: 0 - CUDA_VISIBLE_DEVICES: [0]\n",
      "\n",
      "  | Name | Type       | Params\n",
      "------------------------------------\n",
      "0 | fc   | Sequential | 5.1 K \n",
      "------------------------------------\n",
      "5.1 K     Trainable params\n",
      "0         Non-trainable params\n",
      "5.1 K     Total params\n",
      "0.020     Total estimated model params size (MB)\n"
     ]
    },
    {
     "output_type": "display_data",
     "data": {
      "application/vnd.jupyter.widget-view+json": {
       "version_major": 2,
       "version_minor": 0,
       "model_id": "228881f3f23d418c9a1661a7260c4904"
      },
      "text/plain": [
       "Training: |          | 0/? [00:00<?, ?it/s]"
      ]
     },
     "metadata": {}
    },
    {
     "output_type": "stream",
     "name": "stderr",
     "text": [
      "`Trainer.fit` stopped: `max_epochs=50` reached.\n",
      "LOCAL_RANK: 0 - CUDA_VISIBLE_DEVICES: [0]\n"
     ]
    },
    {
     "output_type": "display_data",
     "data": {
      "application/vnd.jupyter.widget-view+json": {
       "version_major": 2,
       "version_minor": 0,
       "model_id": "93f02256b46441858ff80da96a91d960"
      },
      "text/plain": [
       "Testing: |          | 0/? [00:00<?, ?it/s]"
      ]
     },
     "metadata": {}
    },
    {
     "output_type": "stream",
     "name": "stderr",
     "text": [
      "GPU available: True (cuda), used: True\n",
      "TPU available: False, using: 0 TPU cores\n",
      "IPU available: False, using: 0 IPUs\n",
      "HPU available: False, using: 0 HPUs\n",
      "LOCAL_RANK: 0 - CUDA_VISIBLE_DEVICES: [0]\n"
     ]
    },
    {
     "output_type": "display_data",
     "data": {
      "application/vnd.jupyter.widget-view+json": {
       "version_major": 2,
       "version_minor": 0,
       "model_id": "6dea6184392a4d08b0c2352646f99474"
      },
      "text/plain": [
       "Testing: |          | 0/? [00:00<?, ?it/s]"
      ]
     },
     "metadata": {}
    },
    {
     "output_type": "stream",
     "name": "stderr",
     "text": [
      "LOCAL_RANK: 0 - CUDA_VISIBLE_DEVICES: [0]\n",
      "\n",
      "  | Name | Type       | Params\n",
      "------------------------------------\n",
      "0 | fc   | Sequential | 5.1 K \n",
      "------------------------------------\n",
      "5.1 K     Trainable params\n",
      "0         Non-trainable params\n",
      "5.1 K     Total params\n",
      "0.020     Total estimated model params size (MB)\n"
     ]
    },
    {
     "output_type": "display_data",
     "data": {
      "application/vnd.jupyter.widget-view+json": {
       "version_major": 2,
       "version_minor": 0,
       "model_id": "77526f0b27fb4e85b60cbfcadf4e11b9"
      },
      "text/plain": [
       "Training: |          | 0/? [00:00<?, ?it/s]"
      ]
     },
     "metadata": {}
    },
    {
     "output_type": "stream",
     "name": "stderr",
     "text": [
      "`Trainer.fit` stopped: `max_epochs=50` reached.\n",
      "LOCAL_RANK: 0 - CUDA_VISIBLE_DEVICES: [0]\n"
     ]
    },
    {
     "output_type": "display_data",
     "data": {
      "application/vnd.jupyter.widget-view+json": {
       "version_major": 2,
       "version_minor": 0,
       "model_id": "4d3fb0afaf724bc7b6d356a06a48156b"
      },
      "text/plain": [
       "Testing: |          | 0/? [00:00<?, ?it/s]"
      ]
     },
     "metadata": {}
    },
    {
     "output_type": "stream",
     "name": "stderr",
     "text": [
      "GPU available: True (cuda), used: True\n",
      "TPU available: False, using: 0 TPU cores\n",
      "IPU available: False, using: 0 IPUs\n",
      "HPU available: False, using: 0 HPUs\n",
      "LOCAL_RANK: 0 - CUDA_VISIBLE_DEVICES: [0]\n"
     ]
    },
    {
     "output_type": "display_data",
     "data": {
      "application/vnd.jupyter.widget-view+json": {
       "version_major": 2,
       "version_minor": 0,
       "model_id": "0a170c27971e40c387a969f495e9dc77"
      },
      "text/plain": [
       "Testing: |          | 0/? [00:00<?, ?it/s]"
      ]
     },
     "metadata": {}
    },
    {
     "output_type": "stream",
     "name": "stderr",
     "text": [
      "LOCAL_RANK: 0 - CUDA_VISIBLE_DEVICES: [0]\n",
      "\n",
      "  | Name | Type       | Params\n",
      "------------------------------------\n",
      "0 | fc   | Sequential | 5.1 K \n",
      "------------------------------------\n",
      "5.1 K     Trainable params\n",
      "0         Non-trainable params\n",
      "5.1 K     Total params\n",
      "0.020     Total estimated model params size (MB)\n"
     ]
    },
    {
     "output_type": "display_data",
     "data": {
      "application/vnd.jupyter.widget-view+json": {
       "version_major": 2,
       "version_minor": 0,
       "model_id": "d5957e6885ae4db78eba5cb6f024922a"
      },
      "text/plain": [
       "Training: |          | 0/? [00:00<?, ?it/s]"
      ]
     },
     "metadata": {}
    },
    {
     "output_type": "stream",
     "name": "stderr",
     "text": [
      "`Trainer.fit` stopped: `max_epochs=50` reached.\n",
      "LOCAL_RANK: 0 - CUDA_VISIBLE_DEVICES: [0]\n"
     ]
    },
    {
     "output_type": "display_data",
     "data": {
      "application/vnd.jupyter.widget-view+json": {
       "version_major": 2,
       "version_minor": 0,
       "model_id": "f2b3a87abc1e417794f5f7177676f853"
      },
      "text/plain": [
       "Testing: |          | 0/? [00:00<?, ?it/s]"
      ]
     },
     "metadata": {}
    },
    {
     "output_type": "stream",
     "name": "stderr",
     "text": [
      "GPU available: True (cuda), used: True\n",
      "TPU available: False, using: 0 TPU cores\n",
      "IPU available: False, using: 0 IPUs\n",
      "HPU available: False, using: 0 HPUs\n",
      "LOCAL_RANK: 0 - CUDA_VISIBLE_DEVICES: [0]\n"
     ]
    },
    {
     "output_type": "display_data",
     "data": {
      "application/vnd.jupyter.widget-view+json": {
       "version_major": 2,
       "version_minor": 0,
       "model_id": "cceaf973acd6473aa835b1260abae0ed"
      },
      "text/plain": [
       "Testing: |          | 0/? [00:00<?, ?it/s]"
      ]
     },
     "metadata": {}
    },
    {
     "output_type": "stream",
     "name": "stderr",
     "text": [
      "LOCAL_RANK: 0 - CUDA_VISIBLE_DEVICES: [0]\n",
      "\n",
      "  | Name | Type       | Params\n",
      "------------------------------------\n",
      "0 | fc   | Sequential | 5.1 K \n",
      "------------------------------------\n",
      "5.1 K     Trainable params\n",
      "0         Non-trainable params\n",
      "5.1 K     Total params\n",
      "0.020     Total estimated model params size (MB)\n"
     ]
    },
    {
     "output_type": "display_data",
     "data": {
      "application/vnd.jupyter.widget-view+json": {
       "version_major": 2,
       "version_minor": 0,
       "model_id": "770b8d9d9eeb44f387a45eeb50e1d98a"
      },
      "text/plain": [
       "Training: |          | 0/? [00:00<?, ?it/s]"
      ]
     },
     "metadata": {}
    },
    {
     "output_type": "stream",
     "name": "stderr",
     "text": [
      "`Trainer.fit` stopped: `max_epochs=50` reached.\n",
      "LOCAL_RANK: 0 - CUDA_VISIBLE_DEVICES: [0]\n"
     ]
    },
    {
     "output_type": "display_data",
     "data": {
      "application/vnd.jupyter.widget-view+json": {
       "version_major": 2,
       "version_minor": 0,
       "model_id": "7f4f6cd87e9241d4a4584dcbd2e1c351"
      },
      "text/plain": [
       "Testing: |          | 0/? [00:00<?, ?it/s]"
      ]
     },
     "metadata": {}
    },
    {
     "output_type": "stream",
     "name": "stderr",
     "text": [
      "GPU available: True (cuda), used: True\n",
      "TPU available: False, using: 0 TPU cores\n",
      "IPU available: False, using: 0 IPUs\n",
      "HPU available: False, using: 0 HPUs\n",
      "LOCAL_RANK: 0 - CUDA_VISIBLE_DEVICES: [0]\n"
     ]
    },
    {
     "output_type": "display_data",
     "data": {
      "application/vnd.jupyter.widget-view+json": {
       "version_major": 2,
       "version_minor": 0,
       "model_id": "7be43aced4844343b22c0eac67055128"
      },
      "text/plain": [
       "Testing: |          | 0/? [00:00<?, ?it/s]"
      ]
     },
     "metadata": {}
    },
    {
     "output_type": "stream",
     "name": "stderr",
     "text": [
      "LOCAL_RANK: 0 - CUDA_VISIBLE_DEVICES: [0]\n",
      "\n",
      "  | Name | Type       | Params\n",
      "------------------------------------\n",
      "0 | fc   | Sequential | 5.1 K \n",
      "------------------------------------\n",
      "5.1 K     Trainable params\n",
      "0         Non-trainable params\n",
      "5.1 K     Total params\n",
      "0.020     Total estimated model params size (MB)\n"
     ]
    },
    {
     "output_type": "display_data",
     "data": {
      "application/vnd.jupyter.widget-view+json": {
       "version_major": 2,
       "version_minor": 0,
       "model_id": "88ed73aad647436086eca856f5d1d893"
      },
      "text/plain": [
       "Training: |          | 0/? [00:00<?, ?it/s]"
      ]
     },
     "metadata": {}
    },
    {
     "output_type": "stream",
     "name": "stderr",
     "text": [
      "`Trainer.fit` stopped: `max_epochs=50` reached.\n",
      "LOCAL_RANK: 0 - CUDA_VISIBLE_DEVICES: [0]\n"
     ]
    },
    {
     "output_type": "display_data",
     "data": {
      "application/vnd.jupyter.widget-view+json": {
       "version_major": 2,
       "version_minor": 0,
       "model_id": "4be8b30588fc448fbf210346f812c8ec"
      },
      "text/plain": [
       "Testing: |          | 0/? [00:00<?, ?it/s]"
      ]
     },
     "metadata": {}
    },
    {
     "output_type": "execute_result",
     "data": {
      "text/html": [
       "<div>\n",
       "<style scoped>\n",
       "    .dataframe tbody tr th:only-of-type {\n",
       "        vertical-align: middle;\n",
       "    }\n",
       "\n",
       "    .dataframe tbody tr th {\n",
       "        vertical-align: top;\n",
       "    }\n",
       "\n",
       "    .dataframe thead th {\n",
       "        text-align: right;\n",
       "    }\n",
       "</style>\n",
       "<table border=\"1\" class=\"dataframe\">\n",
       "  <thead>\n",
       "    <tr style=\"text-align: right;\">\n",
       "      <th></th>\n",
       "      <th>FS, acc</th>\n",
       "      <th>FS, # samples</th>\n",
       "      <th>FS, # correct</th>\n",
       "      <th>FS, # known q.</th>\n",
       "      <th>FS, DS true/all</th>\n",
       "      <th>LR, acc</th>\n",
       "      <th>LR, # samples</th>\n",
       "      <th>LR, # correct</th>\n",
       "      <th>LR, # known q.</th>\n",
       "      <th>LR, DS true/all</th>\n",
       "      <th>CCS, random acc</th>\n",
       "      <th>CCS, acc, mean</th>\n",
       "      <th>CCS, acc, std</th>\n",
       "      <th>CCS, random acc, mean</th>\n",
       "      <th>CCS, random acc, std</th>\n",
       "      <th>CCS, # samples</th>\n",
       "      <th>CCS, # known q</th>\n",
       "      <th>CCS, DS true/all</th>\n",
       "    </tr>\n",
       "  </thead>\n",
       "  <tbody>\n",
       "    <tr>\n",
       "      <th>One statement</th>\n",
       "      <td>0.596083</td>\n",
       "      <td>1634.0</td>\n",
       "      <td>974.0</td>\n",
       "      <td>279.0</td>\n",
       "      <td>0.500000</td>\n",
       "      <td>0.960220</td>\n",
       "      <td>1634.0</td>\n",
       "      <td>1569.0</td>\n",
       "      <td>754.0</td>\n",
       "      <td>0.500000</td>\n",
       "      <td>0.0</td>\n",
       "      <td>0.721713</td>\n",
       "      <td>0.037412</td>\n",
       "      <td>0.596840</td>\n",
       "      <td>0.044646</td>\n",
       "      <td>1634.0</td>\n",
       "      <td>268.0</td>\n",
       "      <td>0.500000</td>\n",
       "    </tr>\n",
       "    <tr>\n",
       "      <th>Disjunction</th>\n",
       "      <td>0.371464</td>\n",
       "      <td>1591.0</td>\n",
       "      <td>591.0</td>\n",
       "      <td>107.0</td>\n",
       "      <td>0.513514</td>\n",
       "      <td>0.920805</td>\n",
       "      <td>1591.0</td>\n",
       "      <td>1465.0</td>\n",
       "      <td>692.0</td>\n",
       "      <td>0.513514</td>\n",
       "      <td>0.0</td>\n",
       "      <td>0.572623</td>\n",
       "      <td>0.012096</td>\n",
       "      <td>0.576803</td>\n",
       "      <td>0.021107</td>\n",
       "      <td>1591.0</td>\n",
       "      <td>231.0</td>\n",
       "      <td>0.513514</td>\n",
       "    </tr>\n",
       "    <tr>\n",
       "      <th>Conjunction</th>\n",
       "      <td>0.443734</td>\n",
       "      <td>1564.0</td>\n",
       "      <td>694.0</td>\n",
       "      <td>87.0</td>\n",
       "      <td>0.477621</td>\n",
       "      <td>0.928389</td>\n",
       "      <td>1564.0</td>\n",
       "      <td>1452.0</td>\n",
       "      <td>705.0</td>\n",
       "      <td>0.477621</td>\n",
       "      <td>NaN</td>\n",
       "      <td>NaN</td>\n",
       "      <td>NaN</td>\n",
       "      <td>NaN</td>\n",
       "      <td>NaN</td>\n",
       "      <td>NaN</td>\n",
       "      <td>NaN</td>\n",
       "      <td>NaN</td>\n",
       "    </tr>\n",
       "  </tbody>\n",
       "</table>\n",
       "</div>"
      ],
      "text/plain": [
       "                FS, acc  FS, # samples  FS, # correct  FS, # known q.  \\\n",
       "One statement  0.596083         1634.0          974.0           279.0   \n",
       "Disjunction    0.371464         1591.0          591.0           107.0   \n",
       "Conjunction    0.443734         1564.0          694.0            87.0   \n",
       "\n",
       "               FS, DS true/all   LR, acc  LR, # samples  LR, # correct  \\\n",
       "One statement         0.500000  0.960220         1634.0         1569.0   \n",
       "Disjunction           0.513514  0.920805         1591.0         1465.0   \n",
       "Conjunction           0.477621  0.928389         1564.0         1452.0   \n",
       "\n",
       "               LR, # known q.  LR, DS true/all  CCS, random acc  \\\n",
       "One statement           754.0         0.500000              0.0   \n",
       "Disjunction             692.0         0.513514              0.0   \n",
       "Conjunction             705.0         0.477621              NaN   \n",
       "\n",
       "               CCS, acc, mean  CCS, acc, std  CCS, random acc, mean  \\\n",
       "One statement        0.721713       0.037412               0.596840   \n",
       "Disjunction          0.572623       0.012096               0.576803   \n",
       "Conjunction               NaN            NaN                    NaN   \n",
       "\n",
       "               CCS, random acc, std  CCS, # samples  CCS, # known q  \\\n",
       "One statement              0.044646          1634.0           268.0   \n",
       "Disjunction                0.021107          1591.0           231.0   \n",
       "Conjunction                     NaN             NaN             NaN   \n",
       "\n",
       "               CCS, DS true/all  \n",
       "One statement          0.500000  \n",
       "Disjunction            0.513514  \n",
       "Conjunction                 NaN  "
      ]
     },
     "metadata": {},
     "execution_count": 29
    }
   ],
   "metadata": {}
  },
  {
   "cell_type": "code",
   "execution_count": 30,
   "source": [
    "# CCS probe - Conjunction statement\n",
    "conj_ccs_probe = calc_CCS_accuracy(conj_train_dl, conj_test_dl, report, \"Conjunction\")\n",
    "report"
   ],
   "outputs": [
    {
     "output_type": "stream",
     "name": "stderr",
     "text": [
      "GPU available: True (cuda), used: True\n",
      "TPU available: False, using: 0 TPU cores\n",
      "IPU available: False, using: 0 IPUs\n",
      "HPU available: False, using: 0 HPUs\n",
      "LOCAL_RANK: 0 - CUDA_VISIBLE_DEVICES: [0]\n",
      "/opt/conda/lib/python3.10/site-packages/lightning/pytorch/trainer/connectors/data_connector.py:441: The 'test_dataloader' does not have many workers which may be a bottleneck. Consider increasing the value of the `num_workers` argument` to `num_workers=63` in the `DataLoader` to improve performance.\n"
     ]
    },
    {
     "output_type": "display_data",
     "data": {
      "application/vnd.jupyter.widget-view+json": {
       "version_major": 2,
       "version_minor": 0,
       "model_id": "d48cff3d85e64dd3b33b3f2453475e6d"
      },
      "text/plain": [
       "Testing: |          | 0/? [00:00<?, ?it/s]"
      ]
     },
     "metadata": {}
    },
    {
     "output_type": "stream",
     "name": "stderr",
     "text": [
      "LOCAL_RANK: 0 - CUDA_VISIBLE_DEVICES: [0]\n",
      "\n",
      "  | Name | Type       | Params\n",
      "------------------------------------\n",
      "0 | fc   | Sequential | 5.1 K \n",
      "------------------------------------\n",
      "5.1 K     Trainable params\n",
      "0         Non-trainable params\n",
      "5.1 K     Total params\n",
      "0.020     Total estimated model params size (MB)\n",
      "/opt/conda/lib/python3.10/site-packages/lightning/pytorch/trainer/connectors/data_connector.py:441: The 'train_dataloader' does not have many workers which may be a bottleneck. Consider increasing the value of the `num_workers` argument` to `num_workers=63` in the `DataLoader` to improve performance.\n",
      "/opt/conda/lib/python3.10/site-packages/lightning/pytorch/loops/fit_loop.py:293: The number of training batches (40) is smaller than the logging interval Trainer(log_every_n_steps=50). Set a lower value for log_every_n_steps if you want to see logs for the training epoch.\n"
     ]
    },
    {
     "output_type": "display_data",
     "data": {
      "application/vnd.jupyter.widget-view+json": {
       "version_major": 2,
       "version_minor": 0,
       "model_id": "85678dd0b379424ab6dfe5c6f57e578d"
      },
      "text/plain": [
       "Training: |          | 0/? [00:00<?, ?it/s]"
      ]
     },
     "metadata": {}
    },
    {
     "output_type": "stream",
     "name": "stderr",
     "text": [
      "`Trainer.fit` stopped: `max_epochs=50` reached.\n",
      "LOCAL_RANK: 0 - CUDA_VISIBLE_DEVICES: [0]\n"
     ]
    },
    {
     "output_type": "display_data",
     "data": {
      "application/vnd.jupyter.widget-view+json": {
       "version_major": 2,
       "version_minor": 0,
       "model_id": "6cefae46f90e40928bfcc0f1bbe23618"
      },
      "text/plain": [
       "Testing: |          | 0/? [00:00<?, ?it/s]"
      ]
     },
     "metadata": {}
    },
    {
     "output_type": "stream",
     "name": "stderr",
     "text": [
      "GPU available: True (cuda), used: True\n",
      "TPU available: False, using: 0 TPU cores\n",
      "IPU available: False, using: 0 IPUs\n",
      "HPU available: False, using: 0 HPUs\n",
      "LOCAL_RANK: 0 - CUDA_VISIBLE_DEVICES: [0]\n"
     ]
    },
    {
     "output_type": "display_data",
     "data": {
      "application/vnd.jupyter.widget-view+json": {
       "version_major": 2,
       "version_minor": 0,
       "model_id": "18e4f7b32cc24dc9a0797ad1428e1464"
      },
      "text/plain": [
       "Testing: |          | 0/? [00:00<?, ?it/s]"
      ]
     },
     "metadata": {}
    },
    {
     "output_type": "stream",
     "name": "stderr",
     "text": [
      "LOCAL_RANK: 0 - CUDA_VISIBLE_DEVICES: [0]\n",
      "\n",
      "  | Name | Type       | Params\n",
      "------------------------------------\n",
      "0 | fc   | Sequential | 5.1 K \n",
      "------------------------------------\n",
      "5.1 K     Trainable params\n",
      "0         Non-trainable params\n",
      "5.1 K     Total params\n",
      "0.020     Total estimated model params size (MB)\n"
     ]
    },
    {
     "output_type": "display_data",
     "data": {
      "application/vnd.jupyter.widget-view+json": {
       "version_major": 2,
       "version_minor": 0,
       "model_id": "b1b061c69f1b42568b1fb8dac172b104"
      },
      "text/plain": [
       "Training: |          | 0/? [00:00<?, ?it/s]"
      ]
     },
     "metadata": {}
    },
    {
     "output_type": "stream",
     "name": "stderr",
     "text": [
      "`Trainer.fit` stopped: `max_epochs=50` reached.\n",
      "LOCAL_RANK: 0 - CUDA_VISIBLE_DEVICES: [0]\n"
     ]
    },
    {
     "output_type": "display_data",
     "data": {
      "application/vnd.jupyter.widget-view+json": {
       "version_major": 2,
       "version_minor": 0,
       "model_id": "8f9b804c31334734aa4fa6b7708c6b31"
      },
      "text/plain": [
       "Testing: |          | 0/? [00:00<?, ?it/s]"
      ]
     },
     "metadata": {}
    },
    {
     "output_type": "stream",
     "name": "stderr",
     "text": [
      "GPU available: True (cuda), used: True\n",
      "TPU available: False, using: 0 TPU cores\n",
      "IPU available: False, using: 0 IPUs\n",
      "HPU available: False, using: 0 HPUs\n",
      "LOCAL_RANK: 0 - CUDA_VISIBLE_DEVICES: [0]\n"
     ]
    },
    {
     "output_type": "display_data",
     "data": {
      "application/vnd.jupyter.widget-view+json": {
       "version_major": 2,
       "version_minor": 0,
       "model_id": "b1c257d3dbd3460b82aea73704d94b23"
      },
      "text/plain": [
       "Testing: |          | 0/? [00:00<?, ?it/s]"
      ]
     },
     "metadata": {}
    },
    {
     "output_type": "stream",
     "name": "stderr",
     "text": [
      "LOCAL_RANK: 0 - CUDA_VISIBLE_DEVICES: [0]\n",
      "\n",
      "  | Name | Type       | Params\n",
      "------------------------------------\n",
      "0 | fc   | Sequential | 5.1 K \n",
      "------------------------------------\n",
      "5.1 K     Trainable params\n",
      "0         Non-trainable params\n",
      "5.1 K     Total params\n",
      "0.020     Total estimated model params size (MB)\n"
     ]
    },
    {
     "output_type": "display_data",
     "data": {
      "application/vnd.jupyter.widget-view+json": {
       "version_major": 2,
       "version_minor": 0,
       "model_id": "33ce06bf8875469e8080cfae2cefd1c2"
      },
      "text/plain": [
       "Training: |          | 0/? [00:00<?, ?it/s]"
      ]
     },
     "metadata": {}
    },
    {
     "output_type": "stream",
     "name": "stderr",
     "text": [
      "`Trainer.fit` stopped: `max_epochs=50` reached.\n",
      "LOCAL_RANK: 0 - CUDA_VISIBLE_DEVICES: [0]\n"
     ]
    },
    {
     "output_type": "display_data",
     "data": {
      "application/vnd.jupyter.widget-view+json": {
       "version_major": 2,
       "version_minor": 0,
       "model_id": "1c49a79a9b8044c889dfe9980bcf37be"
      },
      "text/plain": [
       "Testing: |          | 0/? [00:00<?, ?it/s]"
      ]
     },
     "metadata": {}
    },
    {
     "output_type": "stream",
     "name": "stderr",
     "text": [
      "GPU available: True (cuda), used: True\n",
      "TPU available: False, using: 0 TPU cores\n",
      "IPU available: False, using: 0 IPUs\n",
      "HPU available: False, using: 0 HPUs\n",
      "LOCAL_RANK: 0 - CUDA_VISIBLE_DEVICES: [0]\n"
     ]
    },
    {
     "output_type": "display_data",
     "data": {
      "application/vnd.jupyter.widget-view+json": {
       "version_major": 2,
       "version_minor": 0,
       "model_id": "4594589683e74404b811a51974a46522"
      },
      "text/plain": [
       "Testing: |          | 0/? [00:00<?, ?it/s]"
      ]
     },
     "metadata": {}
    },
    {
     "output_type": "stream",
     "name": "stderr",
     "text": [
      "LOCAL_RANK: 0 - CUDA_VISIBLE_DEVICES: [0]\n",
      "\n",
      "  | Name | Type       | Params\n",
      "------------------------------------\n",
      "0 | fc   | Sequential | 5.1 K \n",
      "------------------------------------\n",
      "5.1 K     Trainable params\n",
      "0         Non-trainable params\n",
      "5.1 K     Total params\n",
      "0.020     Total estimated model params size (MB)\n"
     ]
    },
    {
     "output_type": "display_data",
     "data": {
      "application/vnd.jupyter.widget-view+json": {
       "version_major": 2,
       "version_minor": 0,
       "model_id": "629c42a8721645809e830d2aeb59716c"
      },
      "text/plain": [
       "Training: |          | 0/? [00:00<?, ?it/s]"
      ]
     },
     "metadata": {}
    },
    {
     "output_type": "stream",
     "name": "stderr",
     "text": [
      "`Trainer.fit` stopped: `max_epochs=50` reached.\n",
      "LOCAL_RANK: 0 - CUDA_VISIBLE_DEVICES: [0]\n"
     ]
    },
    {
     "output_type": "display_data",
     "data": {
      "application/vnd.jupyter.widget-view+json": {
       "version_major": 2,
       "version_minor": 0,
       "model_id": "0c17d3a34a7743b29608e236ae483b11"
      },
      "text/plain": [
       "Testing: |          | 0/? [00:00<?, ?it/s]"
      ]
     },
     "metadata": {}
    },
    {
     "output_type": "stream",
     "name": "stderr",
     "text": [
      "GPU available: True (cuda), used: True\n",
      "TPU available: False, using: 0 TPU cores\n",
      "IPU available: False, using: 0 IPUs\n",
      "HPU available: False, using: 0 HPUs\n",
      "LOCAL_RANK: 0 - CUDA_VISIBLE_DEVICES: [0]\n"
     ]
    },
    {
     "output_type": "display_data",
     "data": {
      "application/vnd.jupyter.widget-view+json": {
       "version_major": 2,
       "version_minor": 0,
       "model_id": "46a88ff103134c369abbbf56f4b73afc"
      },
      "text/plain": [
       "Testing: |          | 0/? [00:00<?, ?it/s]"
      ]
     },
     "metadata": {}
    },
    {
     "output_type": "stream",
     "name": "stderr",
     "text": [
      "LOCAL_RANK: 0 - CUDA_VISIBLE_DEVICES: [0]\n",
      "\n",
      "  | Name | Type       | Params\n",
      "------------------------------------\n",
      "0 | fc   | Sequential | 5.1 K \n",
      "------------------------------------\n",
      "5.1 K     Trainable params\n",
      "0         Non-trainable params\n",
      "5.1 K     Total params\n",
      "0.020     Total estimated model params size (MB)\n"
     ]
    },
    {
     "output_type": "display_data",
     "data": {
      "application/vnd.jupyter.widget-view+json": {
       "version_major": 2,
       "version_minor": 0,
       "model_id": "41a13ca60b034352a0efa632142e775f"
      },
      "text/plain": [
       "Training: |          | 0/? [00:00<?, ?it/s]"
      ]
     },
     "metadata": {}
    },
    {
     "output_type": "stream",
     "name": "stderr",
     "text": [
      "`Trainer.fit` stopped: `max_epochs=50` reached.\n",
      "LOCAL_RANK: 0 - CUDA_VISIBLE_DEVICES: [0]\n"
     ]
    },
    {
     "output_type": "display_data",
     "data": {
      "application/vnd.jupyter.widget-view+json": {
       "version_major": 2,
       "version_minor": 0,
       "model_id": "d7e4ae38badd4a5e9230c579e4d3a63a"
      },
      "text/plain": [
       "Testing: |          | 0/? [00:00<?, ?it/s]"
      ]
     },
     "metadata": {}
    },
    {
     "output_type": "stream",
     "name": "stderr",
     "text": [
      "GPU available: True (cuda), used: True\n",
      "TPU available: False, using: 0 TPU cores\n",
      "IPU available: False, using: 0 IPUs\n",
      "HPU available: False, using: 0 HPUs\n",
      "LOCAL_RANK: 0 - CUDA_VISIBLE_DEVICES: [0]\n"
     ]
    },
    {
     "output_type": "display_data",
     "data": {
      "application/vnd.jupyter.widget-view+json": {
       "version_major": 2,
       "version_minor": 0,
       "model_id": "8a9d237cd5a0404f950cb068ddef1202"
      },
      "text/plain": [
       "Testing: |          | 0/? [00:00<?, ?it/s]"
      ]
     },
     "metadata": {}
    },
    {
     "output_type": "stream",
     "name": "stderr",
     "text": [
      "LOCAL_RANK: 0 - CUDA_VISIBLE_DEVICES: [0]\n",
      "\n",
      "  | Name | Type       | Params\n",
      "------------------------------------\n",
      "0 | fc   | Sequential | 5.1 K \n",
      "------------------------------------\n",
      "5.1 K     Trainable params\n",
      "0         Non-trainable params\n",
      "5.1 K     Total params\n",
      "0.020     Total estimated model params size (MB)\n"
     ]
    },
    {
     "output_type": "display_data",
     "data": {
      "application/vnd.jupyter.widget-view+json": {
       "version_major": 2,
       "version_minor": 0,
       "model_id": "20c3a5a8c29943f2a3455a93e3bb8fd8"
      },
      "text/plain": [
       "Training: |          | 0/? [00:00<?, ?it/s]"
      ]
     },
     "metadata": {}
    },
    {
     "output_type": "stream",
     "name": "stderr",
     "text": [
      "`Trainer.fit` stopped: `max_epochs=50` reached.\n",
      "LOCAL_RANK: 0 - CUDA_VISIBLE_DEVICES: [0]\n"
     ]
    },
    {
     "output_type": "display_data",
     "data": {
      "application/vnd.jupyter.widget-view+json": {
       "version_major": 2,
       "version_minor": 0,
       "model_id": "44b6d7cf04904038b74e52b5bf191304"
      },
      "text/plain": [
       "Testing: |          | 0/? [00:00<?, ?it/s]"
      ]
     },
     "metadata": {}
    },
    {
     "output_type": "execute_result",
     "data": {
      "text/html": [
       "<div>\n",
       "<style scoped>\n",
       "    .dataframe tbody tr th:only-of-type {\n",
       "        vertical-align: middle;\n",
       "    }\n",
       "\n",
       "    .dataframe tbody tr th {\n",
       "        vertical-align: top;\n",
       "    }\n",
       "\n",
       "    .dataframe thead th {\n",
       "        text-align: right;\n",
       "    }\n",
       "</style>\n",
       "<table border=\"1\" class=\"dataframe\">\n",
       "  <thead>\n",
       "    <tr style=\"text-align: right;\">\n",
       "      <th></th>\n",
       "      <th>FS, acc</th>\n",
       "      <th>FS, # samples</th>\n",
       "      <th>FS, # correct</th>\n",
       "      <th>FS, # known q.</th>\n",
       "      <th>FS, DS true/all</th>\n",
       "      <th>LR, acc</th>\n",
       "      <th>LR, # samples</th>\n",
       "      <th>LR, # correct</th>\n",
       "      <th>LR, # known q.</th>\n",
       "      <th>LR, DS true/all</th>\n",
       "      <th>CCS, random acc</th>\n",
       "      <th>CCS, acc, mean</th>\n",
       "      <th>CCS, acc, std</th>\n",
       "      <th>CCS, random acc, mean</th>\n",
       "      <th>CCS, random acc, std</th>\n",
       "      <th>CCS, # samples</th>\n",
       "      <th>CCS, # known q</th>\n",
       "      <th>CCS, DS true/all</th>\n",
       "    </tr>\n",
       "  </thead>\n",
       "  <tbody>\n",
       "    <tr>\n",
       "      <th>One statement</th>\n",
       "      <td>0.596083</td>\n",
       "      <td>1634.0</td>\n",
       "      <td>974.0</td>\n",
       "      <td>279.0</td>\n",
       "      <td>0.500000</td>\n",
       "      <td>0.960220</td>\n",
       "      <td>1634.0</td>\n",
       "      <td>1569.0</td>\n",
       "      <td>754.0</td>\n",
       "      <td>0.500000</td>\n",
       "      <td>0.0</td>\n",
       "      <td>0.721713</td>\n",
       "      <td>0.037412</td>\n",
       "      <td>0.596840</td>\n",
       "      <td>0.044646</td>\n",
       "      <td>1634.0</td>\n",
       "      <td>268.0</td>\n",
       "      <td>0.500000</td>\n",
       "    </tr>\n",
       "    <tr>\n",
       "      <th>Disjunction</th>\n",
       "      <td>0.371464</td>\n",
       "      <td>1591.0</td>\n",
       "      <td>591.0</td>\n",
       "      <td>107.0</td>\n",
       "      <td>0.513514</td>\n",
       "      <td>0.920805</td>\n",
       "      <td>1591.0</td>\n",
       "      <td>1465.0</td>\n",
       "      <td>692.0</td>\n",
       "      <td>0.513514</td>\n",
       "      <td>0.0</td>\n",
       "      <td>0.572623</td>\n",
       "      <td>0.012096</td>\n",
       "      <td>0.576803</td>\n",
       "      <td>0.021107</td>\n",
       "      <td>1591.0</td>\n",
       "      <td>231.0</td>\n",
       "      <td>0.513514</td>\n",
       "    </tr>\n",
       "    <tr>\n",
       "      <th>Conjunction</th>\n",
       "      <td>0.443734</td>\n",
       "      <td>1564.0</td>\n",
       "      <td>694.0</td>\n",
       "      <td>87.0</td>\n",
       "      <td>0.477621</td>\n",
       "      <td>0.928389</td>\n",
       "      <td>1564.0</td>\n",
       "      <td>1452.0</td>\n",
       "      <td>705.0</td>\n",
       "      <td>0.477621</td>\n",
       "      <td>0.0</td>\n",
       "      <td>0.651757</td>\n",
       "      <td>0.053999</td>\n",
       "      <td>0.597977</td>\n",
       "      <td>0.024500</td>\n",
       "      <td>1564.0</td>\n",
       "      <td>242.0</td>\n",
       "      <td>0.477621</td>\n",
       "    </tr>\n",
       "  </tbody>\n",
       "</table>\n",
       "</div>"
      ],
      "text/plain": [
       "                FS, acc  FS, # samples  FS, # correct  FS, # known q.  \\\n",
       "One statement  0.596083         1634.0          974.0           279.0   \n",
       "Disjunction    0.371464         1591.0          591.0           107.0   \n",
       "Conjunction    0.443734         1564.0          694.0            87.0   \n",
       "\n",
       "               FS, DS true/all   LR, acc  LR, # samples  LR, # correct  \\\n",
       "One statement         0.500000  0.960220         1634.0         1569.0   \n",
       "Disjunction           0.513514  0.920805         1591.0         1465.0   \n",
       "Conjunction           0.477621  0.928389         1564.0         1452.0   \n",
       "\n",
       "               LR, # known q.  LR, DS true/all  CCS, random acc  \\\n",
       "One statement           754.0         0.500000              0.0   \n",
       "Disjunction             692.0         0.513514              0.0   \n",
       "Conjunction             705.0         0.477621              0.0   \n",
       "\n",
       "               CCS, acc, mean  CCS, acc, std  CCS, random acc, mean  \\\n",
       "One statement        0.721713       0.037412               0.596840   \n",
       "Disjunction          0.572623       0.012096               0.576803   \n",
       "Conjunction          0.651757       0.053999               0.597977   \n",
       "\n",
       "               CCS, random acc, std  CCS, # samples  CCS, # known q  \\\n",
       "One statement              0.044646          1634.0           268.0   \n",
       "Disjunction                0.021107          1591.0           231.0   \n",
       "Conjunction                0.024500          1564.0           242.0   \n",
       "\n",
       "               CCS, DS true/all  \n",
       "One statement          0.500000  \n",
       "Disjunction            0.513514  \n",
       "Conjunction            0.477621  "
      ]
     },
     "metadata": {},
     "execution_count": 30
    }
   ],
   "metadata": {}
  },
  {
   "cell_type": "code",
   "execution_count": 31,
   "source": [
    "# Intersection matrix:\n",
    "\n",
    "def intersection(a, b):\n",
    "    im = np.zeros((3, 3))\n",
    "    for i, a_set in enumerate(a):\n",
    "        for j, b_set in enumerate(b):\n",
    "            im[i, j] = len(a_set.intersection(b_set))\n",
    "    return im\n",
    "\n",
    "fs_sets = [fs_one_known_qs, fs_disj_known_qs, fs_conj_known_qs]\n",
    "ccs_sets = [one_ccs_probe.known_questions, disj_ccs_probe.known_questions, conj_ccs_probe.known_questions]\n",
    "lr_sets = [lr_one_indexes, lr_disj_indexes, lr_conj_indexes]\n",
    "sets_names = [\"FS\", \"CCS\", \"LR\"]\n",
    "subsets_names = [\"One statement\", \"Disjunction\", \"Conjunction\"]\n",
    "for i, sets in enumerate([fs_sets, ccs_sets, lr_sets]):\n",
    "    for j, sets2 in enumerate([fs_sets, ccs_sets, lr_sets][i+1:]):\n",
    "        j = j + i + 1\n",
    "        print(f\"Intersection {sets_names[i]} vs {sets_names[j]}:\")\n",
    "        df = pd.DataFrame(\n",
    "                intersection(sets, sets2),\n",
    "                columns=subsets_names,\n",
    "                index=subsets_names,\n",
    "            )\n",
    "        display(df)\n",
    "        np.save(f\"data/llama{llama_size}/truthful_qa_{sets_names[i]}_vs_{sets_names[j]}.npy\", df.to_numpy())"
   ],
   "outputs": [
    {
     "output_type": "stream",
     "name": "stdout",
     "text": [
      "Intersection FS vs CCS:\n"
     ]
    },
    {
     "output_type": "display_data",
     "data": {
      "text/html": [
       "<div>\n",
       "<style scoped>\n",
       "    .dataframe tbody tr th:only-of-type {\n",
       "        vertical-align: middle;\n",
       "    }\n",
       "\n",
       "    .dataframe tbody tr th {\n",
       "        vertical-align: top;\n",
       "    }\n",
       "\n",
       "    .dataframe thead th {\n",
       "        text-align: right;\n",
       "    }\n",
       "</style>\n",
       "<table border=\"1\" class=\"dataframe\">\n",
       "  <thead>\n",
       "    <tr style=\"text-align: right;\">\n",
       "      <th></th>\n",
       "      <th>One statement</th>\n",
       "      <th>Disjunction</th>\n",
       "      <th>Conjunction</th>\n",
       "    </tr>\n",
       "  </thead>\n",
       "  <tbody>\n",
       "    <tr>\n",
       "      <th>One statement</th>\n",
       "      <td>93.0</td>\n",
       "      <td>85.0</td>\n",
       "      <td>80.0</td>\n",
       "    </tr>\n",
       "    <tr>\n",
       "      <th>Disjunction</th>\n",
       "      <td>32.0</td>\n",
       "      <td>33.0</td>\n",
       "      <td>28.0</td>\n",
       "    </tr>\n",
       "    <tr>\n",
       "      <th>Conjunction</th>\n",
       "      <td>31.0</td>\n",
       "      <td>33.0</td>\n",
       "      <td>22.0</td>\n",
       "    </tr>\n",
       "  </tbody>\n",
       "</table>\n",
       "</div>"
      ],
      "text/plain": [
       "               One statement  Disjunction  Conjunction\n",
       "One statement           93.0         85.0         80.0\n",
       "Disjunction             32.0         33.0         28.0\n",
       "Conjunction             31.0         33.0         22.0"
      ]
     },
     "metadata": {}
    },
    {
     "output_type": "stream",
     "name": "stdout",
     "text": [
      "Intersection FS vs LR:\n"
     ]
    },
    {
     "output_type": "display_data",
     "data": {
      "text/html": [
       "<div>\n",
       "<style scoped>\n",
       "    .dataframe tbody tr th:only-of-type {\n",
       "        vertical-align: middle;\n",
       "    }\n",
       "\n",
       "    .dataframe tbody tr th {\n",
       "        vertical-align: top;\n",
       "    }\n",
       "\n",
       "    .dataframe thead th {\n",
       "        text-align: right;\n",
       "    }\n",
       "</style>\n",
       "<table border=\"1\" class=\"dataframe\">\n",
       "  <thead>\n",
       "    <tr style=\"text-align: right;\">\n",
       "      <th></th>\n",
       "      <th>One statement</th>\n",
       "      <th>Disjunction</th>\n",
       "      <th>Conjunction</th>\n",
       "    </tr>\n",
       "  </thead>\n",
       "  <tbody>\n",
       "    <tr>\n",
       "      <th>One statement</th>\n",
       "      <td>260.0</td>\n",
       "      <td>246.0</td>\n",
       "      <td>253.0</td>\n",
       "    </tr>\n",
       "    <tr>\n",
       "      <th>Disjunction</th>\n",
       "      <td>95.0</td>\n",
       "      <td>97.0</td>\n",
       "      <td>95.0</td>\n",
       "    </tr>\n",
       "    <tr>\n",
       "      <th>Conjunction</th>\n",
       "      <td>80.0</td>\n",
       "      <td>68.0</td>\n",
       "      <td>80.0</td>\n",
       "    </tr>\n",
       "  </tbody>\n",
       "</table>\n",
       "</div>"
      ],
      "text/plain": [
       "               One statement  Disjunction  Conjunction\n",
       "One statement          260.0        246.0        253.0\n",
       "Disjunction             95.0         97.0         95.0\n",
       "Conjunction             80.0         68.0         80.0"
      ]
     },
     "metadata": {}
    },
    {
     "output_type": "stream",
     "name": "stdout",
     "text": [
      "Intersection CCS vs LR:\n"
     ]
    },
    {
     "output_type": "display_data",
     "data": {
      "text/html": [
       "<div>\n",
       "<style scoped>\n",
       "    .dataframe tbody tr th:only-of-type {\n",
       "        vertical-align: middle;\n",
       "    }\n",
       "\n",
       "    .dataframe tbody tr th {\n",
       "        vertical-align: top;\n",
       "    }\n",
       "\n",
       "    .dataframe thead th {\n",
       "        text-align: right;\n",
       "    }\n",
       "</style>\n",
       "<table border=\"1\" class=\"dataframe\">\n",
       "  <thead>\n",
       "    <tr style=\"text-align: right;\">\n",
       "      <th></th>\n",
       "      <th>One statement</th>\n",
       "      <th>Disjunction</th>\n",
       "      <th>Conjunction</th>\n",
       "    </tr>\n",
       "  </thead>\n",
       "  <tbody>\n",
       "    <tr>\n",
       "      <th>One statement</th>\n",
       "      <td>230.0</td>\n",
       "      <td>237.0</td>\n",
       "      <td>237.0</td>\n",
       "    </tr>\n",
       "    <tr>\n",
       "      <th>Disjunction</th>\n",
       "      <td>213.0</td>\n",
       "      <td>176.0</td>\n",
       "      <td>199.0</td>\n",
       "    </tr>\n",
       "    <tr>\n",
       "      <th>Conjunction</th>\n",
       "      <td>224.0</td>\n",
       "      <td>206.0</td>\n",
       "      <td>200.0</td>\n",
       "    </tr>\n",
       "  </tbody>\n",
       "</table>\n",
       "</div>"
      ],
      "text/plain": [
       "               One statement  Disjunction  Conjunction\n",
       "One statement          230.0        237.0        237.0\n",
       "Disjunction            213.0        176.0        199.0\n",
       "Conjunction            224.0        206.0        200.0"
      ]
     },
     "metadata": {}
    }
   ],
   "metadata": {}
  },
  {
   "cell_type": "code",
   "execution_count": 32,
   "source": [
    "ccs_all_qs = set.union(*ccs_sets)\n",
    "fs_all_qs = set.union(*fs_sets)\n",
    "lr_all_qs = set.union(*lr_sets)\n",
    "\n",
    "# Questions identified by CCS but not by LR or by FS:\n",
    "ccs_only_qs = ccs_all_qs - fs_all_qs - lr_all_qs\n",
    "# Questions identified by LR but not by CCS or by FS:\n",
    "lr_only_qs = lr_all_qs - fs_all_qs - ccs_all_qs\n",
    "# Questions identified by FS but not by CCS or by LR:\n",
    "fs_only_qs = fs_all_qs - ccs_all_qs - lr_all_qs\n",
    "\n",
    "# Display:\n",
    "print(\"Unique questions identified by CCS but not by LR or by FS:\")\n",
    "df = pd.DataFrame(\n",
    "    {\n",
    "        \"CCS only\": len(ccs_only_qs),\n",
    "        \"LR only\": len(lr_only_qs),\n",
    "        \"FS only\": len(fs_only_qs),\n",
    "        \"CCS and LR\": len(ccs_all_qs & lr_all_qs),\n",
    "        \"CCS and FS\": len(ccs_all_qs & fs_all_qs),\n",
    "        \"LR and FS\": len(lr_all_qs & fs_all_qs),\n",
    "        \"CCS and LR and FS\": len(ccs_all_qs & lr_all_qs & fs_all_qs),\n",
    "    },\n",
    "    index=[\"# questions\"],\n",
    ").T\n",
    "\n",
    "display(df)"
   ],
   "outputs": [
    {
     "output_type": "stream",
     "name": "stdout",
     "text": [
      "Unique questions identified by CCS but not by LR or by FS:\n"
     ]
    },
    {
     "output_type": "display_data",
     "data": {
      "text/html": [
       "<div>\n",
       "<style scoped>\n",
       "    .dataframe tbody tr th:only-of-type {\n",
       "        vertical-align: middle;\n",
       "    }\n",
       "\n",
       "    .dataframe tbody tr th {\n",
       "        vertical-align: top;\n",
       "    }\n",
       "\n",
       "    .dataframe thead th {\n",
       "        text-align: right;\n",
       "    }\n",
       "</style>\n",
       "<table border=\"1\" class=\"dataframe\">\n",
       "  <thead>\n",
       "    <tr style=\"text-align: right;\">\n",
       "      <th></th>\n",
       "      <th># questions</th>\n",
       "    </tr>\n",
       "  </thead>\n",
       "  <tbody>\n",
       "    <tr>\n",
       "      <th>CCS only</th>\n",
       "      <td>5</td>\n",
       "    </tr>\n",
       "    <tr>\n",
       "      <th>LR only</th>\n",
       "      <td>163</td>\n",
       "    </tr>\n",
       "    <tr>\n",
       "      <th>FS only</th>\n",
       "      <td>0</td>\n",
       "    </tr>\n",
       "    <tr>\n",
       "      <th>CCS and LR</th>\n",
       "      <td>512</td>\n",
       "    </tr>\n",
       "    <tr>\n",
       "      <th>CCS and FS</th>\n",
       "      <td>233</td>\n",
       "    </tr>\n",
       "    <tr>\n",
       "      <th>LR and FS</th>\n",
       "      <td>370</td>\n",
       "    </tr>\n",
       "    <tr>\n",
       "      <th>CCS and LR and FS</th>\n",
       "      <td>233</td>\n",
       "    </tr>\n",
       "  </tbody>\n",
       "</table>\n",
       "</div>"
      ],
      "text/plain": [
       "                   # questions\n",
       "CCS only                     5\n",
       "LR only                    163\n",
       "FS only                      0\n",
       "CCS and LR                 512\n",
       "CCS and FS                 233\n",
       "LR and FS                  370\n",
       "CCS and LR and FS          233"
      ]
     },
     "metadata": {}
    }
   ],
   "metadata": {}
  },
  {
   "cell_type": "code",
   "execution_count": 33,
   "source": [
    "# Save probes:\n",
    "torch.save(\n",
    "    one_ccs_probe.state_dict(),\n",
    "    f\"data/llama{llama_size}/truthful_qa_one_ccs_probe.pt\",\n",
    ")\n",
    "torch.save(\n",
    "    disj_ccs_probe.state_dict(),\n",
    "    f\"data/llama{llama_size}/truthful_qa_disj_ccs_probe.pt\",\n",
    ")\n",
    "torch.save(\n",
    "    conj_ccs_probe.state_dict(),\n",
    "    f\"data/llama{llama_size}/truthful_qa_conj_ccs_probe.pt\",\n",
    ")"
   ],
   "outputs": [],
   "metadata": {}
  },
  {
   "cell_type": "code",
   "execution_count": 34,
   "source": [
    "# Save known questions:\n",
    "with open(f\"data/llama{llama_size}/known_questions.npy\", \"wb\") as f:\n",
    "    np.save(f, fs_one_known_qs)\n",
    "    np.save(f, fs_disj_known_qs)\n",
    "    np.save(f, fs_conj_known_qs)\n",
    "    np.save(f, lr_one_indexes)\n",
    "    np.save(f, lr_disj_indexes)\n",
    "    np.save(f, lr_conj_indexes)\n",
    "    np.save(f, list(one_ccs_probe.known_questions))\n",
    "    np.save(f, list(disj_ccs_probe.known_questions))\n",
    "    np.save(f, list(conj_ccs_probe.known_questions))"
   ],
   "outputs": [],
   "metadata": {}
  },
  {
   "cell_type": "code",
   "execution_count": 35,
   "source": [
    "# Create bar plot with accuracies for Few shot, LR, CCS as bars\n",
    "# and Random (mean) as a line:\n",
    "\n",
    "# Multiply all accuracy by 100 and round by 1:\n",
    "freport = (report * 100).round(1)\n",
    "fig = go.Figure()\n",
    "fig.add_trace(\n",
    "    go.Bar(\n",
    "        x=freport.index,\n",
    "        y=freport[\"FS, acc\"],\n",
    "        name=\"FS\",\n",
    "        marker_color=\"rgb(55, 83, 109)\",\n",
    "        text=freport[\"FS, acc\"],\n",
    "    )\n",
    ")\n",
    "fig.add_trace(\n",
    "    go.Bar(\n",
    "        x=freport.index,\n",
    "        y=freport[\"LR, acc\"],\n",
    "        name=\"LR\",\n",
    "        marker_color=\"rgb(26, 118, 255)\",\n",
    "        text=freport[\"LR, acc\"],\n",
    "    )\n",
    ")\n",
    "fig.add_trace(\n",
    "    go.Bar(\n",
    "        x=freport.index,\n",
    "        y=freport[\"CCS, acc\"],\n",
    "        name=\"CCS\",\n",
    "        marker_color=\"rgb(255, 118, 26)\",\n",
    "        text=freport[\"CCS, acc\"],\n",
    "    )\n",
    ")\n",
    "fig.add_trace(\n",
    "    go.Scatter(\n",
    "        x=freport.index,\n",
    "        y=freport[\"CCS, random acc\"],\n",
    "        name=\"Random (mean)\",\n",
    "        marker_color=\"rgb(255, 118, 26)\",\n",
    "    )\n",
    ")\n",
    "fig.update_layout(\n",
    "    title=\"Accuracy on TruthfulQA dataset in %\",\n",
    "    xaxis_title=\"Sentence type\",\n",
    "    yaxis_title=\"Accuracy\",\n",
    "    legend_title=\"Model\",\n",
    "    template=pt_template,\n",
    ")\n",
    "\n",
    "fig.show()"
   ],
   "outputs": [
    {
     "output_type": "error",
     "ename": "KeyError",
     "evalue": "'CCS, acc'",
     "traceback": [
      "\u001b[0;31m---------------------------------------------------------------------------\u001b[0m",
      "\u001b[0;31mKeyError\u001b[0m                                  Traceback (most recent call last)",
      "File \u001b[0;32m/opt/conda/lib/python3.10/site-packages/pandas/core/indexes/base.py:3802\u001b[0m, in \u001b[0;36mIndex.get_loc\u001b[0;34m(self, key)\u001b[0m\n\u001b[1;32m   <a href='file:///opt/conda/lib/python3.10/site-packages/pandas/core/indexes/base.py?line=3800'>3801</a>\u001b[0m \u001b[39mtry\u001b[39;00m:\n\u001b[0;32m-> <a href='file:///opt/conda/lib/python3.10/site-packages/pandas/core/indexes/base.py?line=3801'>3802</a>\u001b[0m     \u001b[39mreturn\u001b[39;00m \u001b[39mself\u001b[39;49m\u001b[39m.\u001b[39;49m_engine\u001b[39m.\u001b[39;49mget_loc(casted_key)\n\u001b[1;32m   <a href='file:///opt/conda/lib/python3.10/site-packages/pandas/core/indexes/base.py?line=3802'>3803</a>\u001b[0m \u001b[39mexcept\u001b[39;00m \u001b[39mKeyError\u001b[39;00m \u001b[39mas\u001b[39;00m err:\n",
      "File \u001b[0;32mindex.pyx:153\u001b[0m, in \u001b[0;36mpandas._libs.index.IndexEngine.get_loc\u001b[0;34m()\u001b[0m\n",
      "File \u001b[0;32mindex.pyx:182\u001b[0m, in \u001b[0;36mpandas._libs.index.IndexEngine.get_loc\u001b[0;34m()\u001b[0m\n",
      "File \u001b[0;32mpandas/_libs/hashtable_class_helper.pxi:7081\u001b[0m, in \u001b[0;36mpandas._libs.hashtable.PyObjectHashTable.get_item\u001b[0;34m()\u001b[0m\n",
      "File \u001b[0;32mpandas/_libs/hashtable_class_helper.pxi:7089\u001b[0m, in \u001b[0;36mpandas._libs.hashtable.PyObjectHashTable.get_item\u001b[0;34m()\u001b[0m\n",
      "\u001b[0;31mKeyError\u001b[0m: 'CCS, acc'",
      "\nThe above exception was the direct cause of the following exception:\n",
      "\u001b[0;31mKeyError\u001b[0m                                  Traceback (most recent call last)",
      "\u001b[1;32m/workspace/dlkworks/accuracy.py\u001b[0m in \u001b[0;36mline 29\n\u001b[1;32m      <a href='file:///workspace/dlkworks/accuracy.py?line=766'>767</a>\u001b[0m fig\u001b[39m.\u001b[39madd_trace(\n\u001b[1;32m      <a href='file:///workspace/dlkworks/accuracy.py?line=767'>768</a>\u001b[0m     go\u001b[39m.\u001b[39mBar(\n\u001b[1;32m     <a href='file:///workspace/dlkworks/accuracy.py?line=768'>769</a>\u001b[0m         x\u001b[39m=\u001b[39mfreport\u001b[39m.\u001b[39mindex,\n\u001b[0;32m   (...)\u001b[0m\n\u001b[1;32m     <a href='file:///workspace/dlkworks/accuracy.py?line=773'>774</a>\u001b[0m     )\n\u001b[1;32m     <a href='file:///workspace/dlkworks/accuracy.py?line=774'>775</a>\u001b[0m )\n\u001b[1;32m     <a href='file:///workspace/dlkworks/accuracy.py?line=775'>776</a>\u001b[0m fig\u001b[39m.\u001b[39madd_trace(\n\u001b[1;32m     <a href='file:///workspace/dlkworks/accuracy.py?line=776'>777</a>\u001b[0m     go\u001b[39m.\u001b[39mBar(\n\u001b[1;32m     <a href='file:///workspace/dlkworks/accuracy.py?line=777'>778</a>\u001b[0m         x\u001b[39m=\u001b[39mfreport\u001b[39m.\u001b[39mindex,\n\u001b[0;32m   (...)\u001b[0m\n\u001b[1;32m     <a href='file:///workspace/dlkworks/accuracy.py?line=782'>783</a>\u001b[0m     )\n\u001b[1;32m     <a href='file:///workspace/dlkworks/accuracy.py?line=783'>784</a>\u001b[0m )\n\u001b[1;32m     <a href='file:///workspace/dlkworks/accuracy.py?line=784'>785</a>\u001b[0m fig\u001b[39m.\u001b[39madd_trace(\n\u001b[1;32m     <a href='file:///workspace/dlkworks/accuracy.py?line=785'>786</a>\u001b[0m     go\u001b[39m.\u001b[39mBar(\n\u001b[1;32m     <a href='file:///workspace/dlkworks/accuracy.py?line=786'>787</a>\u001b[0m         x\u001b[39m=\u001b[39mfreport\u001b[39m.\u001b[39mindex,\n\u001b[0;32m---> <a href='file:///workspace/dlkworks/accuracy.py?line=787'>788</a>\u001b[0m         y\u001b[39m=\u001b[39mfreport[\u001b[39m\"\u001b[39;49m\u001b[39mCCS, acc\u001b[39;49m\u001b[39m\"\u001b[39;49m],\n\u001b[1;32m     <a href='file:///workspace/dlkworks/accuracy.py?line=788'>789</a>\u001b[0m         name\u001b[39m=\u001b[39m\u001b[39m\"\u001b[39m\u001b[39mCCS\u001b[39m\u001b[39m\"\u001b[39m,\n\u001b[1;32m     <a href='file:///workspace/dlkworks/accuracy.py?line=789'>790</a>\u001b[0m         marker_color\u001b[39m=\u001b[39m\u001b[39m\"\u001b[39m\u001b[39mrgb(255, 118, 26)\u001b[39m\u001b[39m\"\u001b[39m,\n\u001b[1;32m     <a href='file:///workspace/dlkworks/accuracy.py?line=790'>791</a>\u001b[0m         text\u001b[39m=\u001b[39mfreport[\u001b[39m\"\u001b[39m\u001b[39mCCS, acc\u001b[39m\u001b[39m\"\u001b[39m],\n\u001b[1;32m     <a href='file:///workspace/dlkworks/accuracy.py?line=791'>792</a>\u001b[0m     )\n\u001b[1;32m     <a href='file:///workspace/dlkworks/accuracy.py?line=792'>793</a>\u001b[0m )\n\u001b[1;32m     <a href='file:///workspace/dlkworks/accuracy.py?line=793'>794</a>\u001b[0m fig\u001b[39m.\u001b[39madd_trace(\n\u001b[1;32m     <a href='file:///workspace/dlkworks/accuracy.py?line=794'>795</a>\u001b[0m     go\u001b[39m.\u001b[39mScatter(\n\u001b[1;32m     <a href='file:///workspace/dlkworks/accuracy.py?line=795'>796</a>\u001b[0m         x\u001b[39m=\u001b[39mfreport\u001b[39m.\u001b[39mindex,\n\u001b[0;32m   (...)\u001b[0m\n\u001b[1;32m     <a href='file:///workspace/dlkworks/accuracy.py?line=799'>800</a>\u001b[0m     )\n\u001b[1;32m     <a href='file:///workspace/dlkworks/accuracy.py?line=800'>801</a>\u001b[0m )\n\u001b[1;32m     <a href='file:///workspace/dlkworks/accuracy.py?line=801'>802</a>\u001b[0m fig\u001b[39m.\u001b[39mupdate_layout(\n\u001b[1;32m     <a href='file:///workspace/dlkworks/accuracy.py?line=802'>803</a>\u001b[0m     title\u001b[39m=\u001b[39m\u001b[39m\"\u001b[39m\u001b[39mAccuracy on TruthfulQA dataset in \u001b[39m\u001b[39m%\u001b[39m\u001b[39m\"\u001b[39m,\n\u001b[1;32m     <a href='file:///workspace/dlkworks/accuracy.py?line=803'>804</a>\u001b[0m     xaxis_title\u001b[39m=\u001b[39m\u001b[39m\"\u001b[39m\u001b[39mSentence type\u001b[39m\u001b[39m\"\u001b[39m,\n\u001b[0;32m   (...)\u001b[0m\n\u001b[1;32m     <a href='file:///workspace/dlkworks/accuracy.py?line=806'>807</a>\u001b[0m     template\u001b[39m=\u001b[39mpt_template,\n\u001b[1;32m     <a href='file:///workspace/dlkworks/accuracy.py?line=807'>808</a>\u001b[0m )\n",
      "File \u001b[0;32m/opt/conda/lib/python3.10/site-packages/pandas/core/frame.py:4090\u001b[0m, in \u001b[0;36mDataFrame.__getitem__\u001b[0;34m(self, key)\u001b[0m\n\u001b[1;32m   <a href='file:///opt/conda/lib/python3.10/site-packages/pandas/core/frame.py?line=4087'>4088</a>\u001b[0m \u001b[39mif\u001b[39;00m \u001b[39mself\u001b[39m\u001b[39m.\u001b[39mcolumns\u001b[39m.\u001b[39mnlevels \u001b[39m>\u001b[39m \u001b[39m1\u001b[39m:\n\u001b[1;32m   <a href='file:///opt/conda/lib/python3.10/site-packages/pandas/core/frame.py?line=4088'>4089</a>\u001b[0m     \u001b[39mreturn\u001b[39;00m \u001b[39mself\u001b[39m\u001b[39m.\u001b[39m_getitem_multilevel(key)\n\u001b[0;32m-> <a href='file:///opt/conda/lib/python3.10/site-packages/pandas/core/frame.py?line=4089'>4090</a>\u001b[0m indexer \u001b[39m=\u001b[39m \u001b[39mself\u001b[39;49m\u001b[39m.\u001b[39;49mcolumns\u001b[39m.\u001b[39;49mget_loc(key)\n\u001b[1;32m   <a href='file:///opt/conda/lib/python3.10/site-packages/pandas/core/frame.py?line=4090'>4091</a>\u001b[0m \u001b[39mif\u001b[39;00m is_integer(indexer):\n\u001b[1;32m   <a href='file:///opt/conda/lib/python3.10/site-packages/pandas/core/frame.py?line=4091'>4092</a>\u001b[0m     indexer \u001b[39m=\u001b[39m [indexer]\n",
      "File \u001b[0;32m/opt/conda/lib/python3.10/site-packages/pandas/core/indexes/base.py:3809\u001b[0m, in \u001b[0;36mIndex.get_loc\u001b[0;34m(self, key)\u001b[0m\n\u001b[1;32m   <a href='file:///opt/conda/lib/python3.10/site-packages/pandas/core/indexes/base.py?line=3803'>3804</a>\u001b[0m     \u001b[39mif\u001b[39;00m \u001b[39misinstance\u001b[39m(casted_key, \u001b[39mslice\u001b[39m) \u001b[39mor\u001b[39;00m (\n\u001b[1;32m   <a href='file:///opt/conda/lib/python3.10/site-packages/pandas/core/indexes/base.py?line=3804'>3805</a>\u001b[0m         \u001b[39misinstance\u001b[39m(casted_key, abc\u001b[39m.\u001b[39mIterable)\n\u001b[1;32m   <a href='file:///opt/conda/lib/python3.10/site-packages/pandas/core/indexes/base.py?line=3805'>3806</a>\u001b[0m         \u001b[39mand\u001b[39;00m \u001b[39many\u001b[39m(\u001b[39misinstance\u001b[39m(x, \u001b[39mslice\u001b[39m) \u001b[39mfor\u001b[39;00m x \u001b[39min\u001b[39;00m casted_key)\n\u001b[1;32m   <a href='file:///opt/conda/lib/python3.10/site-packages/pandas/core/indexes/base.py?line=3806'>3807</a>\u001b[0m     ):\n\u001b[1;32m   <a href='file:///opt/conda/lib/python3.10/site-packages/pandas/core/indexes/base.py?line=3807'>3808</a>\u001b[0m         \u001b[39mraise\u001b[39;00m InvalidIndexError(key)\n\u001b[0;32m-> <a href='file:///opt/conda/lib/python3.10/site-packages/pandas/core/indexes/base.py?line=3808'>3809</a>\u001b[0m     \u001b[39mraise\u001b[39;00m \u001b[39mKeyError\u001b[39;00m(key) \u001b[39mfrom\u001b[39;00m \u001b[39merr\u001b[39;00m\n\u001b[1;32m   <a href='file:///opt/conda/lib/python3.10/site-packages/pandas/core/indexes/base.py?line=3809'>3810</a>\u001b[0m \u001b[39mexcept\u001b[39;00m \u001b[39mTypeError\u001b[39;00m:\n\u001b[1;32m   <a href='file:///opt/conda/lib/python3.10/site-packages/pandas/core/indexes/base.py?line=3810'>3811</a>\u001b[0m     \u001b[39m# If we have a listlike key, _check_indexing_error will raise\u001b[39;00m\n\u001b[1;32m   <a href='file:///opt/conda/lib/python3.10/site-packages/pandas/core/indexes/base.py?line=3811'>3812</a>\u001b[0m     \u001b[39m#  InvalidIndexError. Otherwise we fall through and re-raise\u001b[39;00m\n\u001b[1;32m   <a href='file:///opt/conda/lib/python3.10/site-packages/pandas/core/indexes/base.py?line=3812'>3813</a>\u001b[0m     \u001b[39m#  the TypeError.\u001b[39;00m\n\u001b[1;32m   <a href='file:///opt/conda/lib/python3.10/site-packages/pandas/core/indexes/base.py?line=3813'>3814</a>\u001b[0m     \u001b[39mself\u001b[39m\u001b[39m.\u001b[39m_check_indexing_error(key)\n",
      "\u001b[0;31mKeyError\u001b[0m: 'CCS, acc'"
     ]
    }
   ],
   "metadata": {}
  },
  {
   "cell_type": "code",
   "execution_count": null,
   "source": [
    "# Save fig:\n",
    "fig.write_image(f\"data/llama{llama_size}/truthful_qa_report.png\")\n",
    "freport.to_csv(f\"data/llama{llama_size}/truthful_qa_report.csv\")"
   ],
   "outputs": [
    {
     "output_type": "error",
     "ename": "",
     "evalue": "",
     "traceback": [
      "\u001b[1;31mCell was canceled due to an error in a previous cell."
     ]
    }
   ],
   "metadata": {}
  },
  {
   "cell_type": "code",
   "execution_count": null,
   "source": [
    "# Save fig:\n",
    "fig.write_image(f\"data/llama{llama_size}/truthful_qa_report.png\")\n",
    "freport.to_csv(f\"data/llama{llama_size}/truthful_qa_report.csv\")"
   ],
   "outputs": [
    {
     "output_type": "error",
     "ename": "",
     "evalue": "",
     "traceback": [
      "\u001b[1;31mCell was canceled due to an error in a previous cell."
     ]
    }
   ],
   "metadata": {}
  },
  {
   "cell_type": "code",
   "execution_count": null,
   "source": [
    "# Display random as mean ± std:\n",
    "\n",
    "print(\"Table\")\n",
    "freport = report.copy()\n",
    "freport.rename(\n",
    "    columns={\n",
    "        \"FS, acc\": f\"FS, accuracy\",\n",
    "        \"LR, acc\": f\"LR, accuracy\",\n",
    "        \"CCS, acc\": f\"CCS, accuracy\",\n",
    "        \"CCS, random acc\": f\"Random, accuracy\",\n",
    "    },\n",
    "    inplace=True,\n",
    ")\n",
    "\n",
    "# Convert columns with 'accuracy' word into percentage:\n",
    "for col in freport.columns:\n",
    "    if \"accuracy\" in col:\n",
    "        freport[col] = (freport[col] * 100).round(1)\n",
    "# Convert columns with '#' char into integer:\n",
    "for col in freport.columns:\n",
    "    if \"#\" in col:\n",
    "        freport[col] = freport[col].astype(int)\n",
    "\n",
    "\n",
    "freport.to_csv(f\"data/llama{llama_size}/truthful_qa_report_styled.csv\")\n",
    "display(freport)"
   ],
   "outputs": [
    {
     "output_type": "error",
     "ename": "",
     "evalue": "",
     "traceback": [
      "\u001b[1;31mCell was canceled due to an error in a previous cell."
     ]
    }
   ],
   "metadata": {}
  },
  {
   "cell_type": "code",
   "execution_count": 36,
   "source": [
    "# Create bar plot with accuracies for Few shot, LR, CCS as bars\n",
    "# and Random (mean) as a line:\n",
    "\n",
    "# Multiply all accuracy by 100 and round by 1:\n",
    "freport = (report * 100).round(1)\n",
    "fig = go.Figure()\n",
    "fig.add_trace(\n",
    "    go.Bar(\n",
    "        x=freport.index,\n",
    "        y=freport[\"FS, acc\"],\n",
    "        name=\"FS\",\n",
    "        marker_color=\"rgb(55, 83, 109)\",\n",
    "        text=freport[\"FS, acc\"],\n",
    "    )\n",
    ")\n",
    "fig.add_trace(\n",
    "    go.Bar(\n",
    "        x=freport.index,\n",
    "        y=freport[\"LR, acc\"],\n",
    "        name=\"LR\",\n",
    "        marker_color=\"rgb(26, 118, 255)\",\n",
    "        text=freport[\"LR, acc\"],\n",
    "    )\n",
    ")\n",
    "fig.add_trace(\n",
    "    go.Bar(\n",
    "        x=freport.index,\n",
    "        y=freport[\"CCS, acc\"],\n",
    "        name=\"CCS\",\n",
    "        marker_color=\"rgb(255, 118, 26)\",\n",
    "        text=freport[\"CCS, acc\"],\n",
    "    )\n",
    ")\n",
    "fig.add_trace(\n",
    "    go.Scatter(\n",
    "        x=freport.index,\n",
    "        y=freport[\"CCS, random acc\"],\n",
    "        name=\"Random (mean)\",\n",
    "        marker_color=\"rgb(255, 118, 26)\",\n",
    "    )\n",
    ")\n",
    "fig.update_layout(\n",
    "    title=\"Accuracy on TruthfulQA dataset in %\",\n",
    "    xaxis_title=\"Sentence type\",\n",
    "    yaxis_title=\"Accuracy\",\n",
    "    legend_title=\"Model\",\n",
    "    template=pt_template,\n",
    ")\n",
    "\n",
    "fig.show()"
   ],
   "outputs": [
    {
     "output_type": "error",
     "ename": "KeyError",
     "evalue": "'CCS, acc'",
     "traceback": [
      "\u001b[0;31m---------------------------------------------------------------------------\u001b[0m",
      "\u001b[0;31mKeyError\u001b[0m                                  Traceback (most recent call last)",
      "File \u001b[0;32m/opt/conda/lib/python3.10/site-packages/pandas/core/indexes/base.py:3802\u001b[0m, in \u001b[0;36mIndex.get_loc\u001b[0;34m(self, key)\u001b[0m\n\u001b[1;32m   <a href='file:///opt/conda/lib/python3.10/site-packages/pandas/core/indexes/base.py?line=3800'>3801</a>\u001b[0m \u001b[39mtry\u001b[39;00m:\n\u001b[0;32m-> <a href='file:///opt/conda/lib/python3.10/site-packages/pandas/core/indexes/base.py?line=3801'>3802</a>\u001b[0m     \u001b[39mreturn\u001b[39;00m \u001b[39mself\u001b[39;49m\u001b[39m.\u001b[39;49m_engine\u001b[39m.\u001b[39;49mget_loc(casted_key)\n\u001b[1;32m   <a href='file:///opt/conda/lib/python3.10/site-packages/pandas/core/indexes/base.py?line=3802'>3803</a>\u001b[0m \u001b[39mexcept\u001b[39;00m \u001b[39mKeyError\u001b[39;00m \u001b[39mas\u001b[39;00m err:\n",
      "File \u001b[0;32mindex.pyx:153\u001b[0m, in \u001b[0;36mpandas._libs.index.IndexEngine.get_loc\u001b[0;34m()\u001b[0m\n",
      "File \u001b[0;32mindex.pyx:182\u001b[0m, in \u001b[0;36mpandas._libs.index.IndexEngine.get_loc\u001b[0;34m()\u001b[0m\n",
      "File \u001b[0;32mpandas/_libs/hashtable_class_helper.pxi:7081\u001b[0m, in \u001b[0;36mpandas._libs.hashtable.PyObjectHashTable.get_item\u001b[0;34m()\u001b[0m\n",
      "File \u001b[0;32mpandas/_libs/hashtable_class_helper.pxi:7089\u001b[0m, in \u001b[0;36mpandas._libs.hashtable.PyObjectHashTable.get_item\u001b[0;34m()\u001b[0m\n",
      "\u001b[0;31mKeyError\u001b[0m: 'CCS, acc'",
      "\nThe above exception was the direct cause of the following exception:\n",
      "\u001b[0;31mKeyError\u001b[0m                                  Traceback (most recent call last)",
      "\u001b[1;32m/workspace/dlkworks/accuracy.py\u001b[0m in \u001b[0;36mline 29\n\u001b[1;32m      <a href='file:///workspace/dlkworks/accuracy.py?line=766'>767</a>\u001b[0m fig\u001b[39m.\u001b[39madd_trace(\n\u001b[1;32m      <a href='file:///workspace/dlkworks/accuracy.py?line=767'>768</a>\u001b[0m     go\u001b[39m.\u001b[39mBar(\n\u001b[1;32m     <a href='file:///workspace/dlkworks/accuracy.py?line=768'>769</a>\u001b[0m         x\u001b[39m=\u001b[39mfreport\u001b[39m.\u001b[39mindex,\n\u001b[0;32m   (...)\u001b[0m\n\u001b[1;32m     <a href='file:///workspace/dlkworks/accuracy.py?line=773'>774</a>\u001b[0m     )\n\u001b[1;32m     <a href='file:///workspace/dlkworks/accuracy.py?line=774'>775</a>\u001b[0m )\n\u001b[1;32m     <a href='file:///workspace/dlkworks/accuracy.py?line=775'>776</a>\u001b[0m fig\u001b[39m.\u001b[39madd_trace(\n\u001b[1;32m     <a href='file:///workspace/dlkworks/accuracy.py?line=776'>777</a>\u001b[0m     go\u001b[39m.\u001b[39mBar(\n\u001b[1;32m     <a href='file:///workspace/dlkworks/accuracy.py?line=777'>778</a>\u001b[0m         x\u001b[39m=\u001b[39mfreport\u001b[39m.\u001b[39mindex,\n\u001b[0;32m   (...)\u001b[0m\n\u001b[1;32m     <a href='file:///workspace/dlkworks/accuracy.py?line=782'>783</a>\u001b[0m     )\n\u001b[1;32m     <a href='file:///workspace/dlkworks/accuracy.py?line=783'>784</a>\u001b[0m )\n\u001b[1;32m     <a href='file:///workspace/dlkworks/accuracy.py?line=784'>785</a>\u001b[0m fig\u001b[39m.\u001b[39madd_trace(\n\u001b[1;32m     <a href='file:///workspace/dlkworks/accuracy.py?line=785'>786</a>\u001b[0m     go\u001b[39m.\u001b[39mBar(\n\u001b[1;32m     <a href='file:///workspace/dlkworks/accuracy.py?line=786'>787</a>\u001b[0m         x\u001b[39m=\u001b[39mfreport\u001b[39m.\u001b[39mindex,\n\u001b[0;32m---> <a href='file:///workspace/dlkworks/accuracy.py?line=787'>788</a>\u001b[0m         y\u001b[39m=\u001b[39mfreport[\u001b[39m\"\u001b[39;49m\u001b[39mCCS, acc\u001b[39;49m\u001b[39m\"\u001b[39;49m],\n\u001b[1;32m     <a href='file:///workspace/dlkworks/accuracy.py?line=788'>789</a>\u001b[0m         name\u001b[39m=\u001b[39m\u001b[39m\"\u001b[39m\u001b[39mCCS\u001b[39m\u001b[39m\"\u001b[39m,\n\u001b[1;32m     <a href='file:///workspace/dlkworks/accuracy.py?line=789'>790</a>\u001b[0m         marker_color\u001b[39m=\u001b[39m\u001b[39m\"\u001b[39m\u001b[39mrgb(255, 118, 26)\u001b[39m\u001b[39m\"\u001b[39m,\n\u001b[1;32m     <a href='file:///workspace/dlkworks/accuracy.py?line=790'>791</a>\u001b[0m         text\u001b[39m=\u001b[39mfreport[\u001b[39m\"\u001b[39m\u001b[39mCCS, acc\u001b[39m\u001b[39m\"\u001b[39m],\n\u001b[1;32m     <a href='file:///workspace/dlkworks/accuracy.py?line=791'>792</a>\u001b[0m     )\n\u001b[1;32m     <a href='file:///workspace/dlkworks/accuracy.py?line=792'>793</a>\u001b[0m )\n\u001b[1;32m     <a href='file:///workspace/dlkworks/accuracy.py?line=793'>794</a>\u001b[0m fig\u001b[39m.\u001b[39madd_trace(\n\u001b[1;32m     <a href='file:///workspace/dlkworks/accuracy.py?line=794'>795</a>\u001b[0m     go\u001b[39m.\u001b[39mScatter(\n\u001b[1;32m     <a href='file:///workspace/dlkworks/accuracy.py?line=795'>796</a>\u001b[0m         x\u001b[39m=\u001b[39mfreport\u001b[39m.\u001b[39mindex,\n\u001b[0;32m   (...)\u001b[0m\n\u001b[1;32m     <a href='file:///workspace/dlkworks/accuracy.py?line=799'>800</a>\u001b[0m     )\n\u001b[1;32m     <a href='file:///workspace/dlkworks/accuracy.py?line=800'>801</a>\u001b[0m )\n\u001b[1;32m     <a href='file:///workspace/dlkworks/accuracy.py?line=801'>802</a>\u001b[0m fig\u001b[39m.\u001b[39mupdate_layout(\n\u001b[1;32m     <a href='file:///workspace/dlkworks/accuracy.py?line=802'>803</a>\u001b[0m     title\u001b[39m=\u001b[39m\u001b[39m\"\u001b[39m\u001b[39mAccuracy on TruthfulQA dataset in \u001b[39m\u001b[39m%\u001b[39m\u001b[39m\"\u001b[39m,\n\u001b[1;32m     <a href='file:///workspace/dlkworks/accuracy.py?line=803'>804</a>\u001b[0m     xaxis_title\u001b[39m=\u001b[39m\u001b[39m\"\u001b[39m\u001b[39mSentence type\u001b[39m\u001b[39m\"\u001b[39m,\n\u001b[0;32m   (...)\u001b[0m\n\u001b[1;32m     <a href='file:///workspace/dlkworks/accuracy.py?line=806'>807</a>\u001b[0m     template\u001b[39m=\u001b[39mpt_template,\n\u001b[1;32m     <a href='file:///workspace/dlkworks/accuracy.py?line=807'>808</a>\u001b[0m )\n",
      "File \u001b[0;32m/opt/conda/lib/python3.10/site-packages/pandas/core/frame.py:4090\u001b[0m, in \u001b[0;36mDataFrame.__getitem__\u001b[0;34m(self, key)\u001b[0m\n\u001b[1;32m   <a href='file:///opt/conda/lib/python3.10/site-packages/pandas/core/frame.py?line=4087'>4088</a>\u001b[0m \u001b[39mif\u001b[39;00m \u001b[39mself\u001b[39m\u001b[39m.\u001b[39mcolumns\u001b[39m.\u001b[39mnlevels \u001b[39m>\u001b[39m \u001b[39m1\u001b[39m:\n\u001b[1;32m   <a href='file:///opt/conda/lib/python3.10/site-packages/pandas/core/frame.py?line=4088'>4089</a>\u001b[0m     \u001b[39mreturn\u001b[39;00m \u001b[39mself\u001b[39m\u001b[39m.\u001b[39m_getitem_multilevel(key)\n\u001b[0;32m-> <a href='file:///opt/conda/lib/python3.10/site-packages/pandas/core/frame.py?line=4089'>4090</a>\u001b[0m indexer \u001b[39m=\u001b[39m \u001b[39mself\u001b[39;49m\u001b[39m.\u001b[39;49mcolumns\u001b[39m.\u001b[39;49mget_loc(key)\n\u001b[1;32m   <a href='file:///opt/conda/lib/python3.10/site-packages/pandas/core/frame.py?line=4090'>4091</a>\u001b[0m \u001b[39mif\u001b[39;00m is_integer(indexer):\n\u001b[1;32m   <a href='file:///opt/conda/lib/python3.10/site-packages/pandas/core/frame.py?line=4091'>4092</a>\u001b[0m     indexer \u001b[39m=\u001b[39m [indexer]\n",
      "File \u001b[0;32m/opt/conda/lib/python3.10/site-packages/pandas/core/indexes/base.py:3809\u001b[0m, in \u001b[0;36mIndex.get_loc\u001b[0;34m(self, key)\u001b[0m\n\u001b[1;32m   <a href='file:///opt/conda/lib/python3.10/site-packages/pandas/core/indexes/base.py?line=3803'>3804</a>\u001b[0m     \u001b[39mif\u001b[39;00m \u001b[39misinstance\u001b[39m(casted_key, \u001b[39mslice\u001b[39m) \u001b[39mor\u001b[39;00m (\n\u001b[1;32m   <a href='file:///opt/conda/lib/python3.10/site-packages/pandas/core/indexes/base.py?line=3804'>3805</a>\u001b[0m         \u001b[39misinstance\u001b[39m(casted_key, abc\u001b[39m.\u001b[39mIterable)\n\u001b[1;32m   <a href='file:///opt/conda/lib/python3.10/site-packages/pandas/core/indexes/base.py?line=3805'>3806</a>\u001b[0m         \u001b[39mand\u001b[39;00m \u001b[39many\u001b[39m(\u001b[39misinstance\u001b[39m(x, \u001b[39mslice\u001b[39m) \u001b[39mfor\u001b[39;00m x \u001b[39min\u001b[39;00m casted_key)\n\u001b[1;32m   <a href='file:///opt/conda/lib/python3.10/site-packages/pandas/core/indexes/base.py?line=3806'>3807</a>\u001b[0m     ):\n\u001b[1;32m   <a href='file:///opt/conda/lib/python3.10/site-packages/pandas/core/indexes/base.py?line=3807'>3808</a>\u001b[0m         \u001b[39mraise\u001b[39;00m InvalidIndexError(key)\n\u001b[0;32m-> <a href='file:///opt/conda/lib/python3.10/site-packages/pandas/core/indexes/base.py?line=3808'>3809</a>\u001b[0m     \u001b[39mraise\u001b[39;00m \u001b[39mKeyError\u001b[39;00m(key) \u001b[39mfrom\u001b[39;00m \u001b[39merr\u001b[39;00m\n\u001b[1;32m   <a href='file:///opt/conda/lib/python3.10/site-packages/pandas/core/indexes/base.py?line=3809'>3810</a>\u001b[0m \u001b[39mexcept\u001b[39;00m \u001b[39mTypeError\u001b[39;00m:\n\u001b[1;32m   <a href='file:///opt/conda/lib/python3.10/site-packages/pandas/core/indexes/base.py?line=3810'>3811</a>\u001b[0m     \u001b[39m# If we have a listlike key, _check_indexing_error will raise\u001b[39;00m\n\u001b[1;32m   <a href='file:///opt/conda/lib/python3.10/site-packages/pandas/core/indexes/base.py?line=3811'>3812</a>\u001b[0m     \u001b[39m#  InvalidIndexError. Otherwise we fall through and re-raise\u001b[39;00m\n\u001b[1;32m   <a href='file:///opt/conda/lib/python3.10/site-packages/pandas/core/indexes/base.py?line=3812'>3813</a>\u001b[0m     \u001b[39m#  the TypeError.\u001b[39;00m\n\u001b[1;32m   <a href='file:///opt/conda/lib/python3.10/site-packages/pandas/core/indexes/base.py?line=3813'>3814</a>\u001b[0m     \u001b[39mself\u001b[39m\u001b[39m.\u001b[39m_check_indexing_error(key)\n",
      "\u001b[0;31mKeyError\u001b[0m: 'CCS, acc'"
     ]
    }
   ],
   "metadata": {}
  },
  {
   "cell_type": "code",
   "execution_count": 37,
   "source": [
    "report"
   ],
   "outputs": [
    {
     "output_type": "execute_result",
     "data": {
      "text/html": [
       "<div>\n",
       "<style scoped>\n",
       "    .dataframe tbody tr th:only-of-type {\n",
       "        vertical-align: middle;\n",
       "    }\n",
       "\n",
       "    .dataframe tbody tr th {\n",
       "        vertical-align: top;\n",
       "    }\n",
       "\n",
       "    .dataframe thead th {\n",
       "        text-align: right;\n",
       "    }\n",
       "</style>\n",
       "<table border=\"1\" class=\"dataframe\">\n",
       "  <thead>\n",
       "    <tr style=\"text-align: right;\">\n",
       "      <th></th>\n",
       "      <th>FS, acc</th>\n",
       "      <th>FS, # samples</th>\n",
       "      <th>FS, # correct</th>\n",
       "      <th>FS, # known q.</th>\n",
       "      <th>FS, DS true/all</th>\n",
       "      <th>LR, acc</th>\n",
       "      <th>LR, # samples</th>\n",
       "      <th>LR, # correct</th>\n",
       "      <th>LR, # known q.</th>\n",
       "      <th>LR, DS true/all</th>\n",
       "      <th>CCS, random acc</th>\n",
       "      <th>CCS, acc, mean</th>\n",
       "      <th>CCS, acc, std</th>\n",
       "      <th>CCS, random acc, mean</th>\n",
       "      <th>CCS, random acc, std</th>\n",
       "      <th>CCS, # samples</th>\n",
       "      <th>CCS, # known q</th>\n",
       "      <th>CCS, DS true/all</th>\n",
       "    </tr>\n",
       "  </thead>\n",
       "  <tbody>\n",
       "    <tr>\n",
       "      <th>One statement</th>\n",
       "      <td>0.596083</td>\n",
       "      <td>1634.0</td>\n",
       "      <td>974.0</td>\n",
       "      <td>279.0</td>\n",
       "      <td>0.500000</td>\n",
       "      <td>0.960220</td>\n",
       "      <td>1634.0</td>\n",
       "      <td>1569.0</td>\n",
       "      <td>754.0</td>\n",
       "      <td>0.500000</td>\n",
       "      <td>0.0</td>\n",
       "      <td>0.721713</td>\n",
       "      <td>0.037412</td>\n",
       "      <td>0.596840</td>\n",
       "      <td>0.044646</td>\n",
       "      <td>1634.0</td>\n",
       "      <td>268.0</td>\n",
       "      <td>0.500000</td>\n",
       "    </tr>\n",
       "    <tr>\n",
       "      <th>Disjunction</th>\n",
       "      <td>0.371464</td>\n",
       "      <td>1591.0</td>\n",
       "      <td>591.0</td>\n",
       "      <td>107.0</td>\n",
       "      <td>0.513514</td>\n",
       "      <td>0.920805</td>\n",
       "      <td>1591.0</td>\n",
       "      <td>1465.0</td>\n",
       "      <td>692.0</td>\n",
       "      <td>0.513514</td>\n",
       "      <td>0.0</td>\n",
       "      <td>0.572623</td>\n",
       "      <td>0.012096</td>\n",
       "      <td>0.576803</td>\n",
       "      <td>0.021107</td>\n",
       "      <td>1591.0</td>\n",
       "      <td>231.0</td>\n",
       "      <td>0.513514</td>\n",
       "    </tr>\n",
       "    <tr>\n",
       "      <th>Conjunction</th>\n",
       "      <td>0.443734</td>\n",
       "      <td>1564.0</td>\n",
       "      <td>694.0</td>\n",
       "      <td>87.0</td>\n",
       "      <td>0.477621</td>\n",
       "      <td>0.928389</td>\n",
       "      <td>1564.0</td>\n",
       "      <td>1452.0</td>\n",
       "      <td>705.0</td>\n",
       "      <td>0.477621</td>\n",
       "      <td>0.0</td>\n",
       "      <td>0.651757</td>\n",
       "      <td>0.053999</td>\n",
       "      <td>0.597977</td>\n",
       "      <td>0.024500</td>\n",
       "      <td>1564.0</td>\n",
       "      <td>242.0</td>\n",
       "      <td>0.477621</td>\n",
       "    </tr>\n",
       "  </tbody>\n",
       "</table>\n",
       "</div>"
      ],
      "text/plain": [
       "                FS, acc  FS, # samples  FS, # correct  FS, # known q.  \\\n",
       "One statement  0.596083         1634.0          974.0           279.0   \n",
       "Disjunction    0.371464         1591.0          591.0           107.0   \n",
       "Conjunction    0.443734         1564.0          694.0            87.0   \n",
       "\n",
       "               FS, DS true/all   LR, acc  LR, # samples  LR, # correct  \\\n",
       "One statement         0.500000  0.960220         1634.0         1569.0   \n",
       "Disjunction           0.513514  0.920805         1591.0         1465.0   \n",
       "Conjunction           0.477621  0.928389         1564.0         1452.0   \n",
       "\n",
       "               LR, # known q.  LR, DS true/all  CCS, random acc  \\\n",
       "One statement           754.0         0.500000              0.0   \n",
       "Disjunction             692.0         0.513514              0.0   \n",
       "Conjunction             705.0         0.477621              0.0   \n",
       "\n",
       "               CCS, acc, mean  CCS, acc, std  CCS, random acc, mean  \\\n",
       "One statement        0.721713       0.037412               0.596840   \n",
       "Disjunction          0.572623       0.012096               0.576803   \n",
       "Conjunction          0.651757       0.053999               0.597977   \n",
       "\n",
       "               CCS, random acc, std  CCS, # samples  CCS, # known q  \\\n",
       "One statement              0.044646          1634.0           268.0   \n",
       "Disjunction                0.021107          1591.0           231.0   \n",
       "Conjunction                0.024500          1564.0           242.0   \n",
       "\n",
       "               CCS, DS true/all  \n",
       "One statement          0.500000  \n",
       "Disjunction            0.513514  \n",
       "Conjunction            0.477621  "
      ]
     },
     "metadata": {},
     "execution_count": 37
    }
   ],
   "metadata": {}
  },
  {
   "cell_type": "code",
   "execution_count": 38,
   "source": [
    "# Save report\n",
    "\n",
    "report.to_csv(f\"data/llama{llama_size}/truthful_qa_report_data.csv\")"
   ],
   "outputs": [],
   "metadata": {}
  },
  {
   "cell_type": "code",
   "execution_count": 39,
   "source": [
    "!cat data/llama13b/truthful_qa_report_data.csv\n",
    ""
   ],
   "outputs": [
    {
     "output_type": "stream",
     "name": "stdout",
     "text": [
      ",\"FS, acc\",\"FS, # samples\",\"FS, # correct\",\"FS, # known q.\",\"FS, DS true/all\",\"LR, acc\",\"LR, # samples\",\"LR, # correct\",\"LR, # known q.\",\"LR, DS true/all\",\"CCS, random acc\",\"CCS, acc, mean\",\"CCS, acc, std\",\"CCS, random acc, mean\",\"CCS, random acc, std\",\"CCS, # samples\",\"CCS, # known q\",\"CCS, DS true/all\"\n",
      "One statement,0.5960832313341493,1634.0,974.0,279.0,0.5,0.9602203369140625,1634.0,1569.0,754.0,0.5,0.0,0.7217125594615936,0.03741233462878217,0.5968399544556936,0.044646107644307466,1634.0,268.0,0.5\n",
      "Disjunction,0.3714644877435575,1591.0,591.0,107.0,0.5135135135135135,0.920804500579834,1591.0,1465.0,692.0,0.5135135135135135,0.0,0.5726227561632792,0.01209596747411667,0.5768025120099386,0.021106596667242003,1591.0,231.0,0.5135135135135135\n",
      "Conjunction,0.4437340153452685,1564.0,694.0,87.0,0.47762148337595906,0.928388774394989,1564.0,1452.0,705.0,0.47762148337595906,0.0,0.651757170756658,0.053998965085099195,0.5979765752951304,0.024499935335829913,1564.0,242.0,0.47762148337595906\n"
     ]
    }
   ],
   "metadata": {}
  }
 ],
 "nbformat": 4,
 "nbformat_minor": 2,
 "metadata": {
  "language_info": {
   "codemirror_mode": {
    "name": "ipython",
    "version": 3
   },
   "file_extension": ".py",
   "mimetype": "text/x-python",
   "name": "python",
   "nbconvert_exporter": "python",
   "pygments_lexer": "ipython3",
   "version": 3
  }
 }
}