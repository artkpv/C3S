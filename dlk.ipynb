{
 "cells": [
  {
   "cell_type": "code",
   "execution_count": 1,
   "source": [
    "from IPython.display import display\n",
    "from tqdm import tqdm\n",
    "import copy\n",
    "import numpy as np\n",
    "import torch\n",
    "from torch import Tensor\n",
    "import torch.nn as nn\n",
    "import torch.nn.functional as F\n",
    "from jaxtyping import Int, Float\n",
    "from datasets import load_dataset\n",
    "from transformers import T5Tokenizer, T5ForConditionalGeneration, GPT2Model, GPT2Tokenizer\n",
    "from sklearn.linear_model import LogisticRegression\n",
    "from pprint import pp\n",
    "from transformer_lens.hook_points import HookPoint\n",
    "from transformer_lens import utils, HookedTransformer, HookedTransformerConfig, FactoredMatrix, ActivationCache\n",
    "import einops\n",
    "import elk \n",
    "\n",
    "import circuitsvis as cv\n",
    "\n",
    "from plotly_utils import imshow\n",
    "\n",
    "device = torch.device(\"cuda\" if torch.cuda.is_available() else \"cpu\")\n",
    "pp(device)"
   ],
   "outputs": [
    {
     "output_type": "error",
     "ename": "KeyboardInterrupt",
     "evalue": "",
     "traceback": [
      "\u001b[0;31m---------------------------------------------------------------------------\u001b[0m",
      "\u001b[0;31mKeyboardInterrupt\u001b[0m                         Traceback (most recent call last)",
      "\u001b[1;32m/home/art/mydir/dev/Capstone23/dlk_works/dlk.py\u001b[0m in \u001b[0;36mline 12\n\u001b[1;32m     <a href='file:///home/art/mydir/dev/Capstone23/dlk_works/dlk.py?line=9'>10</a>\u001b[0m \u001b[39mfrom\u001b[39;00m \u001b[39mjaxtyping\u001b[39;00m \u001b[39mimport\u001b[39;00m Int, Float\n\u001b[1;32m     <a href='file:///home/art/mydir/dev/Capstone23/dlk_works/dlk.py?line=10'>11</a>\u001b[0m \u001b[39mfrom\u001b[39;00m \u001b[39mdatasets\u001b[39;00m \u001b[39mimport\u001b[39;00m load_dataset\n\u001b[0;32m---> <a href='file:///home/art/mydir/dev/Capstone23/dlk_works/dlk.py?line=11'>12</a>\u001b[0m \u001b[39mfrom\u001b[39;00m \u001b[39mtransformers\u001b[39;00m \u001b[39mimport\u001b[39;00m T5Tokenizer, T5ForConditionalGeneration, GPT2Model, GPT2Tokenizer\n\u001b[1;32m     <a href='file:///home/art/mydir/dev/Capstone23/dlk_works/dlk.py?line=12'>13</a>\u001b[0m \u001b[39mfrom\u001b[39;00m \u001b[39msklearn\u001b[39;00m\u001b[39m.\u001b[39;00m\u001b[39mlinear_model\u001b[39;00m \u001b[39mimport\u001b[39;00m LogisticRegression\n\u001b[1;32m     <a href='file:///home/art/mydir/dev/Capstone23/dlk_works/dlk.py?line=13'>14</a>\u001b[0m \u001b[39mfrom\u001b[39;00m \u001b[39mpprint\u001b[39;00m \u001b[39mimport\u001b[39;00m pp\n",
      "File \u001b[0;32m<frozen importlib._bootstrap>:1231\u001b[0m, in \u001b[0;36m_handle_fromlist\u001b[0;34m(module, fromlist, import_, recursive)\u001b[0m\n",
      "File \u001b[0;32m~/.local/share/virtualenvs/dlk_works-74zHWO1B/lib/python3.11/site-packages/transformers/utils/import_utils.py:1076\u001b[0m, in \u001b[0;36m_LazyModule.__getattr__\u001b[0;34m(self, name)\u001b[0m\n\u001b[1;32m   <a href='file:///home/art/.local/share/virtualenvs/dlk_works-74zHWO1B/lib/python3.11/site-packages/transformers/utils/import_utils.py?line=1073'>1074</a>\u001b[0m     value \u001b[39m=\u001b[39m \u001b[39mself\u001b[39m\u001b[39m.\u001b[39m_get_module(name)\n\u001b[1;32m   <a href='file:///home/art/.local/share/virtualenvs/dlk_works-74zHWO1B/lib/python3.11/site-packages/transformers/utils/import_utils.py?line=1074'>1075</a>\u001b[0m \u001b[39melif\u001b[39;00m name \u001b[39min\u001b[39;00m \u001b[39mself\u001b[39m\u001b[39m.\u001b[39m_class_to_module\u001b[39m.\u001b[39mkeys():\n\u001b[0;32m-> <a href='file:///home/art/.local/share/virtualenvs/dlk_works-74zHWO1B/lib/python3.11/site-packages/transformers/utils/import_utils.py?line=1075'>1076</a>\u001b[0m     module \u001b[39m=\u001b[39m \u001b[39mself\u001b[39;49m\u001b[39m.\u001b[39;49m_get_module(\u001b[39mself\u001b[39;49m\u001b[39m.\u001b[39;49m_class_to_module[name])\n\u001b[1;32m   <a href='file:///home/art/.local/share/virtualenvs/dlk_works-74zHWO1B/lib/python3.11/site-packages/transformers/utils/import_utils.py?line=1076'>1077</a>\u001b[0m     value \u001b[39m=\u001b[39m \u001b[39mgetattr\u001b[39m(module, name)\n\u001b[1;32m   <a href='file:///home/art/.local/share/virtualenvs/dlk_works-74zHWO1B/lib/python3.11/site-packages/transformers/utils/import_utils.py?line=1077'>1078</a>\u001b[0m \u001b[39melse\u001b[39;00m:\n",
      "File \u001b[0;32m~/.local/share/virtualenvs/dlk_works-74zHWO1B/lib/python3.11/site-packages/transformers/utils/import_utils.py:1086\u001b[0m, in \u001b[0;36m_LazyModule._get_module\u001b[0;34m(self, module_name)\u001b[0m\n\u001b[1;32m   <a href='file:///home/art/.local/share/virtualenvs/dlk_works-74zHWO1B/lib/python3.11/site-packages/transformers/utils/import_utils.py?line=1083'>1084</a>\u001b[0m \u001b[39mdef\u001b[39;00m \u001b[39m_get_module\u001b[39m(\u001b[39mself\u001b[39m, module_name: \u001b[39mstr\u001b[39m):\n\u001b[1;32m   <a href='file:///home/art/.local/share/virtualenvs/dlk_works-74zHWO1B/lib/python3.11/site-packages/transformers/utils/import_utils.py?line=1084'>1085</a>\u001b[0m     \u001b[39mtry\u001b[39;00m:\n\u001b[0;32m-> <a href='file:///home/art/.local/share/virtualenvs/dlk_works-74zHWO1B/lib/python3.11/site-packages/transformers/utils/import_utils.py?line=1085'>1086</a>\u001b[0m         \u001b[39mreturn\u001b[39;00m importlib\u001b[39m.\u001b[39;49mimport_module(\u001b[39m\"\u001b[39;49m\u001b[39m.\u001b[39;49m\u001b[39m\"\u001b[39;49m \u001b[39m+\u001b[39;49m module_name, \u001b[39mself\u001b[39;49m\u001b[39m.\u001b[39;49m\u001b[39m__name__\u001b[39;49m)\n\u001b[1;32m   <a href='file:///home/art/.local/share/virtualenvs/dlk_works-74zHWO1B/lib/python3.11/site-packages/transformers/utils/import_utils.py?line=1086'>1087</a>\u001b[0m     \u001b[39mexcept\u001b[39;00m \u001b[39mException\u001b[39;00m \u001b[39mas\u001b[39;00m e:\n\u001b[1;32m   <a href='file:///home/art/.local/share/virtualenvs/dlk_works-74zHWO1B/lib/python3.11/site-packages/transformers/utils/import_utils.py?line=1087'>1088</a>\u001b[0m         \u001b[39mraise\u001b[39;00m \u001b[39mRuntimeError\u001b[39;00m(\n\u001b[1;32m   <a href='file:///home/art/.local/share/virtualenvs/dlk_works-74zHWO1B/lib/python3.11/site-packages/transformers/utils/import_utils.py?line=1088'>1089</a>\u001b[0m             \u001b[39mf\u001b[39m\u001b[39m\"\u001b[39m\u001b[39mFailed to import \u001b[39m\u001b[39m{\u001b[39;00m\u001b[39mself\u001b[39m\u001b[39m.\u001b[39m\u001b[39m__name__\u001b[39m\u001b[39m}\u001b[39;00m\u001b[39m.\u001b[39m\u001b[39m{\u001b[39;00mmodule_name\u001b[39m}\u001b[39;00m\u001b[39m because of the following error (look up to see its\u001b[39m\u001b[39m\"\u001b[39m\n\u001b[1;32m   <a href='file:///home/art/.local/share/virtualenvs/dlk_works-74zHWO1B/lib/python3.11/site-packages/transformers/utils/import_utils.py?line=1089'>1090</a>\u001b[0m             \u001b[39mf\u001b[39m\u001b[39m\"\u001b[39m\u001b[39m traceback):\u001b[39m\u001b[39m\\n\u001b[39;00m\u001b[39m{\u001b[39;00me\u001b[39m}\u001b[39;00m\u001b[39m\"\u001b[39m\n\u001b[1;32m   <a href='file:///home/art/.local/share/virtualenvs/dlk_works-74zHWO1B/lib/python3.11/site-packages/transformers/utils/import_utils.py?line=1090'>1091</a>\u001b[0m         ) \u001b[39mfrom\u001b[39;00m \u001b[39me\u001b[39;00m\n",
      "File \u001b[0;32m/usr/lib/python3.11/importlib/__init__.py:126\u001b[0m, in \u001b[0;36mimport_module\u001b[0;34m(name, package)\u001b[0m\n\u001b[1;32m    <a href='file:///usr/lib/python3.11/importlib/__init__.py?line=123'>124</a>\u001b[0m             \u001b[39mbreak\u001b[39;00m\n\u001b[1;32m    <a href='file:///usr/lib/python3.11/importlib/__init__.py?line=124'>125</a>\u001b[0m         level \u001b[39m+\u001b[39m\u001b[39m=\u001b[39m \u001b[39m1\u001b[39m\n\u001b[0;32m--> <a href='file:///usr/lib/python3.11/importlib/__init__.py?line=125'>126</a>\u001b[0m \u001b[39mreturn\u001b[39;00m _bootstrap\u001b[39m.\u001b[39;49m_gcd_import(name[level:], package, level)\n",
      "File \u001b[0;32m~/.local/share/virtualenvs/dlk_works-74zHWO1B/lib/python3.11/site-packages/transformers/models/__init__.py:15\u001b[0m\n\u001b[1;32m      <a href='file:///home/art/.local/share/virtualenvs/dlk_works-74zHWO1B/lib/python3.11/site-packages/transformers/models/__init__.py?line=0'>1</a>\u001b[0m \u001b[39m# Copyright 2020 The HuggingFace Team. All rights reserved.\u001b[39;00m\n\u001b[1;32m      <a href='file:///home/art/.local/share/virtualenvs/dlk_works-74zHWO1B/lib/python3.11/site-packages/transformers/models/__init__.py?line=1'>2</a>\u001b[0m \u001b[39m#\u001b[39;00m\n\u001b[1;32m      <a href='file:///home/art/.local/share/virtualenvs/dlk_works-74zHWO1B/lib/python3.11/site-packages/transformers/models/__init__.py?line=2'>3</a>\u001b[0m \u001b[39m# Licensed under the Apache License, Version 2.0 (the \"License\");\u001b[39;00m\n\u001b[0;32m   (...)\u001b[0m\n\u001b[1;32m     <a href='file:///home/art/.local/share/virtualenvs/dlk_works-74zHWO1B/lib/python3.11/site-packages/transformers/models/__init__.py?line=11'>12</a>\u001b[0m \u001b[39m# See the License for the specific language governing permissions and\u001b[39;00m\n\u001b[1;32m     <a href='file:///home/art/.local/share/virtualenvs/dlk_works-74zHWO1B/lib/python3.11/site-packages/transformers/models/__init__.py?line=12'>13</a>\u001b[0m \u001b[39m# limitations under the License.\u001b[39;00m\n\u001b[0;32m---> <a href='file:///home/art/.local/share/virtualenvs/dlk_works-74zHWO1B/lib/python3.11/site-packages/transformers/models/__init__.py?line=14'>15</a>\u001b[0m \u001b[39mfrom\u001b[39;00m \u001b[39m.\u001b[39;00m \u001b[39mimport\u001b[39;00m (\n\u001b[1;32m     <a href='file:///home/art/.local/share/virtualenvs/dlk_works-74zHWO1B/lib/python3.11/site-packages/transformers/models/__init__.py?line=15'>16</a>\u001b[0m     albert,\n\u001b[1;32m     <a href='file:///home/art/.local/share/virtualenvs/dlk_works-74zHWO1B/lib/python3.11/site-packages/transformers/models/__init__.py?line=16'>17</a>\u001b[0m     align,\n\u001b[1;32m     <a href='file:///home/art/.local/share/virtualenvs/dlk_works-74zHWO1B/lib/python3.11/site-packages/transformers/models/__init__.py?line=17'>18</a>\u001b[0m     altclip,\n\u001b[1;32m     <a href='file:///home/art/.local/share/virtualenvs/dlk_works-74zHWO1B/lib/python3.11/site-packages/transformers/models/__init__.py?line=18'>19</a>\u001b[0m     audio_spectrogram_transformer,\n\u001b[1;32m     <a href='file:///home/art/.local/share/virtualenvs/dlk_works-74zHWO1B/lib/python3.11/site-packages/transformers/models/__init__.py?line=19'>20</a>\u001b[0m     auto,\n\u001b[1;32m     <a href='file:///home/art/.local/share/virtualenvs/dlk_works-74zHWO1B/lib/python3.11/site-packages/transformers/models/__init__.py?line=20'>21</a>\u001b[0m     autoformer,\n\u001b[1;32m     <a href='file:///home/art/.local/share/virtualenvs/dlk_works-74zHWO1B/lib/python3.11/site-packages/transformers/models/__init__.py?line=21'>22</a>\u001b[0m     bart,\n\u001b[1;32m     <a href='file:///home/art/.local/share/virtualenvs/dlk_works-74zHWO1B/lib/python3.11/site-packages/transformers/models/__init__.py?line=22'>23</a>\u001b[0m     barthez,\n\u001b[1;32m     <a href='file:///home/art/.local/share/virtualenvs/dlk_works-74zHWO1B/lib/python3.11/site-packages/transformers/models/__init__.py?line=23'>24</a>\u001b[0m     bartpho,\n\u001b[1;32m     <a href='file:///home/art/.local/share/virtualenvs/dlk_works-74zHWO1B/lib/python3.11/site-packages/transformers/models/__init__.py?line=24'>25</a>\u001b[0m     beit,\n\u001b[1;32m     <a href='file:///home/art/.local/share/virtualenvs/dlk_works-74zHWO1B/lib/python3.11/site-packages/transformers/models/__init__.py?line=25'>26</a>\u001b[0m     bert,\n\u001b[1;32m     <a href='file:///home/art/.local/share/virtualenvs/dlk_works-74zHWO1B/lib/python3.11/site-packages/transformers/models/__init__.py?line=26'>27</a>\u001b[0m     bert_generation,\n\u001b[1;32m     <a href='file:///home/art/.local/share/virtualenvs/dlk_works-74zHWO1B/lib/python3.11/site-packages/transformers/models/__init__.py?line=27'>28</a>\u001b[0m     bert_japanese,\n\u001b[1;32m     <a href='file:///home/art/.local/share/virtualenvs/dlk_works-74zHWO1B/lib/python3.11/site-packages/transformers/models/__init__.py?line=28'>29</a>\u001b[0m     bertweet,\n\u001b[1;32m     <a href='file:///home/art/.local/share/virtualenvs/dlk_works-74zHWO1B/lib/python3.11/site-packages/transformers/models/__init__.py?line=29'>30</a>\u001b[0m     big_bird,\n\u001b[1;32m     <a href='file:///home/art/.local/share/virtualenvs/dlk_works-74zHWO1B/lib/python3.11/site-packages/transformers/models/__init__.py?line=30'>31</a>\u001b[0m     bigbird_pegasus,\n\u001b[1;32m     <a href='file:///home/art/.local/share/virtualenvs/dlk_works-74zHWO1B/lib/python3.11/site-packages/transformers/models/__init__.py?line=31'>32</a>\u001b[0m     biogpt,\n\u001b[1;32m     <a href='file:///home/art/.local/share/virtualenvs/dlk_works-74zHWO1B/lib/python3.11/site-packages/transformers/models/__init__.py?line=32'>33</a>\u001b[0m     bit,\n\u001b[1;32m     <a href='file:///home/art/.local/share/virtualenvs/dlk_works-74zHWO1B/lib/python3.11/site-packages/transformers/models/__init__.py?line=33'>34</a>\u001b[0m     blenderbot,\n\u001b[1;32m     <a href='file:///home/art/.local/share/virtualenvs/dlk_works-74zHWO1B/lib/python3.11/site-packages/transformers/models/__init__.py?line=34'>35</a>\u001b[0m     blenderbot_small,\n\u001b[1;32m     <a href='file:///home/art/.local/share/virtualenvs/dlk_works-74zHWO1B/lib/python3.11/site-packages/transformers/models/__init__.py?line=35'>36</a>\u001b[0m     blip,\n\u001b[1;32m     <a href='file:///home/art/.local/share/virtualenvs/dlk_works-74zHWO1B/lib/python3.11/site-packages/transformers/models/__init__.py?line=36'>37</a>\u001b[0m     blip_2,\n\u001b[1;32m     <a href='file:///home/art/.local/share/virtualenvs/dlk_works-74zHWO1B/lib/python3.11/site-packages/transformers/models/__init__.py?line=37'>38</a>\u001b[0m     bloom,\n\u001b[1;32m     <a href='file:///home/art/.local/share/virtualenvs/dlk_works-74zHWO1B/lib/python3.11/site-packages/transformers/models/__init__.py?line=38'>39</a>\u001b[0m     bort,\n\u001b[1;32m     <a href='file:///home/art/.local/share/virtualenvs/dlk_works-74zHWO1B/lib/python3.11/site-packages/transformers/models/__init__.py?line=39'>40</a>\u001b[0m     bridgetower,\n\u001b[1;32m     <a href='file:///home/art/.local/share/virtualenvs/dlk_works-74zHWO1B/lib/python3.11/site-packages/transformers/models/__init__.py?line=40'>41</a>\u001b[0m     byt5,\n\u001b[1;32m     <a href='file:///home/art/.local/share/virtualenvs/dlk_works-74zHWO1B/lib/python3.11/site-packages/transformers/models/__init__.py?line=41'>42</a>\u001b[0m     camembert,\n\u001b[1;32m     <a href='file:///home/art/.local/share/virtualenvs/dlk_works-74zHWO1B/lib/python3.11/site-packages/transformers/models/__init__.py?line=42'>43</a>\u001b[0m     canine,\n\u001b[1;32m     <a href='file:///home/art/.local/share/virtualenvs/dlk_works-74zHWO1B/lib/python3.11/site-packages/transformers/models/__init__.py?line=43'>44</a>\u001b[0m     chinese_clip,\n\u001b[1;32m     <a href='file:///home/art/.local/share/virtualenvs/dlk_works-74zHWO1B/lib/python3.11/site-packages/transformers/models/__init__.py?line=44'>45</a>\u001b[0m     clap,\n\u001b[1;32m     <a href='file:///home/art/.local/share/virtualenvs/dlk_works-74zHWO1B/lib/python3.11/site-packages/transformers/models/__init__.py?line=45'>46</a>\u001b[0m     clip,\n\u001b[1;32m     <a href='file:///home/art/.local/share/virtualenvs/dlk_works-74zHWO1B/lib/python3.11/site-packages/transformers/models/__init__.py?line=46'>47</a>\u001b[0m     clipseg,\n\u001b[1;32m     <a href='file:///home/art/.local/share/virtualenvs/dlk_works-74zHWO1B/lib/python3.11/site-packages/transformers/models/__init__.py?line=47'>48</a>\u001b[0m     codegen,\n\u001b[1;32m     <a href='file:///home/art/.local/share/virtualenvs/dlk_works-74zHWO1B/lib/python3.11/site-packages/transformers/models/__init__.py?line=48'>49</a>\u001b[0m     conditional_detr,\n\u001b[1;32m     <a href='file:///home/art/.local/share/virtualenvs/dlk_works-74zHWO1B/lib/python3.11/site-packages/transformers/models/__init__.py?line=49'>50</a>\u001b[0m     convbert,\n\u001b[1;32m     <a href='file:///home/art/.local/share/virtualenvs/dlk_works-74zHWO1B/lib/python3.11/site-packages/transformers/models/__init__.py?line=50'>51</a>\u001b[0m     convnext,\n\u001b[1;32m     <a href='file:///home/art/.local/share/virtualenvs/dlk_works-74zHWO1B/lib/python3.11/site-packages/transformers/models/__init__.py?line=51'>52</a>\u001b[0m     convnextv2,\n\u001b[1;32m     <a href='file:///home/art/.local/share/virtualenvs/dlk_works-74zHWO1B/lib/python3.11/site-packages/transformers/models/__init__.py?line=52'>53</a>\u001b[0m     cpm,\n\u001b[1;32m     <a href='file:///home/art/.local/share/virtualenvs/dlk_works-74zHWO1B/lib/python3.11/site-packages/transformers/models/__init__.py?line=53'>54</a>\u001b[0m     cpmant,\n\u001b[1;32m     <a href='file:///home/art/.local/share/virtualenvs/dlk_works-74zHWO1B/lib/python3.11/site-packages/transformers/models/__init__.py?line=54'>55</a>\u001b[0m     ctrl,\n\u001b[1;32m     <a href='file:///home/art/.local/share/virtualenvs/dlk_works-74zHWO1B/lib/python3.11/site-packages/transformers/models/__init__.py?line=55'>56</a>\u001b[0m     cvt,\n\u001b[1;32m     <a href='file:///home/art/.local/share/virtualenvs/dlk_works-74zHWO1B/lib/python3.11/site-packages/transformers/models/__init__.py?line=56'>57</a>\u001b[0m     data2vec,\n\u001b[1;32m     <a href='file:///home/art/.local/share/virtualenvs/dlk_works-74zHWO1B/lib/python3.11/site-packages/transformers/models/__init__.py?line=57'>58</a>\u001b[0m     deberta,\n\u001b[1;32m     <a href='file:///home/art/.local/share/virtualenvs/dlk_works-74zHWO1B/lib/python3.11/site-packages/transformers/models/__init__.py?line=58'>59</a>\u001b[0m     deberta_v2,\n\u001b[1;32m     <a href='file:///home/art/.local/share/virtualenvs/dlk_works-74zHWO1B/lib/python3.11/site-packages/transformers/models/__init__.py?line=59'>60</a>\u001b[0m     decision_transformer,\n\u001b[1;32m     <a href='file:///home/art/.local/share/virtualenvs/dlk_works-74zHWO1B/lib/python3.11/site-packages/transformers/models/__init__.py?line=60'>61</a>\u001b[0m     deformable_detr,\n\u001b[1;32m     <a href='file:///home/art/.local/share/virtualenvs/dlk_works-74zHWO1B/lib/python3.11/site-packages/transformers/models/__init__.py?line=61'>62</a>\u001b[0m     deit,\n\u001b[1;32m     <a href='file:///home/art/.local/share/virtualenvs/dlk_works-74zHWO1B/lib/python3.11/site-packages/transformers/models/__init__.py?line=62'>63</a>\u001b[0m     deta,\n\u001b[1;32m     <a href='file:///home/art/.local/share/virtualenvs/dlk_works-74zHWO1B/lib/python3.11/site-packages/transformers/models/__init__.py?line=63'>64</a>\u001b[0m     detr,\n\u001b[1;32m     <a href='file:///home/art/.local/share/virtualenvs/dlk_works-74zHWO1B/lib/python3.11/site-packages/transformers/models/__init__.py?line=64'>65</a>\u001b[0m     dialogpt,\n\u001b[1;32m     <a href='file:///home/art/.local/share/virtualenvs/dlk_works-74zHWO1B/lib/python3.11/site-packages/transformers/models/__init__.py?line=65'>66</a>\u001b[0m     dinat,\n\u001b[1;32m     <a href='file:///home/art/.local/share/virtualenvs/dlk_works-74zHWO1B/lib/python3.11/site-packages/transformers/models/__init__.py?line=66'>67</a>\u001b[0m     distilbert,\n\u001b[1;32m     <a href='file:///home/art/.local/share/virtualenvs/dlk_works-74zHWO1B/lib/python3.11/site-packages/transformers/models/__init__.py?line=67'>68</a>\u001b[0m     dit,\n\u001b[1;32m     <a href='file:///home/art/.local/share/virtualenvs/dlk_works-74zHWO1B/lib/python3.11/site-packages/transformers/models/__init__.py?line=68'>69</a>\u001b[0m     donut,\n\u001b[1;32m     <a href='file:///home/art/.local/share/virtualenvs/dlk_works-74zHWO1B/lib/python3.11/site-packages/transformers/models/__init__.py?line=69'>70</a>\u001b[0m     dpr,\n\u001b[1;32m     <a href='file:///home/art/.local/share/virtualenvs/dlk_works-74zHWO1B/lib/python3.11/site-packages/transformers/models/__init__.py?line=70'>71</a>\u001b[0m     dpt,\n\u001b[1;32m     <a href='file:///home/art/.local/share/virtualenvs/dlk_works-74zHWO1B/lib/python3.11/site-packages/transformers/models/__init__.py?line=71'>72</a>\u001b[0m     efficientformer,\n\u001b[1;32m     <a href='file:///home/art/.local/share/virtualenvs/dlk_works-74zHWO1B/lib/python3.11/site-packages/transformers/models/__init__.py?line=72'>73</a>\u001b[0m     efficientnet,\n\u001b[1;32m     <a href='file:///home/art/.local/share/virtualenvs/dlk_works-74zHWO1B/lib/python3.11/site-packages/transformers/models/__init__.py?line=73'>74</a>\u001b[0m     electra,\n\u001b[1;32m     <a href='file:///home/art/.local/share/virtualenvs/dlk_works-74zHWO1B/lib/python3.11/site-packages/transformers/models/__init__.py?line=74'>75</a>\u001b[0m     encoder_decoder,\n\u001b[1;32m     <a href='file:///home/art/.local/share/virtualenvs/dlk_works-74zHWO1B/lib/python3.11/site-packages/transformers/models/__init__.py?line=75'>76</a>\u001b[0m     ernie,\n\u001b[1;32m     <a href='file:///home/art/.local/share/virtualenvs/dlk_works-74zHWO1B/lib/python3.11/site-packages/transformers/models/__init__.py?line=76'>77</a>\u001b[0m     ernie_m,\n\u001b[1;32m     <a href='file:///home/art/.local/share/virtualenvs/dlk_works-74zHWO1B/lib/python3.11/site-packages/transformers/models/__init__.py?line=77'>78</a>\u001b[0m     esm,\n\u001b[1;32m     <a href='file:///home/art/.local/share/virtualenvs/dlk_works-74zHWO1B/lib/python3.11/site-packages/transformers/models/__init__.py?line=78'>79</a>\u001b[0m     flaubert,\n\u001b[1;32m     <a href='file:///home/art/.local/share/virtualenvs/dlk_works-74zHWO1B/lib/python3.11/site-packages/transformers/models/__init__.py?line=79'>80</a>\u001b[0m     flava,\n\u001b[1;32m     <a href='file:///home/art/.local/share/virtualenvs/dlk_works-74zHWO1B/lib/python3.11/site-packages/transformers/models/__init__.py?line=80'>81</a>\u001b[0m     fnet,\n\u001b[1;32m     <a href='file:///home/art/.local/share/virtualenvs/dlk_works-74zHWO1B/lib/python3.11/site-packages/transformers/models/__init__.py?line=81'>82</a>\u001b[0m     focalnet,\n\u001b[1;32m     <a href='file:///home/art/.local/share/virtualenvs/dlk_works-74zHWO1B/lib/python3.11/site-packages/transformers/models/__init__.py?line=82'>83</a>\u001b[0m     fsmt,\n\u001b[1;32m     <a href='file:///home/art/.local/share/virtualenvs/dlk_works-74zHWO1B/lib/python3.11/site-packages/transformers/models/__init__.py?line=83'>84</a>\u001b[0m     funnel,\n\u001b[1;32m     <a href='file:///home/art/.local/share/virtualenvs/dlk_works-74zHWO1B/lib/python3.11/site-packages/transformers/models/__init__.py?line=84'>85</a>\u001b[0m     git,\n\u001b[1;32m     <a href='file:///home/art/.local/share/virtualenvs/dlk_works-74zHWO1B/lib/python3.11/site-packages/transformers/models/__init__.py?line=85'>86</a>\u001b[0m     glpn,\n\u001b[1;32m     <a href='file:///home/art/.local/share/virtualenvs/dlk_works-74zHWO1B/lib/python3.11/site-packages/transformers/models/__init__.py?line=86'>87</a>\u001b[0m     gpt2,\n\u001b[1;32m     <a href='file:///home/art/.local/share/virtualenvs/dlk_works-74zHWO1B/lib/python3.11/site-packages/transformers/models/__init__.py?line=87'>88</a>\u001b[0m     gpt_bigcode,\n\u001b[1;32m     <a href='file:///home/art/.local/share/virtualenvs/dlk_works-74zHWO1B/lib/python3.11/site-packages/transformers/models/__init__.py?line=88'>89</a>\u001b[0m     gpt_neo,\n\u001b[1;32m     <a href='file:///home/art/.local/share/virtualenvs/dlk_works-74zHWO1B/lib/python3.11/site-packages/transformers/models/__init__.py?line=89'>90</a>\u001b[0m     gpt_neox,\n\u001b[1;32m     <a href='file:///home/art/.local/share/virtualenvs/dlk_works-74zHWO1B/lib/python3.11/site-packages/transformers/models/__init__.py?line=90'>91</a>\u001b[0m     gpt_neox_japanese,\n\u001b[1;32m     <a href='file:///home/art/.local/share/virtualenvs/dlk_works-74zHWO1B/lib/python3.11/site-packages/transformers/models/__init__.py?line=91'>92</a>\u001b[0m     gpt_sw3,\n\u001b[1;32m     <a href='file:///home/art/.local/share/virtualenvs/dlk_works-74zHWO1B/lib/python3.11/site-packages/transformers/models/__init__.py?line=92'>93</a>\u001b[0m     gptj,\n\u001b[1;32m     <a href='file:///home/art/.local/share/virtualenvs/dlk_works-74zHWO1B/lib/python3.11/site-packages/transformers/models/__init__.py?line=93'>94</a>\u001b[0m     gptsan_japanese,\n\u001b[1;32m     <a href='file:///home/art/.local/share/virtualenvs/dlk_works-74zHWO1B/lib/python3.11/site-packages/transformers/models/__init__.py?line=94'>95</a>\u001b[0m     graphormer,\n\u001b[1;32m     <a href='file:///home/art/.local/share/virtualenvs/dlk_works-74zHWO1B/lib/python3.11/site-packages/transformers/models/__init__.py?line=95'>96</a>\u001b[0m     groupvit,\n\u001b[1;32m     <a href='file:///home/art/.local/share/virtualenvs/dlk_works-74zHWO1B/lib/python3.11/site-packages/transformers/models/__init__.py?line=96'>97</a>\u001b[0m     herbert,\n\u001b[1;32m     <a href='file:///home/art/.local/share/virtualenvs/dlk_works-74zHWO1B/lib/python3.11/site-packages/transformers/models/__init__.py?line=97'>98</a>\u001b[0m     hubert,\n\u001b[1;32m     <a href='file:///home/art/.local/share/virtualenvs/dlk_works-74zHWO1B/lib/python3.11/site-packages/transformers/models/__init__.py?line=98'>99</a>\u001b[0m     ibert,\n\u001b[1;32m    <a href='file:///home/art/.local/share/virtualenvs/dlk_works-74zHWO1B/lib/python3.11/site-packages/transformers/models/__init__.py?line=99'>100</a>\u001b[0m     imagegpt,\n\u001b[1;32m    <a href='file:///home/art/.local/share/virtualenvs/dlk_works-74zHWO1B/lib/python3.11/site-packages/transformers/models/__init__.py?line=100'>101</a>\u001b[0m     informer,\n\u001b[1;32m    <a href='file:///home/art/.local/share/virtualenvs/dlk_works-74zHWO1B/lib/python3.11/site-packages/transformers/models/__init__.py?line=101'>102</a>\u001b[0m     jukebox,\n\u001b[1;32m    <a href='file:///home/art/.local/share/virtualenvs/dlk_works-74zHWO1B/lib/python3.11/site-packages/transformers/models/__init__.py?line=102'>103</a>\u001b[0m     layoutlm,\n\u001b[1;32m    <a href='file:///home/art/.local/share/virtualenvs/dlk_works-74zHWO1B/lib/python3.11/site-packages/transformers/models/__init__.py?line=103'>104</a>\u001b[0m     layoutlmv2,\n\u001b[1;32m    <a href='file:///home/art/.local/share/virtualenvs/dlk_works-74zHWO1B/lib/python3.11/site-packages/transformers/models/__init__.py?line=104'>105</a>\u001b[0m     layoutlmv3,\n\u001b[1;32m    <a href='file:///home/art/.local/share/virtualenvs/dlk_works-74zHWO1B/lib/python3.11/site-packages/transformers/models/__init__.py?line=105'>106</a>\u001b[0m     layoutxlm,\n\u001b[1;32m    <a href='file:///home/art/.local/share/virtualenvs/dlk_works-74zHWO1B/lib/python3.11/site-packages/transformers/models/__init__.py?line=106'>107</a>\u001b[0m     led,\n\u001b[1;32m    <a href='file:///home/art/.local/share/virtualenvs/dlk_works-74zHWO1B/lib/python3.11/site-packages/transformers/models/__init__.py?line=107'>108</a>\u001b[0m     levit,\n\u001b[1;32m    <a href='file:///home/art/.local/share/virtualenvs/dlk_works-74zHWO1B/lib/python3.11/site-packages/transformers/models/__init__.py?line=108'>109</a>\u001b[0m     lilt,\n\u001b[1;32m    <a href='file:///home/art/.local/share/virtualenvs/dlk_works-74zHWO1B/lib/python3.11/site-packages/transformers/models/__init__.py?line=109'>110</a>\u001b[0m     llama,\n\u001b[1;32m    <a href='file:///home/art/.local/share/virtualenvs/dlk_works-74zHWO1B/lib/python3.11/site-packages/transformers/models/__init__.py?line=110'>111</a>\u001b[0m     longformer,\n\u001b[1;32m    <a href='file:///home/art/.local/share/virtualenvs/dlk_works-74zHWO1B/lib/python3.11/site-packages/transformers/models/__init__.py?line=111'>112</a>\u001b[0m     longt5,\n\u001b[1;32m    <a href='file:///home/art/.local/share/virtualenvs/dlk_works-74zHWO1B/lib/python3.11/site-packages/transformers/models/__init__.py?line=112'>113</a>\u001b[0m     luke,\n\u001b[1;32m    <a href='file:///home/art/.local/share/virtualenvs/dlk_works-74zHWO1B/lib/python3.11/site-packages/transformers/models/__init__.py?line=113'>114</a>\u001b[0m     lxmert,\n\u001b[1;32m    <a href='file:///home/art/.local/share/virtualenvs/dlk_works-74zHWO1B/lib/python3.11/site-packages/transformers/models/__init__.py?line=114'>115</a>\u001b[0m     m2m_100,\n\u001b[1;32m    <a href='file:///home/art/.local/share/virtualenvs/dlk_works-74zHWO1B/lib/python3.11/site-packages/transformers/models/__init__.py?line=115'>116</a>\u001b[0m     marian,\n\u001b[1;32m    <a href='file:///home/art/.local/share/virtualenvs/dlk_works-74zHWO1B/lib/python3.11/site-packages/transformers/models/__init__.py?line=116'>117</a>\u001b[0m     markuplm,\n\u001b[1;32m    <a href='file:///home/art/.local/share/virtualenvs/dlk_works-74zHWO1B/lib/python3.11/site-packages/transformers/models/__init__.py?line=117'>118</a>\u001b[0m     mask2former,\n\u001b[1;32m    <a href='file:///home/art/.local/share/virtualenvs/dlk_works-74zHWO1B/lib/python3.11/site-packages/transformers/models/__init__.py?line=118'>119</a>\u001b[0m     maskformer,\n\u001b[1;32m    <a href='file:///home/art/.local/share/virtualenvs/dlk_works-74zHWO1B/lib/python3.11/site-packages/transformers/models/__init__.py?line=119'>120</a>\u001b[0m     mbart,\n\u001b[1;32m    <a href='file:///home/art/.local/share/virtualenvs/dlk_works-74zHWO1B/lib/python3.11/site-packages/transformers/models/__init__.py?line=120'>121</a>\u001b[0m     mbart50,\n\u001b[1;32m    <a href='file:///home/art/.local/share/virtualenvs/dlk_works-74zHWO1B/lib/python3.11/site-packages/transformers/models/__init__.py?line=121'>122</a>\u001b[0m     mctct,\n\u001b[1;32m    <a href='file:///home/art/.local/share/virtualenvs/dlk_works-74zHWO1B/lib/python3.11/site-packages/transformers/models/__init__.py?line=122'>123</a>\u001b[0m     mega,\n\u001b[1;32m    <a href='file:///home/art/.local/share/virtualenvs/dlk_works-74zHWO1B/lib/python3.11/site-packages/transformers/models/__init__.py?line=123'>124</a>\u001b[0m     megatron_bert,\n\u001b[1;32m    <a href='file:///home/art/.local/share/virtualenvs/dlk_works-74zHWO1B/lib/python3.11/site-packages/transformers/models/__init__.py?line=124'>125</a>\u001b[0m     megatron_gpt2,\n\u001b[1;32m    <a href='file:///home/art/.local/share/virtualenvs/dlk_works-74zHWO1B/lib/python3.11/site-packages/transformers/models/__init__.py?line=125'>126</a>\u001b[0m     mgp_str,\n\u001b[1;32m    <a href='file:///home/art/.local/share/virtualenvs/dlk_works-74zHWO1B/lib/python3.11/site-packages/transformers/models/__init__.py?line=126'>127</a>\u001b[0m     mluke,\n\u001b[1;32m    <a href='file:///home/art/.local/share/virtualenvs/dlk_works-74zHWO1B/lib/python3.11/site-packages/transformers/models/__init__.py?line=127'>128</a>\u001b[0m     mmbt,\n\u001b[1;32m    <a href='file:///home/art/.local/share/virtualenvs/dlk_works-74zHWO1B/lib/python3.11/site-packages/transformers/models/__init__.py?line=128'>129</a>\u001b[0m     mobilebert,\n\u001b[1;32m    <a href='file:///home/art/.local/share/virtualenvs/dlk_works-74zHWO1B/lib/python3.11/site-packages/transformers/models/__init__.py?line=129'>130</a>\u001b[0m     mobilenet_v1,\n\u001b[1;32m    <a href='file:///home/art/.local/share/virtualenvs/dlk_works-74zHWO1B/lib/python3.11/site-packages/transformers/models/__init__.py?line=130'>131</a>\u001b[0m     mobilenet_v2,\n\u001b[1;32m    <a href='file:///home/art/.local/share/virtualenvs/dlk_works-74zHWO1B/lib/python3.11/site-packages/transformers/models/__init__.py?line=131'>132</a>\u001b[0m     mobilevit,\n\u001b[1;32m    <a href='file:///home/art/.local/share/virtualenvs/dlk_works-74zHWO1B/lib/python3.11/site-packages/transformers/models/__init__.py?line=132'>133</a>\u001b[0m     mobilevitv2,\n\u001b[1;32m    <a href='file:///home/art/.local/share/virtualenvs/dlk_works-74zHWO1B/lib/python3.11/site-packages/transformers/models/__init__.py?line=133'>134</a>\u001b[0m     mpnet,\n\u001b[1;32m    <a href='file:///home/art/.local/share/virtualenvs/dlk_works-74zHWO1B/lib/python3.11/site-packages/transformers/models/__init__.py?line=134'>135</a>\u001b[0m     mt5,\n\u001b[1;32m    <a href='file:///home/art/.local/share/virtualenvs/dlk_works-74zHWO1B/lib/python3.11/site-packages/transformers/models/__init__.py?line=135'>136</a>\u001b[0m     mvp,\n\u001b[1;32m    <a href='file:///home/art/.local/share/virtualenvs/dlk_works-74zHWO1B/lib/python3.11/site-packages/transformers/models/__init__.py?line=136'>137</a>\u001b[0m     nat,\n\u001b[1;32m    <a href='file:///home/art/.local/share/virtualenvs/dlk_works-74zHWO1B/lib/python3.11/site-packages/transformers/models/__init__.py?line=137'>138</a>\u001b[0m     nezha,\n\u001b[1;32m    <a href='file:///home/art/.local/share/virtualenvs/dlk_works-74zHWO1B/lib/python3.11/site-packages/transformers/models/__init__.py?line=138'>139</a>\u001b[0m     nllb,\n\u001b[1;32m    <a href='file:///home/art/.local/share/virtualenvs/dlk_works-74zHWO1B/lib/python3.11/site-packages/transformers/models/__init__.py?line=139'>140</a>\u001b[0m     nllb_moe,\n\u001b[1;32m    <a href='file:///home/art/.local/share/virtualenvs/dlk_works-74zHWO1B/lib/python3.11/site-packages/transformers/models/__init__.py?line=140'>141</a>\u001b[0m     nystromformer,\n\u001b[1;32m    <a href='file:///home/art/.local/share/virtualenvs/dlk_works-74zHWO1B/lib/python3.11/site-packages/transformers/models/__init__.py?line=141'>142</a>\u001b[0m     oneformer,\n\u001b[1;32m    <a href='file:///home/art/.local/share/virtualenvs/dlk_works-74zHWO1B/lib/python3.11/site-packages/transformers/models/__init__.py?line=142'>143</a>\u001b[0m     open_llama,\n\u001b[1;32m    <a href='file:///home/art/.local/share/virtualenvs/dlk_works-74zHWO1B/lib/python3.11/site-packages/transformers/models/__init__.py?line=143'>144</a>\u001b[0m     openai,\n\u001b[1;32m    <a href='file:///home/art/.local/share/virtualenvs/dlk_works-74zHWO1B/lib/python3.11/site-packages/transformers/models/__init__.py?line=144'>145</a>\u001b[0m     opt,\n\u001b[1;32m    <a href='file:///home/art/.local/share/virtualenvs/dlk_works-74zHWO1B/lib/python3.11/site-packages/transformers/models/__init__.py?line=145'>146</a>\u001b[0m     owlvit,\n\u001b[1;32m    <a href='file:///home/art/.local/share/virtualenvs/dlk_works-74zHWO1B/lib/python3.11/site-packages/transformers/models/__init__.py?line=146'>147</a>\u001b[0m     pegasus,\n\u001b[1;32m    <a href='file:///home/art/.local/share/virtualenvs/dlk_works-74zHWO1B/lib/python3.11/site-packages/transformers/models/__init__.py?line=147'>148</a>\u001b[0m     pegasus_x,\n\u001b[1;32m    <a href='file:///home/art/.local/share/virtualenvs/dlk_works-74zHWO1B/lib/python3.11/site-packages/transformers/models/__init__.py?line=148'>149</a>\u001b[0m     perceiver,\n\u001b[1;32m    <a href='file:///home/art/.local/share/virtualenvs/dlk_works-74zHWO1B/lib/python3.11/site-packages/transformers/models/__init__.py?line=149'>150</a>\u001b[0m     phobert,\n\u001b[1;32m    <a href='file:///home/art/.local/share/virtualenvs/dlk_works-74zHWO1B/lib/python3.11/site-packages/transformers/models/__init__.py?line=150'>151</a>\u001b[0m     pix2struct,\n\u001b[1;32m    <a href='file:///home/art/.local/share/virtualenvs/dlk_works-74zHWO1B/lib/python3.11/site-packages/transformers/models/__init__.py?line=151'>152</a>\u001b[0m     plbart,\n\u001b[1;32m    <a href='file:///home/art/.local/share/virtualenvs/dlk_works-74zHWO1B/lib/python3.11/site-packages/transformers/models/__init__.py?line=152'>153</a>\u001b[0m     poolformer,\n\u001b[1;32m    <a href='file:///home/art/.local/share/virtualenvs/dlk_works-74zHWO1B/lib/python3.11/site-packages/transformers/models/__init__.py?line=153'>154</a>\u001b[0m     prophetnet,\n\u001b[1;32m    <a href='file:///home/art/.local/share/virtualenvs/dlk_works-74zHWO1B/lib/python3.11/site-packages/transformers/models/__init__.py?line=154'>155</a>\u001b[0m     qdqbert,\n\u001b[1;32m    <a href='file:///home/art/.local/share/virtualenvs/dlk_works-74zHWO1B/lib/python3.11/site-packages/transformers/models/__init__.py?line=155'>156</a>\u001b[0m     rag,\n\u001b[1;32m    <a href='file:///home/art/.local/share/virtualenvs/dlk_works-74zHWO1B/lib/python3.11/site-packages/transformers/models/__init__.py?line=156'>157</a>\u001b[0m     realm,\n\u001b[1;32m    <a href='file:///home/art/.local/share/virtualenvs/dlk_works-74zHWO1B/lib/python3.11/site-packages/transformers/models/__init__.py?line=157'>158</a>\u001b[0m     reformer,\n\u001b[1;32m    <a href='file:///home/art/.local/share/virtualenvs/dlk_works-74zHWO1B/lib/python3.11/site-packages/transformers/models/__init__.py?line=158'>159</a>\u001b[0m     regnet,\n\u001b[1;32m    <a href='file:///home/art/.local/share/virtualenvs/dlk_works-74zHWO1B/lib/python3.11/site-packages/transformers/models/__init__.py?line=159'>160</a>\u001b[0m     rembert,\n\u001b[1;32m    <a href='file:///home/art/.local/share/virtualenvs/dlk_works-74zHWO1B/lib/python3.11/site-packages/transformers/models/__init__.py?line=160'>161</a>\u001b[0m     resnet,\n\u001b[1;32m    <a href='file:///home/art/.local/share/virtualenvs/dlk_works-74zHWO1B/lib/python3.11/site-packages/transformers/models/__init__.py?line=161'>162</a>\u001b[0m     retribert,\n\u001b[1;32m    <a href='file:///home/art/.local/share/virtualenvs/dlk_works-74zHWO1B/lib/python3.11/site-packages/transformers/models/__init__.py?line=162'>163</a>\u001b[0m     roberta,\n\u001b[1;32m    <a href='file:///home/art/.local/share/virtualenvs/dlk_works-74zHWO1B/lib/python3.11/site-packages/transformers/models/__init__.py?line=163'>164</a>\u001b[0m     roberta_prelayernorm,\n\u001b[1;32m    <a href='file:///home/art/.local/share/virtualenvs/dlk_works-74zHWO1B/lib/python3.11/site-packages/transformers/models/__init__.py?line=164'>165</a>\u001b[0m     roc_bert,\n\u001b[1;32m    <a href='file:///home/art/.local/share/virtualenvs/dlk_works-74zHWO1B/lib/python3.11/site-packages/transformers/models/__init__.py?line=165'>166</a>\u001b[0m     roformer,\n\u001b[1;32m    <a href='file:///home/art/.local/share/virtualenvs/dlk_works-74zHWO1B/lib/python3.11/site-packages/transformers/models/__init__.py?line=166'>167</a>\u001b[0m     rwkv,\n\u001b[1;32m    <a href='file:///home/art/.local/share/virtualenvs/dlk_works-74zHWO1B/lib/python3.11/site-packages/transformers/models/__init__.py?line=167'>168</a>\u001b[0m     sam,\n\u001b[1;32m    <a href='file:///home/art/.local/share/virtualenvs/dlk_works-74zHWO1B/lib/python3.11/site-packages/transformers/models/__init__.py?line=168'>169</a>\u001b[0m     segformer,\n\u001b[1;32m    <a href='file:///home/art/.local/share/virtualenvs/dlk_works-74zHWO1B/lib/python3.11/site-packages/transformers/models/__init__.py?line=169'>170</a>\u001b[0m     sew,\n\u001b[1;32m    <a href='file:///home/art/.local/share/virtualenvs/dlk_works-74zHWO1B/lib/python3.11/site-packages/transformers/models/__init__.py?line=170'>171</a>\u001b[0m     sew_d,\n\u001b[1;32m    <a href='file:///home/art/.local/share/virtualenvs/dlk_works-74zHWO1B/lib/python3.11/site-packages/transformers/models/__init__.py?line=171'>172</a>\u001b[0m     speech_encoder_decoder,\n\u001b[1;32m    <a href='file:///home/art/.local/share/virtualenvs/dlk_works-74zHWO1B/lib/python3.11/site-packages/transformers/models/__init__.py?line=172'>173</a>\u001b[0m     speech_to_text,\n\u001b[1;32m    <a href='file:///home/art/.local/share/virtualenvs/dlk_works-74zHWO1B/lib/python3.11/site-packages/transformers/models/__init__.py?line=173'>174</a>\u001b[0m     speech_to_text_2,\n\u001b[1;32m    <a href='file:///home/art/.local/share/virtualenvs/dlk_works-74zHWO1B/lib/python3.11/site-packages/transformers/models/__init__.py?line=174'>175</a>\u001b[0m     speecht5,\n\u001b[1;32m    <a href='file:///home/art/.local/share/virtualenvs/dlk_works-74zHWO1B/lib/python3.11/site-packages/transformers/models/__init__.py?line=175'>176</a>\u001b[0m     splinter,\n\u001b[1;32m    <a href='file:///home/art/.local/share/virtualenvs/dlk_works-74zHWO1B/lib/python3.11/site-packages/transformers/models/__init__.py?line=176'>177</a>\u001b[0m     squeezebert,\n\u001b[1;32m    <a href='file:///home/art/.local/share/virtualenvs/dlk_works-74zHWO1B/lib/python3.11/site-packages/transformers/models/__init__.py?line=177'>178</a>\u001b[0m     swiftformer,\n\u001b[1;32m    <a href='file:///home/art/.local/share/virtualenvs/dlk_works-74zHWO1B/lib/python3.11/site-packages/transformers/models/__init__.py?line=178'>179</a>\u001b[0m     swin,\n\u001b[1;32m    <a href='file:///home/art/.local/share/virtualenvs/dlk_works-74zHWO1B/lib/python3.11/site-packages/transformers/models/__init__.py?line=179'>180</a>\u001b[0m     swin2sr,\n\u001b[1;32m    <a href='file:///home/art/.local/share/virtualenvs/dlk_works-74zHWO1B/lib/python3.11/site-packages/transformers/models/__init__.py?line=180'>181</a>\u001b[0m     swinv2,\n\u001b[1;32m    <a href='file:///home/art/.local/share/virtualenvs/dlk_works-74zHWO1B/lib/python3.11/site-packages/transformers/models/__init__.py?line=181'>182</a>\u001b[0m     switch_transformers,\n\u001b[1;32m    <a href='file:///home/art/.local/share/virtualenvs/dlk_works-74zHWO1B/lib/python3.11/site-packages/transformers/models/__init__.py?line=182'>183</a>\u001b[0m     t5,\n\u001b[1;32m    <a href='file:///home/art/.local/share/virtualenvs/dlk_works-74zHWO1B/lib/python3.11/site-packages/transformers/models/__init__.py?line=183'>184</a>\u001b[0m     table_transformer,\n\u001b[1;32m    <a href='file:///home/art/.local/share/virtualenvs/dlk_works-74zHWO1B/lib/python3.11/site-packages/transformers/models/__init__.py?line=184'>185</a>\u001b[0m     tapas,\n\u001b[1;32m    <a href='file:///home/art/.local/share/virtualenvs/dlk_works-74zHWO1B/lib/python3.11/site-packages/transformers/models/__init__.py?line=185'>186</a>\u001b[0m     tapex,\n\u001b[1;32m    <a href='file:///home/art/.local/share/virtualenvs/dlk_works-74zHWO1B/lib/python3.11/site-packages/transformers/models/__init__.py?line=186'>187</a>\u001b[0m     time_series_transformer,\n\u001b[1;32m    <a href='file:///home/art/.local/share/virtualenvs/dlk_works-74zHWO1B/lib/python3.11/site-packages/transformers/models/__init__.py?line=187'>188</a>\u001b[0m     timesformer,\n\u001b[1;32m    <a href='file:///home/art/.local/share/virtualenvs/dlk_works-74zHWO1B/lib/python3.11/site-packages/transformers/models/__init__.py?line=188'>189</a>\u001b[0m     timm_backbone,\n\u001b[1;32m    <a href='file:///home/art/.local/share/virtualenvs/dlk_works-74zHWO1B/lib/python3.11/site-packages/transformers/models/__init__.py?line=189'>190</a>\u001b[0m     trajectory_transformer,\n\u001b[1;32m    <a href='file:///home/art/.local/share/virtualenvs/dlk_works-74zHWO1B/lib/python3.11/site-packages/transformers/models/__init__.py?line=190'>191</a>\u001b[0m     transfo_xl,\n\u001b[1;32m    <a href='file:///home/art/.local/share/virtualenvs/dlk_works-74zHWO1B/lib/python3.11/site-packages/transformers/models/__init__.py?line=191'>192</a>\u001b[0m     trocr,\n\u001b[1;32m    <a href='file:///home/art/.local/share/virtualenvs/dlk_works-74zHWO1B/lib/python3.11/site-packages/transformers/models/__init__.py?line=192'>193</a>\u001b[0m     tvlt,\n\u001b[1;32m    <a href='file:///home/art/.local/share/virtualenvs/dlk_works-74zHWO1B/lib/python3.11/site-packages/transformers/models/__init__.py?line=193'>194</a>\u001b[0m     unispeech,\n\u001b[1;32m    <a href='file:///home/art/.local/share/virtualenvs/dlk_works-74zHWO1B/lib/python3.11/site-packages/transformers/models/__init__.py?line=194'>195</a>\u001b[0m     unispeech_sat,\n\u001b[1;32m    <a href='file:///home/art/.local/share/virtualenvs/dlk_works-74zHWO1B/lib/python3.11/site-packages/transformers/models/__init__.py?line=195'>196</a>\u001b[0m     upernet,\n\u001b[1;32m    <a href='file:///home/art/.local/share/virtualenvs/dlk_works-74zHWO1B/lib/python3.11/site-packages/transformers/models/__init__.py?line=196'>197</a>\u001b[0m     van,\n\u001b[1;32m    <a href='file:///home/art/.local/share/virtualenvs/dlk_works-74zHWO1B/lib/python3.11/site-packages/transformers/models/__init__.py?line=197'>198</a>\u001b[0m     videomae,\n\u001b[1;32m    <a href='file:///home/art/.local/share/virtualenvs/dlk_works-74zHWO1B/lib/python3.11/site-packages/transformers/models/__init__.py?line=198'>199</a>\u001b[0m     vilt,\n\u001b[1;32m    <a href='file:///home/art/.local/share/virtualenvs/dlk_works-74zHWO1B/lib/python3.11/site-packages/transformers/models/__init__.py?line=199'>200</a>\u001b[0m     vision_encoder_decoder,\n\u001b[1;32m    <a href='file:///home/art/.local/share/virtualenvs/dlk_works-74zHWO1B/lib/python3.11/site-packages/transformers/models/__init__.py?line=200'>201</a>\u001b[0m     vision_text_dual_encoder,\n\u001b[1;32m    <a href='file:///home/art/.local/share/virtualenvs/dlk_works-74zHWO1B/lib/python3.11/site-packages/transformers/models/__init__.py?line=201'>202</a>\u001b[0m     visual_bert,\n\u001b[1;32m    <a href='file:///home/art/.local/share/virtualenvs/dlk_works-74zHWO1B/lib/python3.11/site-packages/transformers/models/__init__.py?line=202'>203</a>\u001b[0m     vit,\n\u001b[1;32m    <a href='file:///home/art/.local/share/virtualenvs/dlk_works-74zHWO1B/lib/python3.11/site-packages/transformers/models/__init__.py?line=203'>204</a>\u001b[0m     vit_hybrid,\n\u001b[1;32m    <a href='file:///home/art/.local/share/virtualenvs/dlk_works-74zHWO1B/lib/python3.11/site-packages/transformers/models/__init__.py?line=204'>205</a>\u001b[0m     vit_mae,\n\u001b[1;32m    <a href='file:///home/art/.local/share/virtualenvs/dlk_works-74zHWO1B/lib/python3.11/site-packages/transformers/models/__init__.py?line=205'>206</a>\u001b[0m     vit_msn,\n\u001b[1;32m    <a href='file:///home/art/.local/share/virtualenvs/dlk_works-74zHWO1B/lib/python3.11/site-packages/transformers/models/__init__.py?line=206'>207</a>\u001b[0m     wav2vec2,\n\u001b[1;32m    <a href='file:///home/art/.local/share/virtualenvs/dlk_works-74zHWO1B/lib/python3.11/site-packages/transformers/models/__init__.py?line=207'>208</a>\u001b[0m     wav2vec2_conformer,\n\u001b[1;32m    <a href='file:///home/art/.local/share/virtualenvs/dlk_works-74zHWO1B/lib/python3.11/site-packages/transformers/models/__init__.py?line=208'>209</a>\u001b[0m     wav2vec2_phoneme,\n\u001b[1;32m    <a href='file:///home/art/.local/share/virtualenvs/dlk_works-74zHWO1B/lib/python3.11/site-packages/transformers/models/__init__.py?line=209'>210</a>\u001b[0m     wav2vec2_with_lm,\n\u001b[1;32m    <a href='file:///home/art/.local/share/virtualenvs/dlk_works-74zHWO1B/lib/python3.11/site-packages/transformers/models/__init__.py?line=210'>211</a>\u001b[0m     wavlm,\n\u001b[1;32m    <a href='file:///home/art/.local/share/virtualenvs/dlk_works-74zHWO1B/lib/python3.11/site-packages/transformers/models/__init__.py?line=211'>212</a>\u001b[0m     whisper,\n\u001b[1;32m    <a href='file:///home/art/.local/share/virtualenvs/dlk_works-74zHWO1B/lib/python3.11/site-packages/transformers/models/__init__.py?line=212'>213</a>\u001b[0m     x_clip,\n\u001b[1;32m    <a href='file:///home/art/.local/share/virtualenvs/dlk_works-74zHWO1B/lib/python3.11/site-packages/transformers/models/__init__.py?line=213'>214</a>\u001b[0m     xglm,\n\u001b[1;32m    <a href='file:///home/art/.local/share/virtualenvs/dlk_works-74zHWO1B/lib/python3.11/site-packages/transformers/models/__init__.py?line=214'>215</a>\u001b[0m     xlm,\n\u001b[1;32m    <a href='file:///home/art/.local/share/virtualenvs/dlk_works-74zHWO1B/lib/python3.11/site-packages/transformers/models/__init__.py?line=215'>216</a>\u001b[0m     xlm_prophetnet,\n\u001b[1;32m    <a href='file:///home/art/.local/share/virtualenvs/dlk_works-74zHWO1B/lib/python3.11/site-packages/transformers/models/__init__.py?line=216'>217</a>\u001b[0m     xlm_roberta,\n\u001b[1;32m    <a href='file:///home/art/.local/share/virtualenvs/dlk_works-74zHWO1B/lib/python3.11/site-packages/transformers/models/__init__.py?line=217'>218</a>\u001b[0m     xlm_roberta_xl,\n\u001b[1;32m    <a href='file:///home/art/.local/share/virtualenvs/dlk_works-74zHWO1B/lib/python3.11/site-packages/transformers/models/__init__.py?line=218'>219</a>\u001b[0m     xlnet,\n\u001b[1;32m    <a href='file:///home/art/.local/share/virtualenvs/dlk_works-74zHWO1B/lib/python3.11/site-packages/transformers/models/__init__.py?line=219'>220</a>\u001b[0m     xmod,\n\u001b[1;32m    <a href='file:///home/art/.local/share/virtualenvs/dlk_works-74zHWO1B/lib/python3.11/site-packages/transformers/models/__init__.py?line=220'>221</a>\u001b[0m     yolos,\n\u001b[1;32m    <a href='file:///home/art/.local/share/virtualenvs/dlk_works-74zHWO1B/lib/python3.11/site-packages/transformers/models/__init__.py?line=221'>222</a>\u001b[0m     yoso,\n\u001b[1;32m    <a href='file:///home/art/.local/share/virtualenvs/dlk_works-74zHWO1B/lib/python3.11/site-packages/transformers/models/__init__.py?line=222'>223</a>\u001b[0m )\n",
      "File \u001b[0;32m~/.local/share/virtualenvs/dlk_works-74zHWO1B/lib/python3.11/site-packages/transformers/models/mt5/__init__.py:29\u001b[0m\n\u001b[1;32m     <a href='file:///home/art/.local/share/virtualenvs/dlk_works-74zHWO1B/lib/python3.11/site-packages/transformers/models/mt5/__init__.py?line=16'>17</a>\u001b[0m \u001b[39mfrom\u001b[39;00m \u001b[39m.\u001b[39;00m\u001b[39m.\u001b[39;00m\u001b[39m.\u001b[39;00m\u001b[39mutils\u001b[39;00m \u001b[39mimport\u001b[39;00m (\n\u001b[1;32m     <a href='file:///home/art/.local/share/virtualenvs/dlk_works-74zHWO1B/lib/python3.11/site-packages/transformers/models/mt5/__init__.py?line=17'>18</a>\u001b[0m     OptionalDependencyNotAvailable,\n\u001b[1;32m     <a href='file:///home/art/.local/share/virtualenvs/dlk_works-74zHWO1B/lib/python3.11/site-packages/transformers/models/mt5/__init__.py?line=18'>19</a>\u001b[0m     _LazyModule,\n\u001b[0;32m   (...)\u001b[0m\n\u001b[1;32m     <a href='file:///home/art/.local/share/virtualenvs/dlk_works-74zHWO1B/lib/python3.11/site-packages/transformers/models/mt5/__init__.py?line=23'>24</a>\u001b[0m     is_torch_available,\n\u001b[1;32m     <a href='file:///home/art/.local/share/virtualenvs/dlk_works-74zHWO1B/lib/python3.11/site-packages/transformers/models/mt5/__init__.py?line=24'>25</a>\u001b[0m )\n\u001b[1;32m     <a href='file:///home/art/.local/share/virtualenvs/dlk_works-74zHWO1B/lib/python3.11/site-packages/transformers/models/mt5/__init__.py?line=27'>28</a>\u001b[0m \u001b[39mif\u001b[39;00m is_sentencepiece_available():\n\u001b[0;32m---> <a href='file:///home/art/.local/share/virtualenvs/dlk_works-74zHWO1B/lib/python3.11/site-packages/transformers/models/mt5/__init__.py?line=28'>29</a>\u001b[0m     \u001b[39mfrom\u001b[39;00m \u001b[39m.\u001b[39;00m\u001b[39m.\u001b[39;00m\u001b[39mt5\u001b[39;00m\u001b[39m.\u001b[39;00m\u001b[39mtokenization_t5\u001b[39;00m \u001b[39mimport\u001b[39;00m T5Tokenizer\n\u001b[1;32m     <a href='file:///home/art/.local/share/virtualenvs/dlk_works-74zHWO1B/lib/python3.11/site-packages/transformers/models/mt5/__init__.py?line=29'>30</a>\u001b[0m \u001b[39melse\u001b[39;00m:\n\u001b[1;32m     <a href='file:///home/art/.local/share/virtualenvs/dlk_works-74zHWO1B/lib/python3.11/site-packages/transformers/models/mt5/__init__.py?line=30'>31</a>\u001b[0m     \u001b[39mfrom\u001b[39;00m \u001b[39m.\u001b[39;00m\u001b[39m.\u001b[39;00m\u001b[39m.\u001b[39;00m\u001b[39mutils\u001b[39;00m\u001b[39m.\u001b[39;00m\u001b[39mdummy_sentencepiece_objects\u001b[39;00m \u001b[39mimport\u001b[39;00m T5Tokenizer\n",
      "File \u001b[0;32m~/.local/share/virtualenvs/dlk_works-74zHWO1B/lib/python3.11/site-packages/transformers/models/t5/tokenization_t5.py:26\u001b[0m\n\u001b[1;32m     <a href='file:///home/art/.local/share/virtualenvs/dlk_works-74zHWO1B/lib/python3.11/site-packages/transformers/models/t5/tokenization_t5.py?line=21'>22</a>\u001b[0m \u001b[39mfrom\u001b[39;00m \u001b[39mtyping\u001b[39;00m \u001b[39mimport\u001b[39;00m Any, Dict, List, Optional, Tuple\n\u001b[1;32m     <a href='file:///home/art/.local/share/virtualenvs/dlk_works-74zHWO1B/lib/python3.11/site-packages/transformers/models/t5/tokenization_t5.py?line=23'>24</a>\u001b[0m \u001b[39mimport\u001b[39;00m \u001b[39msentencepiece\u001b[39;00m \u001b[39mas\u001b[39;00m \u001b[39mspm\u001b[39;00m\n\u001b[0;32m---> <a href='file:///home/art/.local/share/virtualenvs/dlk_works-74zHWO1B/lib/python3.11/site-packages/transformers/models/t5/tokenization_t5.py?line=25'>26</a>\u001b[0m \u001b[39mfrom\u001b[39;00m \u001b[39m.\u001b[39;00m\u001b[39m.\u001b[39;00m\u001b[39m.\u001b[39;00m\u001b[39mtokenization_utils\u001b[39;00m \u001b[39mimport\u001b[39;00m PreTrainedTokenizer\n\u001b[1;32m     <a href='file:///home/art/.local/share/virtualenvs/dlk_works-74zHWO1B/lib/python3.11/site-packages/transformers/models/t5/tokenization_t5.py?line=26'>27</a>\u001b[0m \u001b[39mfrom\u001b[39;00m \u001b[39m.\u001b[39;00m\u001b[39m.\u001b[39;00m\u001b[39m.\u001b[39;00m\u001b[39mutils\u001b[39;00m \u001b[39mimport\u001b[39;00m logging\n\u001b[1;32m     <a href='file:///home/art/.local/share/virtualenvs/dlk_works-74zHWO1B/lib/python3.11/site-packages/transformers/models/t5/tokenization_t5.py?line=29'>30</a>\u001b[0m logger \u001b[39m=\u001b[39m logging\u001b[39m.\u001b[39mget_logger(\u001b[39m__name__\u001b[39m)\n",
      "File \u001b[0;32m~/.local/share/virtualenvs/dlk_works-74zHWO1B/lib/python3.11/site-packages/transformers/tokenization_utils.py:26\u001b[0m\n\u001b[1;32m     <a href='file:///home/art/.local/share/virtualenvs/dlk_works-74zHWO1B/lib/python3.11/site-packages/transformers/tokenization_utils.py?line=22'>23</a>\u001b[0m \u001b[39mfrom\u001b[39;00m \u001b[39mcollections\u001b[39;00m \u001b[39mimport\u001b[39;00m OrderedDict\n\u001b[1;32m     <a href='file:///home/art/.local/share/virtualenvs/dlk_works-74zHWO1B/lib/python3.11/site-packages/transformers/tokenization_utils.py?line=23'>24</a>\u001b[0m \u001b[39mfrom\u001b[39;00m \u001b[39mtyping\u001b[39;00m \u001b[39mimport\u001b[39;00m Any, Dict, List, Optional, Tuple, Union, overload\n\u001b[0;32m---> <a href='file:///home/art/.local/share/virtualenvs/dlk_works-74zHWO1B/lib/python3.11/site-packages/transformers/tokenization_utils.py?line=25'>26</a>\u001b[0m \u001b[39mfrom\u001b[39;00m \u001b[39m.\u001b[39;00m\u001b[39mtokenization_utils_base\u001b[39;00m \u001b[39mimport\u001b[39;00m (\n\u001b[1;32m     <a href='file:///home/art/.local/share/virtualenvs/dlk_works-74zHWO1B/lib/python3.11/site-packages/transformers/tokenization_utils.py?line=26'>27</a>\u001b[0m     ENCODE_KWARGS_DOCSTRING,\n\u001b[1;32m     <a href='file:///home/art/.local/share/virtualenvs/dlk_works-74zHWO1B/lib/python3.11/site-packages/transformers/tokenization_utils.py?line=27'>28</a>\u001b[0m     ENCODE_PLUS_ADDITIONAL_KWARGS_DOCSTRING,\n\u001b[1;32m     <a href='file:///home/art/.local/share/virtualenvs/dlk_works-74zHWO1B/lib/python3.11/site-packages/transformers/tokenization_utils.py?line=28'>29</a>\u001b[0m     INIT_TOKENIZER_DOCSTRING,\n\u001b[1;32m     <a href='file:///home/art/.local/share/virtualenvs/dlk_works-74zHWO1B/lib/python3.11/site-packages/transformers/tokenization_utils.py?line=29'>30</a>\u001b[0m     AddedToken,\n\u001b[1;32m     <a href='file:///home/art/.local/share/virtualenvs/dlk_works-74zHWO1B/lib/python3.11/site-packages/transformers/tokenization_utils.py?line=30'>31</a>\u001b[0m     BatchEncoding,\n\u001b[1;32m     <a href='file:///home/art/.local/share/virtualenvs/dlk_works-74zHWO1B/lib/python3.11/site-packages/transformers/tokenization_utils.py?line=31'>32</a>\u001b[0m     EncodedInput,\n\u001b[1;32m     <a href='file:///home/art/.local/share/virtualenvs/dlk_works-74zHWO1B/lib/python3.11/site-packages/transformers/tokenization_utils.py?line=32'>33</a>\u001b[0m     EncodedInputPair,\n\u001b[1;32m     <a href='file:///home/art/.local/share/virtualenvs/dlk_works-74zHWO1B/lib/python3.11/site-packages/transformers/tokenization_utils.py?line=33'>34</a>\u001b[0m     PreTokenizedInput,\n\u001b[1;32m     <a href='file:///home/art/.local/share/virtualenvs/dlk_works-74zHWO1B/lib/python3.11/site-packages/transformers/tokenization_utils.py?line=34'>35</a>\u001b[0m     PreTokenizedInputPair,\n\u001b[1;32m     <a href='file:///home/art/.local/share/virtualenvs/dlk_works-74zHWO1B/lib/python3.11/site-packages/transformers/tokenization_utils.py?line=35'>36</a>\u001b[0m     PreTrainedTokenizerBase,\n\u001b[1;32m     <a href='file:///home/art/.local/share/virtualenvs/dlk_works-74zHWO1B/lib/python3.11/site-packages/transformers/tokenization_utils.py?line=36'>37</a>\u001b[0m     TextInput,\n\u001b[1;32m     <a href='file:///home/art/.local/share/virtualenvs/dlk_works-74zHWO1B/lib/python3.11/site-packages/transformers/tokenization_utils.py?line=37'>38</a>\u001b[0m     TextInputPair,\n\u001b[1;32m     <a href='file:///home/art/.local/share/virtualenvs/dlk_works-74zHWO1B/lib/python3.11/site-packages/transformers/tokenization_utils.py?line=38'>39</a>\u001b[0m     TruncationStrategy,\n\u001b[1;32m     <a href='file:///home/art/.local/share/virtualenvs/dlk_works-74zHWO1B/lib/python3.11/site-packages/transformers/tokenization_utils.py?line=39'>40</a>\u001b[0m )\n\u001b[1;32m     <a href='file:///home/art/.local/share/virtualenvs/dlk_works-74zHWO1B/lib/python3.11/site-packages/transformers/tokenization_utils.py?line=40'>41</a>\u001b[0m \u001b[39mfrom\u001b[39;00m \u001b[39m.\u001b[39;00m\u001b[39mutils\u001b[39;00m \u001b[39mimport\u001b[39;00m PaddingStrategy, TensorType, add_end_docstrings, logging\n\u001b[1;32m     <a href='file:///home/art/.local/share/virtualenvs/dlk_works-74zHWO1B/lib/python3.11/site-packages/transformers/tokenization_utils.py?line=43'>44</a>\u001b[0m logger \u001b[39m=\u001b[39m logging\u001b[39m.\u001b[39mget_logger(\u001b[39m__name__\u001b[39m)\n",
      "File \u001b[0;32m~/.local/share/virtualenvs/dlk_works-74zHWO1B/lib/python3.11/site-packages/transformers/tokenization_utils_base.py:75\u001b[0m\n\u001b[1;32m     <a href='file:///home/art/.local/share/virtualenvs/dlk_works-74zHWO1B/lib/python3.11/site-packages/transformers/tokenization_utils_base.py?line=70'>71</a>\u001b[0m         \u001b[39mimport\u001b[39;00m \u001b[39mjax\u001b[39;00m\u001b[39m.\u001b[39;00m\u001b[39mnumpy\u001b[39;00m \u001b[39mas\u001b[39;00m \u001b[39mjnp\u001b[39;00m  \u001b[39m# noqa: F401\u001b[39;00m\n\u001b[1;32m     <a href='file:///home/art/.local/share/virtualenvs/dlk_works-74zHWO1B/lib/python3.11/site-packages/transformers/tokenization_utils_base.py?line=73'>74</a>\u001b[0m \u001b[39mif\u001b[39;00m is_tokenizers_available():\n\u001b[0;32m---> <a href='file:///home/art/.local/share/virtualenvs/dlk_works-74zHWO1B/lib/python3.11/site-packages/transformers/tokenization_utils_base.py?line=74'>75</a>\u001b[0m     \u001b[39mfrom\u001b[39;00m \u001b[39mtokenizers\u001b[39;00m \u001b[39mimport\u001b[39;00m AddedToken\n\u001b[1;32m     <a href='file:///home/art/.local/share/virtualenvs/dlk_works-74zHWO1B/lib/python3.11/site-packages/transformers/tokenization_utils_base.py?line=75'>76</a>\u001b[0m     \u001b[39mfrom\u001b[39;00m \u001b[39mtokenizers\u001b[39;00m \u001b[39mimport\u001b[39;00m Encoding \u001b[39mas\u001b[39;00m EncodingFast\n\u001b[1;32m     <a href='file:///home/art/.local/share/virtualenvs/dlk_works-74zHWO1B/lib/python3.11/site-packages/transformers/tokenization_utils_base.py?line=76'>77</a>\u001b[0m \u001b[39melse\u001b[39;00m:\n",
      "File \u001b[0;32m~/.local/share/virtualenvs/dlk_works-74zHWO1B/lib/python3.11/site-packages/tokenizers/__init__.py:95\u001b[0m\n\u001b[1;32m     <a href='file:///home/art/.local/share/virtualenvs/dlk_works-74zHWO1B/lib/python3.11/site-packages/tokenizers/__init__.py?line=76'>77</a>\u001b[0m     CONTIGUOUS \u001b[39m=\u001b[39m \u001b[39m\"\u001b[39m\u001b[39mcontiguous\u001b[39m\u001b[39m\"\u001b[39m\n\u001b[1;32m     <a href='file:///home/art/.local/share/virtualenvs/dlk_works-74zHWO1B/lib/python3.11/site-packages/tokenizers/__init__.py?line=79'>80</a>\u001b[0m \u001b[39mfrom\u001b[39;00m \u001b[39m.\u001b[39;00m\u001b[39mtokenizers\u001b[39;00m \u001b[39mimport\u001b[39;00m (\n\u001b[1;32m     <a href='file:///home/art/.local/share/virtualenvs/dlk_works-74zHWO1B/lib/python3.11/site-packages/tokenizers/__init__.py?line=80'>81</a>\u001b[0m     AddedToken,\n\u001b[1;32m     <a href='file:///home/art/.local/share/virtualenvs/dlk_works-74zHWO1B/lib/python3.11/site-packages/tokenizers/__init__.py?line=81'>82</a>\u001b[0m     Encoding,\n\u001b[0;32m   (...)\u001b[0m\n\u001b[1;32m     <a href='file:///home/art/.local/share/virtualenvs/dlk_works-74zHWO1B/lib/python3.11/site-packages/tokenizers/__init__.py?line=92'>93</a>\u001b[0m     trainers,\n\u001b[1;32m     <a href='file:///home/art/.local/share/virtualenvs/dlk_works-74zHWO1B/lib/python3.11/site-packages/tokenizers/__init__.py?line=93'>94</a>\u001b[0m )\n\u001b[0;32m---> <a href='file:///home/art/.local/share/virtualenvs/dlk_works-74zHWO1B/lib/python3.11/site-packages/tokenizers/__init__.py?line=94'>95</a>\u001b[0m \u001b[39mfrom\u001b[39;00m \u001b[39m.\u001b[39;00m\u001b[39mimplementations\u001b[39;00m \u001b[39mimport\u001b[39;00m (\n\u001b[1;32m     <a href='file:///home/art/.local/share/virtualenvs/dlk_works-74zHWO1B/lib/python3.11/site-packages/tokenizers/__init__.py?line=95'>96</a>\u001b[0m     BertWordPieceTokenizer,\n\u001b[1;32m     <a href='file:///home/art/.local/share/virtualenvs/dlk_works-74zHWO1B/lib/python3.11/site-packages/tokenizers/__init__.py?line=96'>97</a>\u001b[0m     ByteLevelBPETokenizer,\n\u001b[1;32m     <a href='file:///home/art/.local/share/virtualenvs/dlk_works-74zHWO1B/lib/python3.11/site-packages/tokenizers/__init__.py?line=97'>98</a>\u001b[0m     CharBPETokenizer,\n\u001b[1;32m     <a href='file:///home/art/.local/share/virtualenvs/dlk_works-74zHWO1B/lib/python3.11/site-packages/tokenizers/__init__.py?line=98'>99</a>\u001b[0m     SentencePieceBPETokenizer,\n\u001b[1;32m    <a href='file:///home/art/.local/share/virtualenvs/dlk_works-74zHWO1B/lib/python3.11/site-packages/tokenizers/__init__.py?line=99'>100</a>\u001b[0m     SentencePieceUnigramTokenizer,\n\u001b[1;32m    <a href='file:///home/art/.local/share/virtualenvs/dlk_works-74zHWO1B/lib/python3.11/site-packages/tokenizers/__init__.py?line=100'>101</a>\u001b[0m )\n",
      "File \u001b[0;32m~/.local/share/virtualenvs/dlk_works-74zHWO1B/lib/python3.11/site-packages/tokenizers/implementations/__init__.py:1\u001b[0m\n\u001b[0;32m----> <a href='file:///home/art/.local/share/virtualenvs/dlk_works-74zHWO1B/lib/python3.11/site-packages/tokenizers/implementations/__init__.py?line=0'>1</a>\u001b[0m \u001b[39mfrom\u001b[39;00m \u001b[39m.\u001b[39;00m\u001b[39mbase_tokenizer\u001b[39;00m \u001b[39mimport\u001b[39;00m BaseTokenizer\n\u001b[1;32m      <a href='file:///home/art/.local/share/virtualenvs/dlk_works-74zHWO1B/lib/python3.11/site-packages/tokenizers/implementations/__init__.py?line=1'>2</a>\u001b[0m \u001b[39mfrom\u001b[39;00m \u001b[39m.\u001b[39;00m\u001b[39mbert_wordpiece\u001b[39;00m \u001b[39mimport\u001b[39;00m BertWordPieceTokenizer\n\u001b[1;32m      <a href='file:///home/art/.local/share/virtualenvs/dlk_works-74zHWO1B/lib/python3.11/site-packages/tokenizers/implementations/__init__.py?line=2'>3</a>\u001b[0m \u001b[39mfrom\u001b[39;00m \u001b[39m.\u001b[39;00m\u001b[39mbyte_level_bpe\u001b[39;00m \u001b[39mimport\u001b[39;00m ByteLevelBPETokenizer\n",
      "File \u001b[0;32m~/.local/share/virtualenvs/dlk_works-74zHWO1B/lib/python3.11/site-packages/tokenizers/implementations/base_tokenizer.py:8\u001b[0m\n\u001b[1;32m      <a href='file:///home/art/.local/share/virtualenvs/dlk_works-74zHWO1B/lib/python3.11/site-packages/tokenizers/implementations/base_tokenizer.py?line=5'>6</a>\u001b[0m \u001b[39mfrom\u001b[39;00m \u001b[39mtokenizers\u001b[39;00m\u001b[39m.\u001b[39;00m\u001b[39mnormalizers\u001b[39;00m \u001b[39mimport\u001b[39;00m Normalizer\n\u001b[1;32m      <a href='file:///home/art/.local/share/virtualenvs/dlk_works-74zHWO1B/lib/python3.11/site-packages/tokenizers/implementations/base_tokenizer.py?line=6'>7</a>\u001b[0m \u001b[39mfrom\u001b[39;00m \u001b[39mtokenizers\u001b[39;00m\u001b[39m.\u001b[39;00m\u001b[39mpre_tokenizers\u001b[39;00m \u001b[39mimport\u001b[39;00m PreTokenizer\n\u001b[0;32m----> <a href='file:///home/art/.local/share/virtualenvs/dlk_works-74zHWO1B/lib/python3.11/site-packages/tokenizers/implementations/base_tokenizer.py?line=7'>8</a>\u001b[0m \u001b[39mfrom\u001b[39;00m \u001b[39mtokenizers\u001b[39;00m\u001b[39m.\u001b[39;00m\u001b[39mprocessors\u001b[39;00m \u001b[39mimport\u001b[39;00m PostProcessor\n\u001b[1;32m     <a href='file:///home/art/.local/share/virtualenvs/dlk_works-74zHWO1B/lib/python3.11/site-packages/tokenizers/implementations/base_tokenizer.py?line=10'>11</a>\u001b[0m Offsets \u001b[39m=\u001b[39m Tuple[\u001b[39mint\u001b[39m, \u001b[39mint\u001b[39m]\n\u001b[1;32m     <a href='file:///home/art/.local/share/virtualenvs/dlk_works-74zHWO1B/lib/python3.11/site-packages/tokenizers/implementations/base_tokenizer.py?line=13'>14</a>\u001b[0m \u001b[39mclass\u001b[39;00m \u001b[39mBaseTokenizer\u001b[39;00m:\n",
      "File \u001b[0;32m<frozen importlib._bootstrap>:1178\u001b[0m, in \u001b[0;36m_find_and_load\u001b[0;34m(name, import_)\u001b[0m\n",
      "File \u001b[0;32m<frozen importlib._bootstrap>:1140\u001b[0m, in \u001b[0;36m_find_and_load_unlocked\u001b[0;34m(name, import_)\u001b[0m\n",
      "File \u001b[0;32m<frozen importlib._bootstrap>:1080\u001b[0m, in \u001b[0;36m_find_spec\u001b[0;34m(name, path, target)\u001b[0m\n",
      "File \u001b[0;32m<frozen importlib._bootstrap_external>:1504\u001b[0m, in \u001b[0;36mfind_spec\u001b[0;34m(cls, fullname, path, target)\u001b[0m\n",
      "File \u001b[0;32m<frozen importlib._bootstrap_external>:1476\u001b[0m, in \u001b[0;36m_get_spec\u001b[0;34m(cls, fullname, path, target)\u001b[0m\n",
      "File \u001b[0;32m<frozen importlib._bootstrap_external>:1627\u001b[0m, in \u001b[0;36mfind_spec\u001b[0;34m(self, fullname, target)\u001b[0m\n",
      "File \u001b[0;32m<frozen importlib._bootstrap_external>:126\u001b[0m, in \u001b[0;36m_path_join\u001b[0;34m(*path_parts)\u001b[0m\n",
      "\u001b[0;31mKeyboardInterrupt\u001b[0m: "
     ]
    }
   ],
   "metadata": {}
  },
  {
   "cell_type": "code",
   "execution_count": null,
   "source": [
    "# Experiments with T5 (UnifiedQA) model"
   ],
   "outputs": [
    {
     "output_type": "error",
     "ename": "",
     "evalue": "",
     "traceback": [
      "\u001b[1;31mCell was canceled due to an error in a previous cell."
     ]
    }
   ],
   "metadata": {}
  },
  {
   "cell_type": "code",
   "execution_count": null,
   "source": [
    "imdb_ds = load_dataset('imdb')\n",
    "samples = [\n",
    "f'''\n",
    "{imdb_ds['train']['text'][:1]}\n",
    "Did the reviewer find this movie good or bad? \n",
    "bad\n",
    "''',\n",
    "f'''\n",
    "{imdb_ds['train']['text'][:1]}\n",
    "Did the reviewer find this movie good or bad? \n",
    "good\n",
    "''',\n",
    "]"
   ],
   "outputs": [
    {
     "output_type": "error",
     "ename": "",
     "evalue": "",
     "traceback": [
      "\u001b[1;31mCell was canceled due to an error in a previous cell."
     ]
    }
   ],
   "metadata": {}
  },
  {
   "cell_type": "code",
   "execution_count": null,
   "source": [
    "def t5_experiments():\n",
    "\n",
    "    model_name = \"allenai/unifiedqa-t5-base\" \n",
    "    tokenizer = T5Tokenizer.from_pretrained(model_name)\n",
    "    model = T5ForConditionalGeneration.from_pretrained(model_name)\n",
    "\n",
    "    sample = imdb_ds['train']['text'][156:157]\n",
    "    input_ids = tokenizer.encode(f'''\n",
    "        {sample}\n",
    "        Did the reviewer find this movie good or bad?''', return_tensors=\"pt\")\n",
    "    # TODO: broken forward call.\n",
    "    # output = model.forward(input_ids=input_ids, output_hidden_states=True)\n",
    "    # pp(f\"{output['decoder_hidden_states'][0].shape=}\")\n",
    "    # l11cp = elk.training.Reporter.load(f'./data/allenai/unifiedqa-t5-base/imdb/quirky-neumann/reporters/layer_11.pt', map_location=device)\n",
    "    # pp((output['decoder_hidden_states'][0][0,-1] == output['decoder_hidden_states'][0][1,-1]).float().mean())\n",
    "    # pp(l11cp(output['decoder_hidden_states'][0][0,-1]))\n",
    "    # pp(l11cp(output['decoder_hidden_states'][0][1,-1]))\n",
    "\n",
    "#t5_experiments()"
   ],
   "outputs": [
    {
     "output_type": "error",
     "ename": "",
     "evalue": "",
     "traceback": [
      "\u001b[1;31mCell was canceled due to an error in a previous cell."
     ]
    }
   ],
   "metadata": {}
  },
  {
   "cell_type": "code",
   "execution_count": null,
   "source": [
    "# Experiments with GPT2-XL\n",
    "# Loading. Warning. This takes +16GB of RAM.\n",
    "# gpt2_xl: HookedTransformer = HookedTransformer.from_pretrained(\"gpt2-xl\")\n",
    "# gpt2_xl.eval()\n",
    "# tokenizer = gpt2_xl.tokenizer\n",
    "# pp(gpt2_xl)"
   ],
   "outputs": [
    {
     "output_type": "error",
     "ename": "",
     "evalue": "",
     "traceback": [
      "\u001b[1;31mCell was canceled due to an error in a previous cell."
     ]
    }
   ],
   "metadata": {}
  },
  {
   "cell_type": "code",
   "execution_count": null,
   "source": [
    "gpt2_xl : GPT2Model = GPT2Model.from_pretrained('gpt2-xl')\n",
    "tokenizer = GPT2Tokenizer.from_pretrained('gpt2-xl')\n",
    "gpt2_xl.eval()\n",
    "pp(gpt2_xl)"
   ],
   "outputs": [
    {
     "output_type": "error",
     "ename": "",
     "evalue": "",
     "traceback": [
      "\u001b[1;31mCell was canceled due to an error in a previous cell."
     ]
    }
   ],
   "metadata": {}
  },
  {
   "cell_type": "code",
   "execution_count": null,
   "source": [
    "# Experimenting with TruthfulQA dataset."
   ],
   "outputs": [
    {
     "output_type": "error",
     "ename": "",
     "evalue": "",
     "traceback": [
      "\u001b[1;31mCell was canceled due to an error in a previous cell."
     ]
    }
   ],
   "metadata": {}
  },
  {
   "cell_type": "code",
   "execution_count": null,
   "source": [
    "truthfulqa = load_dataset('truthful_qa', 'generation')\n",
    "# Construct statements from each correct_answer and incorrect_answer:\n",
    "correct_statements = []\n",
    "incorrect_statements = []\n",
    "for e in truthfulqa['validation']:\n",
    "    for correct_answer in e['correct_answers']:\n",
    "        correct_statements.append(f\"{e['question']} {correct_answer}.\")\n",
    "    for incorrect_answer in e['incorrect_answers']:\n",
    "        incorrect_statements.append(f\"{e['question']} {incorrect_answer}.\")\n",
    "pp(len(incorrect_statements))\n",
    "pp(len(correct_statements))"
   ],
   "outputs": [
    {
     "output_type": "error",
     "ename": "",
     "evalue": "",
     "traceback": [
      "\u001b[1;31mCell was canceled due to an error in a previous cell."
     ]
    }
   ],
   "metadata": {}
  },
  {
   "cell_type": "code",
   "execution_count": null,
   "source": [
    "# Create dataset with x as concatenated correct and incorrect 2..4 statements,\n",
    "# and y as several 0 or 1 depending on whether a correct or incorrect statement is the correct answer.\n",
    "dataset = []\n",
    "while correct_statements or incorrect_statements:\n",
    "    x : torch.Tensor = None\n",
    "    y = []\n",
    "    for _ in range(np.random.randint(2, 5)):\n",
    "        label =  np.random.randint(2)\n",
    "        statements = (correct_statements, incorrect_statements)[label]\n",
    "        if statements:\n",
    "            tokens = tokenizer.encode( statements.pop(), return_tensors='pt')\n",
    "            x = tokens if x is None else torch.concat((x, tokens), -1)\n",
    "            inx = tokens.shape[1] + (y[-1][0] if y else 0)\n",
    "            y.append((inx, label))\n",
    "    if x is not None:\n",
    "        x.squeeze_(0)\n",
    "        dataset.append((x, y))\n",
    "pp(dataset[0])        "
   ],
   "outputs": [
    {
     "output_type": "error",
     "ename": "",
     "evalue": "",
     "traceback": [
      "\u001b[1;31mCell was canceled due to an error in a previous cell."
     ]
    }
   ],
   "metadata": {}
  },
  {
   "cell_type": "code",
   "execution_count": null,
   "source": [
    "with torch.inference_mode():\n",
    "    #output, cache = gpt2_xl.run_with_cache(dataset[0][0])\n",
    "    output = gpt2_xl.forward(\n",
    "        dataset[0][0],\n",
    "        output_hidden_states=True, \n",
    "        output_attentions=True,\n",
    "    )\n",
    "    cache = output['hidden_states']"
   ],
   "outputs": [
    {
     "output_type": "error",
     "ename": "",
     "evalue": "",
     "traceback": [
      "\u001b[1;31mCell was canceled due to an error in a previous cell."
     ]
    }
   ],
   "metadata": {}
  },
  {
   "cell_type": "code",
   "execution_count": null,
   "source": [
    "pp('hidden states:')\n",
    "for i,e in enumerate(cache):\n",
    "    pp(f'{i} {e.shape}')\n",
    "pp('attentions:')\n",
    "for i,e in enumerate(output['attentions']):\n",
    "    pp(f'{i} {e.shape}')\n",
    "pp(output['last_hidden_state'].shape)"
   ],
   "outputs": [
    {
     "output_type": "error",
     "ename": "",
     "evalue": "",
     "traceback": [
      "\u001b[1;31mCell was canceled due to an error in a previous cell."
     ]
    }
   ],
   "metadata": {}
  },
  {
   "cell_type": "code",
   "execution_count": null,
   "source": [
    "# Visualizing scores per tokens\n",
    "\n",
    "def visualize(layer, reporter):\n",
    "    with torch.inference_mode():\n",
    "        #pp(cache['mlp_out', layer].shape)\n",
    "        #res = reporter(cache['mlp_out', layer][0]).sigmoid()\n",
    "        res = reporter(cache[layer].to(device)).sigmoid()\n",
    "    pp(res)\n",
    "    pp(dataset[0])\n",
    "    #for inx, label in dataset[1]:\n",
    "    #    print(inx, label)\n",
    "    #    pp(res[inx-1])\n",
    "\n",
    "    t_strs = [s.replace('Ġ', ' ') for s in tokenizer.convert_ids_to_tokens(dataset[0][0])]\n",
    "    display(cv.tokens.colored_tokens(t_strs, res[0]))"
   ],
   "outputs": [
    {
     "output_type": "error",
     "ename": "",
     "evalue": "",
     "traceback": [
      "\u001b[1;31mCell was canceled due to an error in a previous cell."
     ]
    }
   ],
   "metadata": {}
  },
  {
   "cell_type": "code",
   "execution_count": null,
   "source": [
    "for dataset_name in ('dbpedia_14', 'ag_news', 'imdb'):\n",
    "    layer=47\n",
    "    reporter = elk.training.Reporter.load(f'./data/gpt2-xl/{dataset_name}/reporters/layer_{layer}.pt', map_location=device)\n",
    "    reporter.eval()\n",
    "    print(f'Probe gpt2-xl trained on {dataset_name} for {layer}:')\n",
    "    visualize(layer, reporter)"
   ],
   "outputs": [
    {
     "output_type": "error",
     "ename": "",
     "evalue": "",
     "traceback": [
      "\u001b[1;31mCell was canceled due to an error in a previous cell."
     ]
    }
   ],
   "metadata": {}
  },
  {
   "cell_type": "code",
   "execution_count": null,
   "source": [
    "# Inner components search (IMDB dataset)"
   ],
   "outputs": [
    {
     "output_type": "error",
     "ename": "",
     "evalue": "",
     "traceback": [
      "\u001b[1;31mCell was canceled due to an error in a previous cell."
     ]
    }
   ],
   "metadata": {}
  },
  {
   "cell_type": "code",
   "execution_count": null,
   "source": [
    "sample = imdb_ds['train']['text'][156]\n",
    "sample_false = f'{sample}\\nDid the reviewer find this movie good or bad?\\nGood'\n",
    "sample_true = f'{sample}\\nDid the reviewer find this movie good or bad?\\n Bad'\n",
    "#with torch.inference_mode():\n",
    "#    _, cache_false = gpt2_xl.run_with_cache(sample_false, remove_batch_dim=True)\n",
    "#    _, cache = gpt2_xl.run_with_cache(sample_true, remove_batch_dim=True)"
   ],
   "outputs": [
    {
     "output_type": "error",
     "ename": "",
     "evalue": "",
     "traceback": [
      "\u001b[1;31mCell was canceled due to an error in a previous cell."
     ]
    }
   ],
   "metadata": {}
  },
  {
   "cell_type": "code",
   "execution_count": null,
   "source": [
    "# Visualize probe scores across layers per each head:\n",
    "\n",
    "#layers = gpt2_xl.cfg.n_layers\n",
    "layers = gpt2_xl.config.num_hidden_layers\n",
    "#heads = gpt2_xl.cfg.n_heads\n",
    "heads = gpt2_xl.config.num_attention_heads\n",
    "#seq_len = gpt2_xl.cfg.n_ctx\n",
    "head_layer_score = torch.zeros((layers, heads))\n",
    "\n",
    "def induction_score_hook(\n",
    "    result: Float[Tensor, \"batch seq head_idx d_model\"],\n",
    "    hook: HookPoint,\n",
    "):\n",
    "    global head_layer_score\n",
    "    layer = hook.layer()\n",
    "    probe = elk.training.Reporter.load(\n",
    "        f'./data/gpt2-xl/imdb/festive-elion/reporters/layer_{layer}.pt', \n",
    "        map_location=device\n",
    "    )\n",
    "    assert result.size(0) == 1, f\"Expecting one sample but: {result.shape}\"\n",
    "    score = probe(result[0, -1, :, :]).sigmoid()\n",
    "    head_layer_score[layer, :] = score\n",
    "\n",
    "gpt2_xl.run_with_hooks(\n",
    "    tokenizer.encode(sample_false, return_tensors='pt'),\n",
    "    return_type=None, # For efficiency, we don't need to calculate the logits\n",
    "    fwd_hooks=[(\n",
    "        lambda name: name.endswith(\"result\"),\n",
    "        induction_score_hook\n",
    "    )]\n",
    ")"
   ],
   "outputs": [
    {
     "output_type": "error",
     "ename": "",
     "evalue": "",
     "traceback": [
      "\u001b[1;31mCell was canceled due to an error in a previous cell."
     ]
    }
   ],
   "metadata": {}
  },
  {
   "cell_type": "code",
   "execution_count": null,
   "source": [
    "# Plot the induction scores for each head in each layer\n",
    "imshow(\n",
    "    head_layer_score, \n",
    "    labels={\"x\": \"Head\", \"y\": \"Layer\"}, \n",
    "    title=\"Probe Score by Head\", \n",
    "    text_auto=\".2f\",\n",
    "    width=900, height=400\n",
    ")"
   ],
   "outputs": [
    {
     "output_type": "error",
     "ename": "",
     "evalue": "",
     "traceback": [
      "\u001b[1;31mCell was canceled due to an error in a previous cell."
     ]
    }
   ],
   "metadata": {}
  },
  {
   "cell_type": "code",
   "execution_count": null,
   "source": [
    "for layer in range(layers):\n",
    "    probe = elk.training.Reporter.load(\n",
    "        f'./data/gpt2-xl/imdb/festive-elion/reporters/layer_{layer}.pt', \n",
    "        map_location=device\n",
    "    )\n",
    "    pp(probe)\n",
    "    act0 = cache_false['mlp_out', layer][-1].to(device)\n",
    "    act1 = cache['mlp_out', layer][-1].to(device)\n",
    "    p0 = probe(act0).item() # (act0 @ probe['probe.0.weight'].T + probe['probe.0.bias']).sigmoid().item()\n",
    "    p1 = probe(act1).item() # (act1 @ probe['probe.0.weight'].T + probe['probe.0.bias']).sigmoid().item()\n",
    "    confidence = 0.5*(p0 + (1-p1))\n",
    "    pp(f'l {layer} {p0=} {p1=} {confidence=}')"
   ],
   "outputs": [
    {
     "output_type": "error",
     "ename": "",
     "evalue": "",
     "traceback": [
      "\u001b[1;31mCell was canceled due to an error in a previous cell."
     ]
    }
   ],
   "metadata": {}
  }
 ],
 "nbformat": 4,
 "nbformat_minor": 2,
 "metadata": {
  "language_info": {
   "codemirror_mode": {
    "name": "ipython",
    "version": 3
   },
   "file_extension": ".py",
   "mimetype": "text/x-python",
   "name": "python",
   "nbconvert_exporter": "python",
   "pygments_lexer": "ipython3",
   "version": 3
  },
  "orig_nbformat": 4
 }
}